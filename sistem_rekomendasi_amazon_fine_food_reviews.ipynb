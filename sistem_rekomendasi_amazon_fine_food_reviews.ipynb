{
  "nbformat": 4,
  "nbformat_minor": 0,
  "metadata": {
    "colab": {
      "provenance": [],
      "toc_visible": true,
      "gpuType": "T4",
      "include_colab_link": true
    },
    "kernelspec": {
      "name": "python3",
      "display_name": "Python 3"
    },
    "language_info": {
      "name": "python"
    },
    "accelerator": "GPU"
  },
  "cells": [
    {
      "cell_type": "markdown",
      "metadata": {
        "id": "view-in-github",
        "colab_type": "text"
      },
      "source": [
        "<a href=\"https://colab.research.google.com/github/Anjasfedo/data-analysis/blob/main/sistem_rekomendasi_amazon_fine_food_reviews.ipynb\" target=\"_parent\"><img src=\"https://colab.research.google.com/assets/colab-badge.svg\" alt=\"Open In Colab\"/></a>"
      ]
    },
    {
      "cell_type": "markdown",
      "source": [
        "# Impor Library & Package"
      ],
      "metadata": {
        "id": "K05WDmtUasTZ"
      }
    },
    {
      "cell_type": "code",
      "execution_count": null,
      "metadata": {
        "id": "Lp0n3C2CaZl_"
      },
      "outputs": [],
      "source": [
        "import pandas as pd\n",
        "import numpy as np\n",
        "import matplotlib.pyplot as plt\n",
        "import kagglehub\n",
        "import shutil\n",
        "from sklearn.metrics import mean_squared_error\n",
        "import numpy as np\n"
      ]
    },
    {
      "cell_type": "code",
      "source": [
        "import tensorflow as tf\n",
        "\n",
        "print(\"Num GPUs Available: \", len(tf.config.list_physical_devices('GPU')))"
      ],
      "metadata": {
        "id": "HRsOkU5YhoTl",
        "outputId": "6148c737-3643-4147-f18c-96148d5aa873",
        "colab": {
          "base_uri": "https://localhost:8080/"
        }
      },
      "execution_count": null,
      "outputs": [
        {
          "output_type": "stream",
          "name": "stdout",
          "text": [
            "Num GPUs Available:  1\n"
          ]
        }
      ]
    },
    {
      "cell_type": "code",
      "source": [
        "import tensorflow as tf\n",
        "from tensorflow import keras\n",
        "from tensorflow.keras import layers\n",
        "import tensorflow as tf\n",
        "from tensorflow import keras\n",
        "from tensorflow.keras import layers"
      ],
      "metadata": {
        "id": "9nZHmzO4hrus"
      },
      "execution_count": null,
      "outputs": []
    },
    {
      "cell_type": "markdown",
      "source": [
        "# Data Understanding\n",
        "\n",
        "Penjelasan Fitur:\n",
        "- **Id**: ID unik untuk setiap review.\n",
        "- **ProductId**: ID produk makanan yang diulas.\n",
        "- **UserId**: ID pengguna yang memberikan review.\n",
        "- **ProfileName**: Nama profil pengguna.\n",
        "- **HelpfulnessNumerator**: Jumlah user yang menilai review ini 'helpful'.\n",
        "- **HelpfulnessDenominator**: Total user yang memberi penilaian helpfulness.\n",
        "- **Score**: Rating produk (1–5).\n",
        "- **Time**: Waktu (timestamp) review diberikan.\n",
        "- **Summary**: Ringkasan review.\n",
        "- **Text**: Isi lengkap review."
      ],
      "metadata": {
        "id": "RpY59ilhawJ5"
      }
    },
    {
      "cell_type": "code",
      "source": [
        "path = kagglehub.dataset_download(\"snap/amazon-fine-food-reviews\")\n",
        "\n",
        "print(\"Path to dataset files:\", path)"
      ],
      "metadata": {
        "colab": {
          "base_uri": "https://localhost:8080/"
        },
        "id": "t4SUplcbaypJ",
        "outputId": "fb35da19-dd68-47cd-f7af-14cc10f063d0"
      },
      "execution_count": null,
      "outputs": [
        {
          "output_type": "stream",
          "name": "stdout",
          "text": [
            "Path to dataset files: /kaggle/input/amazon-fine-food-reviews\n"
          ]
        }
      ]
    },
    {
      "cell_type": "code",
      "source": [
        "shutil.copy(path + \"/Reviews.csv\", \"Reviews.csv\")"
      ],
      "metadata": {
        "colab": {
          "base_uri": "https://localhost:8080/",
          "height": 35
        },
        "id": "uJgBO5uQbKVB",
        "outputId": "43c6bc40-30a1-4725-c35b-1ab11b95ed83"
      },
      "execution_count": null,
      "outputs": [
        {
          "output_type": "execute_result",
          "data": {
            "text/plain": [
              "'Reviews.csv'"
            ],
            "application/vnd.google.colaboratory.intrinsic+json": {
              "type": "string"
            }
          },
          "metadata": {},
          "execution_count": 5
        }
      ]
    },
    {
      "cell_type": "code",
      "source": [
        "df = pd.read_csv('Reviews.csv')\n",
        "\n",
        "df.info()"
      ],
      "metadata": {
        "colab": {
          "base_uri": "https://localhost:8080/"
        },
        "id": "m_rXg1xja9gZ",
        "outputId": "4dd41179-6882-4195-e6c6-cec852e8432c"
      },
      "execution_count": null,
      "outputs": [
        {
          "output_type": "stream",
          "name": "stdout",
          "text": [
            "<class 'pandas.core.frame.DataFrame'>\n",
            "RangeIndex: 568454 entries, 0 to 568453\n",
            "Data columns (total 10 columns):\n",
            " #   Column                  Non-Null Count   Dtype \n",
            "---  ------                  --------------   ----- \n",
            " 0   Id                      568454 non-null  int64 \n",
            " 1   ProductId               568454 non-null  object\n",
            " 2   UserId                  568454 non-null  object\n",
            " 3   ProfileName             568428 non-null  object\n",
            " 4   HelpfulnessNumerator    568454 non-null  int64 \n",
            " 5   HelpfulnessDenominator  568454 non-null  int64 \n",
            " 6   Score                   568454 non-null  int64 \n",
            " 7   Time                    568454 non-null  int64 \n",
            " 8   Summary                 568427 non-null  object\n",
            " 9   Text                    568454 non-null  object\n",
            "dtypes: int64(5), object(5)\n",
            "memory usage: 43.4+ MB\n"
          ]
        }
      ]
    },
    {
      "cell_type": "code",
      "source": [
        "n_users = df['UserId'].nunique()\n",
        "n_products = df['ProductId'].nunique()\n",
        "print(f\"Total unique users: {n_users}\")\n",
        "print(f\"Total unique products: {n_products}\")"
      ],
      "metadata": {
        "colab": {
          "base_uri": "https://localhost:8080/"
        },
        "id": "lsIRBAkCfRlb",
        "outputId": "677833b4-3ccf-4041-b7d5-64e871154afd"
      },
      "execution_count": null,
      "outputs": [
        {
          "output_type": "stream",
          "name": "stdout",
          "text": [
            "Total unique users: 256059\n",
            "Total unique products: 74258\n"
          ]
        }
      ]
    },
    {
      "cell_type": "code",
      "source": [
        "df['Score'].value_counts().sort_index().plot(kind='bar')\n",
        "plt.title('Distribusi Rating')\n",
        "plt.xlabel('Rating')\n",
        "plt.ylabel('Jumlah Review')\n",
        "plt.show()"
      ],
      "metadata": {
        "colab": {
          "base_uri": "https://localhost:8080/",
          "height": 467
        },
        "id": "2vDry8xsfT_6",
        "outputId": "f526d172-0ca0-4117-bbcf-31f916913392"
      },
      "execution_count": null,
      "outputs": [
        {
          "output_type": "display_data",
          "data": {
            "text/plain": [
              "<Figure size 640x480 with 1 Axes>"
            ],
            "image/png": "[encoded data removed]"
          },
          "metadata": {}
        }
      ]
    },
    {
      "cell_type": "markdown",
      "source": [
        "Distribusi rating cenderung berat ke rating tinggi (mayoritas review memberi skor 5)."
      ],
      "metadata": {
        "id": "O_T0Cpl2fWur"
      }
    },
    {
      "cell_type": "code",
      "source": [
        "print(df.isnull().sum())"
      ],
      "metadata": {
        "colab": {
          "base_uri": "https://localhost:8080/"
        },
        "id": "kKxudijffY3z",
        "outputId": "4bd73b68-4198-40e9-bc67-8af72f1483f8"
      },
      "execution_count": null,
      "outputs": [
        {
          "output_type": "stream",
          "name": "stdout",
          "text": [
            "Id                         0\n",
            "ProductId                  0\n",
            "UserId                     0\n",
            "ProfileName               26\n",
            "HelpfulnessNumerator       0\n",
            "HelpfulnessDenominator     0\n",
            "Score                      0\n",
            "Time                       0\n",
            "Summary                   27\n",
            "Text                       0\n",
            "dtype: int64\n"
          ]
        }
      ]
    },
    {
      "cell_type": "markdown",
      "source": [
        "- Dataset sangat besar, dengan >256 ribu user unik dan >74 ribu produk unik.\n",
        "- Distribusi rating condong ke rating tinggi (5).\n",
        "- Data cukup bersih, missing value sangat sedikit dan hanya di kolom non-kritis."
      ],
      "metadata": {
        "id": "9f5WDf17flXL"
      }
    },
    {
      "cell_type": "markdown",
      "source": [
        "# Data Preparation"
      ],
      "metadata": {
        "id": "kr-o87nqfqQj"
      }
    },
    {
      "cell_type": "markdown",
      "source": [
        "## Cleaning Data\n",
        "Karena jumlah missing value pada kolom `ProfileName` dan `Summary` sangat sedikit (masing-masing 26 dan 27 dari 568.454 baris), dan kedua kolom ini tidak digunakan sebagai fitur utama pada collaborative filtering, kita dapat mengabaikan atau menghapus baris tersebut jika perlu. Namun, semua kolom kunci (`ProductId`, `UserId`, `Score`, `Text`) tidak memiliki missing value."
      ],
      "metadata": {
        "id": "D7vjIoBqfsDb"
      }
    },
    {
      "cell_type": "code",
      "source": [
        "df = df.dropna(subset=[\"UserId\", \"ProductId\", \"Score\"])"
      ],
      "metadata": {
        "id": "5Ogm5gqjf6vz"
      },
      "execution_count": null,
      "outputs": []
    },
    {
      "cell_type": "markdown",
      "source": [
        "## Encoding User dan Produk\n",
        "Untuk memudahkan proses embedding pada model, kita encode `UserId` dan `ProductId` menjadi indeks integer."
      ],
      "metadata": {
        "id": "AsB_3LGuf9TL"
      }
    },
    {
      "cell_type": "code",
      "source": [
        "user_ids = df['UserId'].unique().tolist()\n",
        "user_to_user_encoded = {x: i for i, x in enumerate(user_ids)}\n",
        "user_encoded_to_user = {i: x for i, x in enumerate(user_ids)}\n",
        "\n",
        "product_ids = df['ProductId'].unique().tolist()\n",
        "product_to_product_encoded = {x: i for i, x in enumerate(product_ids)}\n",
        "product_encoded_to_product = {i: x for i, x in enumerate(product_ids)}\n",
        "\n",
        "df['user'] = df['UserId'].map(user_to_user_encoded)\n",
        "df['product'] = df['ProductId'].map(product_to_product_encoded)\n",
        "df['Score'] = df['Score'].astype(np.float32)\n",
        "\n",
        "df.head()"
      ],
      "metadata": {
        "colab": {
          "base_uri": "https://localhost:8080/",
          "height": 293
        },
        "id": "37MCW7oRf-Ea",
        "outputId": "9d1c6fab-859c-46ec-dc4c-54da8875da81"
      },
      "execution_count": null,
      "outputs": [
        {
          "output_type": "execute_result",
          "data": {
            "text/plain": [
              "   Id   ProductId          UserId                      ProfileName  \\\n",
              "0   1  B001E4KFG0  A3SGXH7AUHU8GW                       delmartian   \n",
              "1   2  B00813GRG4  A1D87F6ZCVE5NK                           dll pa   \n",
              "2   3  B000LQOCH0   ABXLMWJIXXAIN  Natalia Corres \"Natalia Corres\"   \n",
              "3   4  B000UA0QIQ  A395BORC6FGVXV                             Karl   \n",
              "4   5  B006K2ZZ7K  A1UQRSCLF8GW1T    Michael D. Bigham \"M. Wassir\"   \n",
              "\n",
              "   HelpfulnessNumerator  HelpfulnessDenominator  Score        Time  \\\n",
              "0                     1                       1    5.0  1303862400   \n",
              "1                     0                       0    1.0  1346976000   \n",
              "2                     1                       1    4.0  1219017600   \n",
              "3                     3                       3    2.0  1307923200   \n",
              "4                     0                       0    5.0  1350777600   \n",
              "\n",
              "                 Summary                                               Text  \\\n",
              "0  Good Quality Dog Food  I have bought several of the Vitality canned d...   \n",
              "1      Not as Advertised  Product arrived labeled as Jumbo Salted Peanut...   \n",
              "2  \"Delight\" says it all  This is a confection that has been around a fe...   \n",
              "3         Cough Medicine  If you are looking for the secret ingredient i...   \n",
              "4            Great taffy  Great taffy at a great price.  There was a wid...   \n",
              "\n",
              "   user  product  \n",
              "0     0        0  \n",
              "1     1        1  \n",
              "2     2        2  \n",
              "3     3        3  \n",
              "4     4        4  "
            ],
            "text/html": [
              "\n",
              "  <div id=\"df-3b6fa3d3-4c9e-4cdd-a49e-c2938af43ef0\" class=\"colab-df-container\">\n",
              "    <div>\n",
              "<style scoped>\n",
              "    .dataframe tbody tr th:only-of-type {\n",
              "        vertical-align: middle;\n",
              "    }\n",
              "\n",
              "    .dataframe tbody tr th {\n",
              "        vertical-align: top;\n",
              "    }\n",
              "\n",
              "    .dataframe thead th {\n",
              "        text-align: right;\n",
              "    }\n",
              "</style>\n",
              "<table border=\"1\" class=\"dataframe\">\n",
              "  <thead>\n",
              "    <tr style=\"text-align: right;\">\n",
              "      <th></th>\n",
              "      <th>Id</th>\n",
              "      <th>ProductId</th>\n",
              "      <th>UserId</th>\n",
              "      <th>ProfileName</th>\n",
              "      <th>HelpfulnessNumerator</th>\n",
              "      <th>HelpfulnessDenominator</th>\n",
              "      <th>Score</th>\n",
              "      <th>Time</th>\n",
              "      <th>Summary</th>\n",
              "      <th>Text</th>\n",
              "      <th>user</th>\n",
              "      <th>product</th>\n",
              "    </tr>\n",
              "  </thead>\n",
              "  <tbody>\n",
              "    <tr>\n",
              "      <th>0</th>\n",
              "      <td>1</td>\n",
              "      <td>B001E4KFG0</td>\n",
              "      <td>A3SGXH7AUHU8GW</td>\n",
              "      <td>delmartian</td>\n",
              "      <td>1</td>\n",
              "      <td>1</td>\n",
              "      <td>5.0</td>\n",
              "      <td>1303862400</td>\n",
              "      <td>Good Quality Dog Food</td>\n",
              "      <td>I have bought several of the Vitality canned d...</td>\n",
              "      <td>0</td>\n",
              "      <td>0</td>\n",
              "    </tr>\n",
              "    <tr>\n",
              "      <th>1</th>\n",
              "      <td>2</td>\n",
              "      <td>B00813GRG4</td>\n",
              "      <td>A1D87F6ZCVE5NK</td>\n",
              "      <td>dll pa</td>\n",
              "      <td>0</td>\n",
              "      <td>0</td>\n",
              "      <td>1.0</td>\n",
              "      <td>1346976000</td>\n",
              "      <td>Not as Advertised</td>\n",
              "      <td>Product arrived labeled as Jumbo Salted Peanut...</td>\n",
              "      <td>1</td>\n",
              "      <td>1</td>\n",
              "    </tr>\n",
              "    <tr>\n",
              "      <th>2</th>\n",
              "      <td>3</td>\n",
              "      <td>B000LQOCH0</td>\n",
              "      <td>ABXLMWJIXXAIN</td>\n",
              "      <td>Natalia Corres \"Natalia Corres\"</td>\n",
              "      <td>1</td>\n",
              "      <td>1</td>\n",
              "      <td>4.0</td>\n",
              "      <td>1219017600</td>\n",
              "      <td>\"Delight\" says it all</td>\n",
              "      <td>This is a confection that has been around a fe...</td>\n",
              "      <td>2</td>\n",
              "      <td>2</td>\n",
              "    </tr>\n",
              "    <tr>\n",
              "      <th>3</th>\n",
              "      <td>4</td>\n",
              "      <td>B000UA0QIQ</td>\n",
              "      <td>A395BORC6FGVXV</td>\n",
              "      <td>Karl</td>\n",
              "      <td>3</td>\n",
              "      <td>3</td>\n",
              "      <td>2.0</td>\n",
              "      <td>1307923200</td>\n",
              "      <td>Cough Medicine</td>\n",
              "      <td>If you are looking for the secret ingredient i...</td>\n",
              "      <td>3</td>\n",
              "      <td>3</td>\n",
              "    </tr>\n",
              "    <tr>\n",
              "      <th>4</th>\n",
              "      <td>5</td>\n",
              "      <td>B006K2ZZ7K</td>\n",
              "      <td>A1UQRSCLF8GW1T</td>\n",
              "      <td>Michael D. Bigham \"M. Wassir\"</td>\n",
              "      <td>0</td>\n",
              "      <td>0</td>\n",
              "      <td>5.0</td>\n",
              "      <td>1350777600</td>\n",
              "      <td>Great taffy</td>\n",
              "      <td>Great taffy at a great price.  There was a wid...</td>\n",
              "      <td>4</td>\n",
              "      <td>4</td>\n",
              "    </tr>\n",
              "  </tbody>\n",
              "</table>\n",
              "</div>\n",
              "    <div class=\"colab-df-buttons\">\n",
              "\n",
              "  <div class=\"colab-df-container\">\n",
              "    <button class=\"colab-df-convert\" onclick=\"convertToInteractive('df-3b6fa3d3-4c9e-4cdd-a49e-c2938af43ef0')\"\n",
              "            title=\"Convert this dataframe to an interactive table.\"\n",
              "            style=\"display:none;\">\n",
              "\n",
              "  <svg xmlns=\"http://www.w3.org/2000/svg\" height=\"24px\" viewBox=\"0 -960 960 960\">\n",
              "    <path d=\"M120-120v-720h720v720H120Zm60-500h600v-160H180v160Zm220 220h160v-160H400v160Zm0 220h160v-160H400v160ZM180-400h160v-160H180v160Zm440 0h160v-160H620v160ZM180-180h160v-160H180v160Zm440 0h160v-160H620v160Z\"/>\n",
              "  </svg>\n",
              "    </button>\n",
              "\n",
              "  <style>\n",
              "    .colab-df-container {\n",
              "      display:flex;\n",
              "      gap: 12px;\n",
              "    }\n",
              "\n",
              "    .colab-df-convert {\n",
              "      background-color: #E8F0FE;\n",
              "      border: none;\n",
              "      border-radius: 50%;\n",
              "      cursor: pointer;\n",
              "      display: none;\n",
              "      fill: #1967D2;\n",
              "      height: 32px;\n",
              "      padding: 0 0 0 0;\n",
              "      width: 32px;\n",
              "    }\n",
              "\n",
              "    .colab-df-convert:hover {\n",
              "      background-color: #E2EBFA;\n",
              "      box-shadow: 0px 1px 2px rgba(60, 64, 67, 0.3), 0px 1px 3px 1px rgba(60, 64, 67, 0.15);\n",
              "      fill: #174EA6;\n",
              "    }\n",
              "\n",
              "    .colab-df-buttons div {\n",
              "      margin-bottom: 4px;\n",
              "    }\n",
              "\n",
              "    [theme=dark] .colab-df-convert {\n",
              "      background-color: #3B4455;\n",
              "      fill: #D2E3FC;\n",
              "    }\n",
              "\n",
              "    [theme=dark] .colab-df-convert:hover {\n",
              "      background-color: #434B5C;\n",
              "      box-shadow: 0px 1px 3px 1px rgba(0, 0, 0, 0.15);\n",
              "      filter: drop-shadow(0px 1px 2px rgba(0, 0, 0, 0.3));\n",
              "      fill: #FFFFFF;\n",
              "    }\n",
              "  </style>\n",
              "\n",
              "    <script>\n",
              "      const buttonEl =\n",
              "        document.querySelector('#df-3b6fa3d3-4c9e-4cdd-a49e-c2938af43ef0 button.colab-df-convert');\n",
              "      buttonEl.style.display =\n",
              "        google.colab.kernel.accessAllowed ? 'block' : 'none';\n",
              "\n",
              "      async function convertToInteractive(key) {\n",
              "        const element = document.querySelector('#df-3b6fa3d3-4c9e-4cdd-a49e-c2938af43ef0');\n",
              "        const dataTable =\n",
              "          await google.colab.kernel.invokeFunction('convertToInteractive',\n",
              "                                                    [key], {});\n",
              "        if (!dataTable) return;\n",
              "\n",
              "        const docLinkHtml = 'Like what you see? Visit the ' +\n",
              "          '<a target=\"_blank\" href=https://colab.research.google.com/notebooks/data_table.ipynb>data table notebook</a>'\n",
              "          + ' to learn more about interactive tables.';\n",
              "        element.innerHTML = '';\n",
              "        dataTable['output_type'] = 'display_data';\n",
              "        await google.colab.output.renderOutput(dataTable, element);\n",
              "        const docLink = document.createElement('div');\n",
              "        docLink.innerHTML = docLinkHtml;\n",
              "        element.appendChild(docLink);\n",
              "      }\n",
              "    </script>\n",
              "  </div>\n",
              "\n",
              "\n",
              "    <div id=\"df-d06463a0-cb45-49a9-8dbb-2919364d8ea6\">\n",
              "      <button class=\"colab-df-quickchart\" onclick=\"quickchart('df-d06463a0-cb45-49a9-8dbb-2919364d8ea6')\"\n",
              "                title=\"Suggest charts\"\n",
              "                style=\"display:none;\">\n",
              "\n",
              "<svg xmlns=\"http://www.w3.org/2000/svg\" height=\"24px\"viewBox=\"0 0 24 24\"\n",
              "     width=\"24px\">\n",
              "    <g>\n",
              "        <path d=\"M19 3H5c-1.1 0-2 .9-2 2v14c0 1.1.9 2 2 2h14c1.1 0 2-.9 2-2V5c0-1.1-.9-2-2-2zM9 17H7v-7h2v7zm4 0h-2V7h2v10zm4 0h-2v-4h2v4z\"/>\n",
              "    </g>\n",
              "</svg>\n",
              "      </button>\n",
              "\n",
              "<style>\n",
              "  .colab-df-quickchart {\n",
              "      --bg-color: #E8F0FE;\n",
              "      --fill-color: #1967D2;\n",
              "      --hover-bg-color: #E2EBFA;\n",
              "      --hover-fill-color: #174EA6;\n",
              "      --disabled-fill-color: #AAA;\n",
              "      --disabled-bg-color: #DDD;\n",
              "  }\n",
              "\n",
              "  [theme=dark] .colab-df-quickchart {\n",
              "      --bg-color: #3B4455;\n",
              "      --fill-color: #D2E3FC;\n",
              "      --hover-bg-color: #434B5C;\n",
              "      --hover-fill-color: #FFFFFF;\n",
              "      --disabled-bg-color: #3B4455;\n",
              "      --disabled-fill-color: #666;\n",
              "  }\n",
              "\n",
              "  .colab-df-quickchart {\n",
              "    background-color: var(--bg-color);\n",
              "    border: none;\n",
              "    border-radius: 50%;\n",
              "    cursor: pointer;\n",
              "    display: none;\n",
              "    fill: var(--fill-color);\n",
              "    height: 32px;\n",
              "    padding: 0;\n",
              "    width: 32px;\n",
              "  }\n",
              "\n",
              "  .colab-df-quickchart:hover {\n",
              "    background-color: var(--hover-bg-color);\n",
              "    box-shadow: 0 1px 2px rgba(60, 64, 67, 0.3), 0 1px 3px 1px rgba(60, 64, 67, 0.15);\n",
              "    fill: var(--button-hover-fill-color);\n",
              "  }\n",
              "\n",
              "  .colab-df-quickchart-complete:disabled,\n",
              "  .colab-df-quickchart-complete:disabled:hover {\n",
              "    background-color: var(--disabled-bg-color);\n",
              "    fill: var(--disabled-fill-color);\n",
              "    box-shadow: none;\n",
              "  }\n",
              "\n",
              "  .colab-df-spinner {\n",
              "    border: 2px solid var(--fill-color);\n",
              "    border-color: transparent;\n",
              "    border-bottom-color: var(--fill-color);\n",
              "    animation:\n",
              "      spin 1s steps(1) infinite;\n",
              "  }\n",
              "\n",
              "  @keyframes spin {\n",
              "    0% {\n",
              "      border-color: transparent;\n",
              "      border-bottom-color: var(--fill-color);\n",
              "      border-left-color: var(--fill-color);\n",
              "    }\n",
              "    20% {\n",
              "      border-color: transparent;\n",
              "      border-left-color: var(--fill-color);\n",
              "      border-top-color: var(--fill-color);\n",
              "    }\n",
              "    30% {\n",
              "      border-color: transparent;\n",
              "      border-left-color: var(--fill-color);\n",
              "      border-top-color: var(--fill-color);\n",
              "      border-right-color: var(--fill-color);\n",
              "    }\n",
              "    40% {\n",
              "      border-color: transparent;\n",
              "      border-right-color: var(--fill-color);\n",
              "      border-top-color: var(--fill-color);\n",
              "    }\n",
              "    60% {\n",
              "      border-color: transparent;\n",
              "      border-right-color: var(--fill-color);\n",
              "    }\n",
              "    80% {\n",
              "      border-color: transparent;\n",
              "      border-right-color: var(--fill-color);\n",
              "      border-bottom-color: var(--fill-color);\n",
              "    }\n",
              "    90% {\n",
              "      border-color: transparent;\n",
              "      border-bottom-color: var(--fill-color);\n",
              "    }\n",
              "  }\n",
              "</style>\n",
              "\n",
              "      <script>\n",
              "        async function quickchart(key) {\n",
              "          const quickchartButtonEl =\n",
              "            document.querySelector('#' + key + ' button');\n",
              "          quickchartButtonEl.disabled = true;  // To prevent multiple clicks.\n",
              "          quickchartButtonEl.classList.add('colab-df-spinner');\n",
              "          try {\n",
              "            const charts = await google.colab.kernel.invokeFunction(\n",
              "                'suggestCharts', [key], {});\n",
              "          } catch (error) {\n",
              "            console.error('Error during call to suggestCharts:', error);\n",
              "          }\n",
              "          quickchartButtonEl.classList.remove('colab-df-spinner');\n",
              "          quickchartButtonEl.classList.add('colab-df-quickchart-complete');\n",
              "        }\n",
              "        (() => {\n",
              "          let quickchartButtonEl =\n",
              "            document.querySelector('#df-d06463a0-cb45-49a9-8dbb-2919364d8ea6 button');\n",
              "          quickchartButtonEl.style.display =\n",
              "            google.colab.kernel.accessAllowed ? 'block' : 'none';\n",
              "        })();\n",
              "      </script>\n",
              "    </div>\n",
              "\n",
              "    </div>\n",
              "  </div>\n"
            ],
            "application/vnd.google.colaboratory.intrinsic+json": {
              "type": "dataframe",
              "variable_name": "df"
            }
          },
          "metadata": {},
          "execution_count": 11
        }
      ]
    },
    {
      "cell_type": "code",
      "source": [
        "num_users = len(user_to_user_encoded)\n",
        "num_products = len(product_encoded_to_product)\n",
        "min_rating = df['Score'].min()\n",
        "max_rating = df['Score'].max()\n",
        "print(f\"Number of users: {num_users}\")\n",
        "print(f\"Number of products: {num_products}\")\n",
        "print(f\"Min rating: {min_rating}\")\n",
        "print(f\"Max rating: {max_rating}\")"
      ],
      "metadata": {
        "id": "VjaCbiQJgvVL",
        "outputId": "e17c02a6-873d-4930-b73f-9e889daf27e5",
        "colab": {
          "base_uri": "https://localhost:8080/"
        }
      },
      "execution_count": null,
      "outputs": [
        {
          "output_type": "stream",
          "name": "stdout",
          "text": [
            "Number of users: 256059\n",
            "Number of products: 74258\n",
            "Min rating: 1.0\n",
            "Max rating: 5.0\n"
          ]
        }
      ]
    },
    {
      "cell_type": "markdown",
      "source": [
        "## Split Data: Training dan Validation\n",
        "Data diacak terlebih dahulu, lalu dibagi menjadi 80% untuk training dan 20% untuk validation. Skor rating dinormalisasi ke skala 0-1 untuk memudahkan training."
      ],
      "metadata": {
        "id": "aYTeR8ycgnlb"
      }
    },
    {
      "cell_type": "code",
      "source": [
        "df = df.sample(frac=1, random_state=42)\n",
        "x = df[['user', 'product']].values\n",
        "y = df['Score'].apply(lambda x: (x - min_rating) / (max_rating - min_rating)).values\n",
        "\n",
        "train_indices = int(0.8 * df.shape[0])\n",
        "x_train, x_val = x[:train_indices], x[train_indices:]\n",
        "y_train, y_val = y[:train_indices], y[train_indices:]"
      ],
      "metadata": {
        "id": "FCeMal_1gL8b"
      },
      "execution_count": null,
      "outputs": []
    },
    {
      "cell_type": "markdown",
      "source": [
        "# Modeling\n",
        "Setelah data siap, kita masuk ke tahap pembuatan dan pelatihan model sistem rekomendasi menggunakan **Collaborative Filtering** berbasis Neural Network (Matrix Factorization dengan embedding). Model yang akan kita bangun bertujuan mempelajari representasi (embedding) dari setiap user dan produk, lalu memprediksi skor kecocokan antara user dan produk tersebut."
      ],
      "metadata": {
        "id": "GO1RDM6kg2Uj"
      }
    },
    {
      "cell_type": "markdown",
      "source": [
        "## Definisikan Model RecommenderNet\n",
        "Model menggunakan dua embedding layer (untuk user dan produk), masing-masing dipadukan dengan bias. Output model berupa skor prediksi rating dengan aktivasi sigmoid agar berada pada rentang [0, 1].\n"
      ],
      "metadata": {
        "id": "4t6gi_NGg6AE"
      }
    },
    {
      "cell_type": "code",
      "source": [
        "class RecommenderNet(tf.keras.Model):\n",
        "    def __init__(self, num_users, num_products, embedding_size=50, **kwargs):\n",
        "        super(RecommenderNet, self).__init__(**kwargs)\n",
        "        self.user_embedding = layers.Embedding(num_users, embedding_size,\n",
        "                                               embeddings_initializer='he_normal',\n",
        "                                               embeddings_regularizer=keras.regularizers.l2(1e-6))\n",
        "        self.user_bias = layers.Embedding(num_users, 1)\n",
        "        self.product_embedding = layers.Embedding(num_products, embedding_size,\n",
        "                                                  embeddings_initializer='he_normal',\n",
        "                                                  embeddings_regularizer=keras.regularizers.l2(1e-6))\n",
        "        self.product_bias = layers.Embedding(num_products, 1)\n",
        "\n",
        "    def call(self, inputs):\n",
        "        user_vector = self.user_embedding(inputs[:, 0])\n",
        "        user_bias = self.user_bias(inputs[:, 0])\n",
        "        product_vector = self.product_embedding(inputs[:, 1])\n",
        "        product_bias = self.product_bias(inputs[:, 1])\n",
        "        dot_user_product = tf.tensordot(user_vector, product_vector, 2)\n",
        "        x = dot_user_product + user_bias + product_bias\n",
        "        return tf.nn.sigmoid(x)"
      ],
      "metadata": {
        "id": "T4jYy1Msg9QD"
      },
      "execution_count": null,
      "outputs": []
    },
    {
      "cell_type": "markdown",
      "source": [
        "##  Kompilasi Model\n",
        "\n",
        "Kita gunakan:\n",
        "- **Loss function**: Binary Crossentropy (karena skor sudah dinormalisasi ke 0-1)\n",
        "- **Optimizer**: Adam\n",
        "- **Metrics**: Root Mean Squared Error (RMSE)"
      ],
      "metadata": {
        "id": "iGnGgqn5hC0T"
      }
    },
    {
      "cell_type": "code",
      "source": [
        "model = RecommenderNet(num_users, num_products, embedding_size=50)\n",
        "model.compile(\n",
        "    loss=tf.keras.losses.BinaryCrossentropy(),\n",
        "    optimizer=keras.optimizers.Adam(learning_rate=0.001),\n",
        "    metrics=[tf.keras.metrics.RootMeanSquaredError()]\n",
        ")"
      ],
      "metadata": {
        "id": "EAX8mtCMhFg0"
      },
      "execution_count": null,
      "outputs": []
    },
    {
      "cell_type": "markdown",
      "source": [
        "## Training Model"
      ],
      "metadata": {
        "id": "Eta0qO91hG-k"
      }
    },
    {
      "cell_type": "code",
      "source": [
        "history = model.fit(\n",
        "    x=x_train,\n",
        "    y=y_train,\n",
        "    batch_size=256,\n",
        "    epochs=100,\n",
        "    validation_data=(x_val, y_val)\n",
        ")"
      ],
      "metadata": {
        "colab": {
          "base_uri": "https://localhost:8080/"
        },
        "id": "4Wls_ZmLhIYb",
        "outputId": "5f4b5dd6-ab22-4fe8-9626-4994f0c66596"
      },
      "execution_count": null,
      "outputs": [
        {
          "output_type": "stream",
          "name": "stdout",
          "text": [
            "Epoch 1/10\n",
            "\u001b[1m1777/1777\u001b[0m \u001b[32m━━━━━━━━━━━━━━━━━━━━\u001b[0m\u001b[37m\u001b[0m \u001b[1m17s\u001b[0m 7ms/step - loss: 0.5889 - root_mean_squared_error: 0.3791 - val_loss: 0.5092 - val_root_mean_squared_error: 0.3267\n",
            "Epoch 2/10\n",
            "\u001b[1m1777/1777\u001b[0m \u001b[32m━━━━━━━━━━━━━━━━━━━━\u001b[0m\u001b[37m\u001b[0m \u001b[1m12s\u001b[0m 7ms/step - loss: 0.5115 - root_mean_squared_error: 0.3255 - val_loss: 0.5420 - val_root_mean_squared_error: 0.3430\n",
            "Epoch 3/10\n",
            "\u001b[1m1777/1777\u001b[0m \u001b[32m━━━━━━━━━━━━━━━━━━━━\u001b[0m\u001b[37m\u001b[0m \u001b[1m20s\u001b[0m 6ms/step - loss: 0.5507 - root_mean_squared_error: 0.3404 - val_loss: 0.5725 - val_root_mean_squared_error: 0.3573\n",
            "Epoch 4/10\n",
            "\u001b[1m1777/1777\u001b[0m \u001b[32m━━━━━━━━━━━━━━━━━━━━\u001b[0m\u001b[37m\u001b[0m \u001b[1m12s\u001b[0m 7ms/step - loss: 0.6682 - root_mean_squared_error: 0.3936 - val_loss: 0.5665 - val_root_mean_squared_error: 0.3433\n",
            "Epoch 5/10\n",
            "\u001b[1m1777/1777\u001b[0m \u001b[32m━━━━━━━━━━━━━━━━━━━━\u001b[0m\u001b[37m\u001b[0m \u001b[1m13s\u001b[0m 7ms/step - loss: 0.7453 - root_mean_squared_error: 0.4041 - val_loss: 0.5835 - val_root_mean_squared_error: 0.3448\n",
            "Epoch 6/10\n",
            "\u001b[1m1777/1777\u001b[0m \u001b[32m━━━━━━━━━━━━━━━━━━━━\u001b[0m\u001b[37m\u001b[0m \u001b[1m11s\u001b[0m 6ms/step - loss: 0.8519 - root_mean_squared_error: 0.4403 - val_loss: 0.6942 - val_root_mean_squared_error: 0.3510\n",
            "Epoch 7/10\n",
            "\u001b[1m1777/1777\u001b[0m \u001b[32m━━━━━━━━━━━━━━━━━━━━\u001b[0m\u001b[37m\u001b[0m \u001b[1m11s\u001b[0m 6ms/step - loss: 0.8836 - root_mean_squared_error: 0.4148 - val_loss: 0.6832 - val_root_mean_squared_error: 0.3521\n",
            "Epoch 8/10\n",
            "\u001b[1m1777/1777\u001b[0m \u001b[32m━━━━━━━━━━━━━━━━━━━━\u001b[0m\u001b[37m\u001b[0m \u001b[1m22s\u001b[0m 7ms/step - loss: 1.1735 - root_mean_squared_error: 0.4971 - val_loss: 1.1141 - val_root_mean_squared_error: 0.3749\n",
            "Epoch 9/10\n",
            "\u001b[1m1777/1777\u001b[0m \u001b[32m━━━━━━━━━━━━━━━━━━━━\u001b[0m\u001b[37m\u001b[0m \u001b[1m19s\u001b[0m 6ms/step - loss: 1.0534 - root_mean_squared_error: 0.4151 - val_loss: 0.8067 - val_root_mean_squared_error: 0.3576\n",
            "Epoch 10/10\n",
            "\u001b[1m1777/1777\u001b[0m \u001b[32m━━━━━━━━━━━━━━━━━━━━\u001b[0m\u001b[37m\u001b[0m \u001b[1m20s\u001b[0m 6ms/step - loss: 1.7076 - root_mean_squared_error: 0.5500 - val_loss: 1.6216 - val_root_mean_squared_error: 0.3837\n"
          ]
        }
      ]
    },
    {
      "cell_type": "markdown",
      "source": [
        "## Visualisasi Proses Training"
      ],
      "metadata": {
        "id": "94vcYr3GhL2i"
      }
    },
    {
      "cell_type": "code",
      "source": [
        "plt.plot(history.history['root_mean_squared_error'])\n",
        "plt.plot(history.history['val_root_mean_squared_error'])\n",
        "plt.title('Model RMSE')\n",
        "plt.ylabel('RMSE')\n",
        "plt.xlabel('Epoch')\n",
        "plt.legend(['Train', 'Validation'], loc='upper left')\n",
        "plt.show()"
      ],
      "metadata": {
        "id": "uXgt3o0uhN6U",
        "outputId": "b53f3eb4-efda-4f24-e378-72db7cbf8a46",
        "colab": {
          "base_uri": "https://localhost:8080/",
          "height": 472
        }
      },
      "execution_count": null,
      "outputs": [
        {
          "output_type": "display_data",
          "data": {
            "text/plain": [
              "<Figure size 640x480 with 1 Axes>"
            ],
            "image/png": "[encoded data removed]"
          },
          "metadata": {}
        }
      ]
    },
    {
      "cell_type": "markdown",
      "source": [
        "# Evaluation\n",
        "Setelah model collaborative filtering selesai dilatih, tahap selanjutnya adalah mengevaluasi performa model. Evaluasi dilakukan untuk mengetahui seberapa baik model memprediksi rating dan memberikan rekomendasi yang relevan."
      ],
      "metadata": {
        "id": "zo2VQxwGiChs"
      }
    },
    {
      "cell_type": "markdown",
      "source": [
        "## Root Mean Squared Error (RMSE)\n",
        "\n",
        "Selama proses training, kita sudah memantau metrik RMSE pada data training dan validasi. RMSE mengukur rata-rata error prediksi rating model terhadap rating sebenarnya (setelah dinormalisasi ke 0-1).\n"
      ],
      "metadata": {
        "id": "xr0G012HiGQE"
      }
    },
    {
      "cell_type": "code",
      "source": [
        "y_pred = model.predict(x_val)\n",
        "\n",
        "rmse = np.sqrt(mean_squared_error(y_val, y_pred))\n",
        "print(f\"Validation RMSE: {rmse:.4f}\")"
      ],
      "metadata": {
        "id": "zVX2p7QciI9k",
        "outputId": "f29d52ce-e0fb-4952-8e8f-f916211c0c99",
        "colab": {
          "base_uri": "https://localhost:8080/"
        }
      },
      "execution_count": null,
      "outputs": [
        {
          "output_type": "stream",
          "name": "stdout",
          "text": [
            "\u001b[1m3553/3553\u001b[0m \u001b[32m━━━━━━━━━━━━━━━━━━━━\u001b[0m\u001b[37m\u001b[0m \u001b[1m5s\u001b[0m 1ms/step\n",
            "Validation RMSE: 0.3287\n"
          ]
        }
      ]
    },
    {
      "cell_type": "markdown",
      "source": [
        "Nilai RMSE yang kecil menunjukkan model semakin baik dalam memprediksi rating user terhadap produk.\n"
      ],
      "metadata": {
        "id": "qKTZFNMwiU-z"
      }
    },
    {
      "cell_type": "markdown",
      "source": [
        "# Percobaan Sistem Rekomendasi (Recommendation Experiment)\n",
        "Tahap ini bertujuan menguji kemampuan sistem dalam memberikan rekomendasi produk makanan untuk user tertentu. Prosesnya adalah:\n",
        "\n",
        "1. **Ambil sample user secara acak**.\n",
        "2. **Identifikasi produk yang sudah pernah di-rating oleh user**.\n",
        "3. **Tentukan produk yang belum pernah di-rating user** (produk kandidat rekomendasi).\n",
        "4. **Prediksi skor semua produk kandidat** dengan model.\n",
        "5. **Ambil Top-N produk dengan skor tertinggi** sebagai rekomendasi.\n",
        "6. **Bandingkan dengan produk yang pernah diberi rating tinggi oleh user**."
      ],
      "metadata": {
        "id": "UzYlzTksiVkf"
      }
    },
    {
      "cell_type": "code",
      "source": [
        "user_id = df['UserId'].sample(1).iloc[0]\n",
        "user_encoded = user_to_user_encoded[user_id]\n",
        "\n",
        "products_rated_by_user = df[df['UserId'] == user_id]['ProductId'].values\n",
        "\n",
        "products_not_rated = list(set(product_ids) - set(products_rated_by_user))\n",
        "\n",
        "products_not_rated_encoded = [product_to_product_encoded[x] for x in products_not_rated]\n",
        "\n",
        "user_array = np.array([user_encoded] * len(products_not_rated_encoded))\n",
        "product_array = np.array(products_not_rated_encoded)\n",
        "input_array = np.vstack([user_array, product_array]).T\n",
        "\n",
        "predicted_scores = model.predict(input_array).flatten()\n",
        "\n",
        "top_indices = predicted_scores.argsort()[-10:][::-1]\n",
        "recommended_product_indices = [products_not_rated_encoded[i] for i in top_indices]\n",
        "recommended_product_ids = [product_encoded_to_product[i] for i in recommended_product_indices]\n",
        "\n",
        "print(f\"Rekomendasi produk untuk user: {user_id}\")\n",
        "print(\"=\"*40)\n",
        "print(\"Produk dengan rating tinggi dari user:\")\n",
        "top_user_products = (\n",
        "    df[df['UserId'] == user_id]\n",
        "    .sort_values(by='Score', ascending=False)\n",
        "    .head(5)['ProductId']\n",
        "    .values\n",
        ")\n",
        "for pid in top_user_products:\n",
        "    print(pid)\n",
        "print(\"=\"*40)\n",
        "print(\"Top 10 rekomendasi produk:\")\n",
        "for pid in recommended_product_ids:\n",
        "    print(pid)"
      ],
      "metadata": {
        "id": "QTxT3myViotU",
        "outputId": "28db5e96-a6e0-4fac-9f49-b5c67b0be6c7",
        "colab": {
          "base_uri": "https://localhost:8080/"
        }
      },
      "execution_count": null,
      "outputs": [
        {
          "output_type": "stream",
          "name": "stdout",
          "text": [
            "\u001b[1m2321/2321\u001b[0m \u001b[32m━━━━━━━━━━━━━━━━━━━━\u001b[0m\u001b[37m\u001b[0m \u001b[1m4s\u001b[0m 2ms/step\n",
            "Rekomendasi produk untuk user: A21HPOBT647UHO\n",
            "========================================\n",
            "Produk dengan rating tinggi dari user:\n",
            "B00384ABT0\n",
            "B0016687F2\n",
            "B00384GGLC\n",
            "B00384GGGC\n",
            "========================================\n",
            "Top 10 rekomendasi produk:\n",
            "B000NMJWZO\n",
            "B000GAT6NG\n",
            "B003B3OOPA\n",
            "B001E8DHPW\n",
            "B004EAGP74\n",
            "B001EQ5JLE\n",
            "B001EO5Q64\n",
            "B000ED9L9E\n",
            "B0030VJ79Q\n",
            "B0026RQTGE\n"
          ]
        }
      ]
    }
  ]
}