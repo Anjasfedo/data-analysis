{
  "nbformat": 4,
  "nbformat_minor": 0,
  "metadata": {
    "colab": {
      "provenance": [],
      "toc_visible": true,
      "gpuType": "T4",
      "include_colab_link": true
    },
    "kernelspec": {
      "name": "python3",
      "display_name": "Python 3"
    },
    "language_info": {
      "name": "python"
    },
    "accelerator": "GPU"
  },
  "cells": [
    {
      "cell_type": "markdown",
      "metadata": {
        "id": "view-in-github",
        "colab_type": "text"
      },
      "source": [
        "<a href=\"https://colab.research.google.com/github/Anjasfedo/data-analysis/blob/main/sistem_rekomendasi_amazon_fine_food_reviews.ipynb\" target=\"_parent\"><img src=\"https://colab.research.google.com/assets/colab-badge.svg\" alt=\"Open In Colab\"/></a>"
      ]
    },
    {
      "cell_type": "markdown",
      "source": [
        "# Impor Library & Package"
      ],
      "metadata": {
        "id": "K05WDmtUasTZ"
      }
    },
    {
      "cell_type": "code",
      "execution_count": 1,
      "metadata": {
        "id": "Lp0n3C2CaZl_"
      },
      "outputs": [],
      "source": [
        "import pandas as pd\n",
        "import numpy as np\n",
        "import matplotlib.pyplot as plt\n",
        "import kagglehub\n",
        "import shutil\n",
        "from sklearn.metrics import mean_squared_error\n",
        "import numpy as np"
      ]
    },
    {
      "cell_type": "code",
      "source": [
        "import tensorflow as tf\n",
        "\n",
        "print(\"Num GPUs Available: \", len(tf.config.list_physical_devices('GPU')))\n",
        "\n",
        "from tensorflow import keras\n",
        "from tensorflow.keras import layers"
      ],
      "metadata": {
        "id": "HRsOkU5YhoTl",
        "outputId": "096e2aa6-631a-4778-b00d-c3dad0982b75",
        "colab": {
          "base_uri": "https://localhost:8080/"
        }
      },
      "execution_count": 2,
      "outputs": [
        {
          "output_type": "stream",
          "name": "stdout",
          "text": [
            "Num GPUs Available:  1\n"
          ]
        }
      ]
    },
    {
      "cell_type": "markdown",
      "source": [
        "# Data Understanding\n",
        "Dataset yang digunakan pada proyek ini adalah **Amazon Fine Food Reviews**, yang dapat diunduh dari Kaggle pada tautan berikut: [Amazon Fine Food Reviews Dataset](https://www.kaggle.com/datasets/snap/amazon-fine-food-reviews).\n",
        "\n",
        "Penjelasan Fitur:\n",
        "- **Id**: ID unik untuk setiap review.\n",
        "- **ProductId**: ID produk makanan yang diulas.\n",
        "- **UserId**: ID pengguna yang memberikan review.\n",
        "- **ProfileName**: Nama profil pengguna.\n",
        "- **HelpfulnessNumerator**: Jumlah user yang menilai review ini 'helpful'.\n",
        "- **HelpfulnessDenominator**: Total user yang memberi penilaian helpfulness.\n",
        "- **Score**: Rating produk (1–5).\n",
        "- **Time**: Waktu (timestamp) review diberikan.\n",
        "- **Summary**: Ringkasan review.\n",
        "- **Text**: Isi lengkap review."
      ],
      "metadata": {
        "id": "RpY59ilhawJ5"
      }
    },
    {
      "cell_type": "code",
      "source": [
        "path = kagglehub.dataset_download(\"snap/amazon-fine-food-reviews\")\n",
        "\n",
        "print(\"Path to dataset files:\", path)"
      ],
      "metadata": {
        "colab": {
          "base_uri": "https://localhost:8080/"
        },
        "id": "t4SUplcbaypJ",
        "outputId": "84c86330-a3ff-4480-b53d-816519f3e7f0"
      },
      "execution_count": 3,
      "outputs": [
        {
          "output_type": "stream",
          "name": "stdout",
          "text": [
            "Path to dataset files: /kaggle/input/amazon-fine-food-reviews\n"
          ]
        }
      ]
    },
    {
      "cell_type": "code",
      "source": [
        "shutil.copy(path + \"/Reviews.csv\", \"Reviews.csv\")"
      ],
      "metadata": {
        "colab": {
          "base_uri": "https://localhost:8080/",
          "height": 35
        },
        "id": "uJgBO5uQbKVB",
        "outputId": "45629012-fb62-4e4b-878d-af8e3176653b"
      },
      "execution_count": 4,
      "outputs": [
        {
          "output_type": "execute_result",
          "data": {
            "text/plain": [
              "'Reviews.csv'"
            ],
            "application/vnd.google.colaboratory.intrinsic+json": {
              "type": "string"
            }
          },
          "metadata": {},
          "execution_count": 4
        }
      ]
    },
    {
      "cell_type": "code",
      "source": [
        "df = pd.read_csv('Reviews.csv')\n",
        "\n",
        "df.info()"
      ],
      "metadata": {
        "colab": {
          "base_uri": "https://localhost:8080/"
        },
        "id": "m_rXg1xja9gZ",
        "outputId": "d1b9068d-680f-4f17-8c1a-0be86f17b6b7"
      },
      "execution_count": 5,
      "outputs": [
        {
          "output_type": "stream",
          "name": "stdout",
          "text": [
            "<class 'pandas.core.frame.DataFrame'>\n",
            "RangeIndex: 568454 entries, 0 to 568453\n",
            "Data columns (total 10 columns):\n",
            " #   Column                  Non-Null Count   Dtype \n",
            "---  ------                  --------------   ----- \n",
            " 0   Id                      568454 non-null  int64 \n",
            " 1   ProductId               568454 non-null  object\n",
            " 2   UserId                  568454 non-null  object\n",
            " 3   ProfileName             568428 non-null  object\n",
            " 4   HelpfulnessNumerator    568454 non-null  int64 \n",
            " 5   HelpfulnessDenominator  568454 non-null  int64 \n",
            " 6   Score                   568454 non-null  int64 \n",
            " 7   Time                    568454 non-null  int64 \n",
            " 8   Summary                 568427 non-null  object\n",
            " 9   Text                    568454 non-null  object\n",
            "dtypes: int64(5), object(5)\n",
            "memory usage: 43.4+ MB\n"
          ]
        }
      ]
    },
    {
      "cell_type": "code",
      "source": [
        "n_users = df['UserId'].nunique()\n",
        "n_products = df['ProductId'].nunique()\n",
        "print(f\"Total unique users: {n_users}\")\n",
        "print(f\"Total unique products: {n_products}\")"
      ],
      "metadata": {
        "colab": {
          "base_uri": "https://localhost:8080/"
        },
        "id": "lsIRBAkCfRlb",
        "outputId": "8bad9435-019a-47c8-c20f-b00de75a856e"
      },
      "execution_count": 6,
      "outputs": [
        {
          "output_type": "stream",
          "name": "stdout",
          "text": [
            "Total unique users: 256059\n",
            "Total unique products: 74258\n"
          ]
        }
      ]
    },
    {
      "cell_type": "markdown",
      "source": [
        "- Terdapat 256.059 user/pengguna unik yang pernah memberikan review pada setidaknya satu produk makanan di Amazon.\n",
        "\n",
        "- erdapat 74.258 produk makanan unik yang telah diulas di dataset ini."
      ],
      "metadata": {
        "id": "nejEyCwekk8k"
      }
    },
    {
      "cell_type": "code",
      "source": [
        "df['Score'].value_counts().sort_index().plot(kind='bar')\n",
        "plt.title('Distribusi Rating')\n",
        "plt.xlabel('Rating')\n",
        "plt.ylabel('Jumlah Review')\n",
        "plt.show()"
      ],
      "metadata": {
        "colab": {
          "base_uri": "https://localhost:8080/",
          "height": 467
        },
        "id": "2vDry8xsfT_6",
        "outputId": "4e9eae30-2807-4b11-bc49-24c0f146e947"
      },
      "execution_count": 7,
      "outputs": [
        {
          "output_type": "display_data",
          "data": {
            "text/plain": [
              "<Figure size 640x480 with 1 Axes>"
            ],
            "image/png": "[encoded data removed]"
          },
          "metadata": {}
        }
      ]
    },
    {
      "cell_type": "markdown",
      "source": [
        "Distribusi rating cenderung berat ke rating tinggi (mayoritas review memberi skor 5)."
      ],
      "metadata": {
        "id": "O_T0Cpl2fWur"
      }
    },
    {
      "cell_type": "code",
      "source": [
        "print(df.isnull().sum())"
      ],
      "metadata": {
        "colab": {
          "base_uri": "https://localhost:8080/"
        },
        "id": "kKxudijffY3z",
        "outputId": "0576b37c-bc13-41a5-f5a0-507880e50611"
      },
      "execution_count": 8,
      "outputs": [
        {
          "output_type": "stream",
          "name": "stdout",
          "text": [
            "Id                         0\n",
            "ProductId                  0\n",
            "UserId                     0\n",
            "ProfileName               26\n",
            "HelpfulnessNumerator       0\n",
            "HelpfulnessDenominator     0\n",
            "Score                      0\n",
            "Time                       0\n",
            "Summary                   27\n",
            "Text                       0\n",
            "dtype: int64\n"
          ]
        }
      ]
    },
    {
      "cell_type": "markdown",
      "source": [
        "Hampir seluruh kolom pada dataset ini tidak memiliki missing value (kosong), kecuali pada kolom `ProfileName` (26) dan `Summary` (27)."
      ],
      "metadata": {
        "id": "_-SsK9Y7k5yd"
      }
    },
    {
      "cell_type": "markdown",
      "source": [
        "- Dataset sangat besar, dengan >256 ribu user unik dan >74 ribu produk unik.\n",
        "- Distribusi rating condong ke rating tinggi (5).\n",
        "- Data cukup bersih, missing value sangat sedikit dan hanya di kolom non-kritis."
      ],
      "metadata": {
        "id": "9f5WDf17flXL"
      }
    },
    {
      "cell_type": "markdown",
      "source": [
        "# Data Preparation"
      ],
      "metadata": {
        "id": "kr-o87nqfqQj"
      }
    },
    {
      "cell_type": "markdown",
      "source": [
        "## Cleaning Data\n",
        "Karena jumlah missing value pada kolom `ProfileName` dan `Summary` sangat sedikit (masing-masing 26 dan 27 dari 568.454 baris), dan kedua kolom ini tidak digunakan sebagai fitur utama pada collaborative filtering, kita dapat mengabaikan atau menghapus baris tersebut jika perlu. Namun, semua kolom kunci (`ProductId`, `UserId`, `Score`, `Text`) tidak memiliki missing value."
      ],
      "metadata": {
        "id": "D7vjIoBqfsDb"
      }
    },
    {
      "cell_type": "code",
      "source": [
        "df = df.dropna(subset=[\"UserId\", \"ProductId\", \"Score\"])"
      ],
      "metadata": {
        "id": "5Ogm5gqjf6vz"
      },
      "execution_count": 9,
      "outputs": []
    },
    {
      "cell_type": "markdown",
      "source": [
        "## Encoding User dan Produk\n",
        "Untuk memudahkan proses embedding pada model, kita encode `UserId` dan `ProductId` menjadi indeks integer."
      ],
      "metadata": {
        "id": "AsB_3LGuf9TL"
      }
    },
    {
      "cell_type": "code",
      "source": [
        "user_ids = df['UserId'].unique().tolist()\n",
        "user_to_user_encoded = {x: i for i, x in enumerate(user_ids)}\n",
        "user_encoded_to_user = {i: x for i, x in enumerate(user_ids)}\n",
        "\n",
        "product_ids = df['ProductId'].unique().tolist()\n",
        "product_to_product_encoded = {x: i for i, x in enumerate(product_ids)}\n",
        "product_encoded_to_product = {i: x for i, x in enumerate(product_ids)}\n",
        "\n",
        "df['user'] = df['UserId'].map(user_to_user_encoded)\n",
        "df['product'] = df['ProductId'].map(product_to_product_encoded)\n",
        "df['Score'] = df['Score'].astype(np.float32)\n",
        "\n",
        "df.head()"
      ],
      "metadata": {
        "colab": {
          "base_uri": "https://localhost:8080/",
          "height": 293
        },
        "id": "37MCW7oRf-Ea",
        "outputId": "00629dc4-dacd-453b-cbbf-be7a1d28a9a9"
      },
      "execution_count": 10,
      "outputs": [
        {
          "output_type": "execute_result",
          "data": {
            "text/plain": [
              "   Id   ProductId          UserId                      ProfileName  \\\n",
              "0   1  B001E4KFG0  A3SGXH7AUHU8GW                       delmartian   \n",
              "1   2  B00813GRG4  A1D87F6ZCVE5NK                           dll pa   \n",
              "2   3  B000LQOCH0   ABXLMWJIXXAIN  Natalia Corres \"Natalia Corres\"   \n",
              "3   4  B000UA0QIQ  A395BORC6FGVXV                             Karl   \n",
              "4   5  B006K2ZZ7K  A1UQRSCLF8GW1T    Michael D. Bigham \"M. Wassir\"   \n",
              "\n",
              "   HelpfulnessNumerator  HelpfulnessDenominator  Score        Time  \\\n",
              "0                     1                       1    5.0  1303862400   \n",
              "1                     0                       0    1.0  1346976000   \n",
              "2                     1                       1    4.0  1219017600   \n",
              "3                     3                       3    2.0  1307923200   \n",
              "4                     0                       0    5.0  1350777600   \n",
              "\n",
              "                 Summary                                               Text  \\\n",
              "0  Good Quality Dog Food  I have bought several of the Vitality canned d...   \n",
              "1      Not as Advertised  Product arrived labeled as Jumbo Salted Peanut...   \n",
              "2  \"Delight\" says it all  This is a confection that has been around a fe...   \n",
              "3         Cough Medicine  If you are looking for the secret ingredient i...   \n",
              "4            Great taffy  Great taffy at a great price.  There was a wid...   \n",
              "\n",
              "   user  product  \n",
              "0     0        0  \n",
              "1     1        1  \n",
              "2     2        2  \n",
              "3     3        3  \n",
              "4     4        4  "
            ],
            "text/html": [
              "\n",
              "  <div id=\"df-5404f7f1-3e68-4dc3-b4a0-08cadcee84d4\" class=\"colab-df-container\">\n",
              "    <div>\n",
              "<style scoped>\n",
              "    .dataframe tbody tr th:only-of-type {\n",
              "        vertical-align: middle;\n",
              "    }\n",
              "\n",
              "    .dataframe tbody tr th {\n",
              "        vertical-align: top;\n",
              "    }\n",
              "\n",
              "    .dataframe thead th {\n",
              "        text-align: right;\n",
              "    }\n",
              "</style>\n",
              "<table border=\"1\" class=\"dataframe\">\n",
              "  <thead>\n",
              "    <tr style=\"text-align: right;\">\n",
              "      <th></th>\n",
              "      <th>Id</th>\n",
              "      <th>ProductId</th>\n",
              "      <th>UserId</th>\n",
              "      <th>ProfileName</th>\n",
              "      <th>HelpfulnessNumerator</th>\n",
              "      <th>HelpfulnessDenominator</th>\n",
              "      <th>Score</th>\n",
              "      <th>Time</th>\n",
              "      <th>Summary</th>\n",
              "      <th>Text</th>\n",
              "      <th>user</th>\n",
              "      <th>product</th>\n",
              "    </tr>\n",
              "  </thead>\n",
              "  <tbody>\n",
              "    <tr>\n",
              "      <th>0</th>\n",
              "      <td>1</td>\n",
              "      <td>B001E4KFG0</td>\n",
              "      <td>A3SGXH7AUHU8GW</td>\n",
              "      <td>delmartian</td>\n",
              "      <td>1</td>\n",
              "      <td>1</td>\n",
              "      <td>5.0</td>\n",
              "      <td>1303862400</td>\n",
              "      <td>Good Quality Dog Food</td>\n",
              "      <td>I have bought several of the Vitality canned d...</td>\n",
              "      <td>0</td>\n",
              "      <td>0</td>\n",
              "    </tr>\n",
              "    <tr>\n",
              "      <th>1</th>\n",
              "      <td>2</td>\n",
              "      <td>B00813GRG4</td>\n",
              "      <td>A1D87F6ZCVE5NK</td>\n",
              "      <td>dll pa</td>\n",
              "      <td>0</td>\n",
              "      <td>0</td>\n",
              "      <td>1.0</td>\n",
              "      <td>1346976000</td>\n",
              "      <td>Not as Advertised</td>\n",
              "      <td>Product arrived labeled as Jumbo Salted Peanut...</td>\n",
              "      <td>1</td>\n",
              "      <td>1</td>\n",
              "    </tr>\n",
              "    <tr>\n",
              "      <th>2</th>\n",
              "      <td>3</td>\n",
              "      <td>B000LQOCH0</td>\n",
              "      <td>ABXLMWJIXXAIN</td>\n",
              "      <td>Natalia Corres \"Natalia Corres\"</td>\n",
              "      <td>1</td>\n",
              "      <td>1</td>\n",
              "      <td>4.0</td>\n",
              "      <td>1219017600</td>\n",
              "      <td>\"Delight\" says it all</td>\n",
              "      <td>This is a confection that has been around a fe...</td>\n",
              "      <td>2</td>\n",
              "      <td>2</td>\n",
              "    </tr>\n",
              "    <tr>\n",
              "      <th>3</th>\n",
              "      <td>4</td>\n",
              "      <td>B000UA0QIQ</td>\n",
              "      <td>A395BORC6FGVXV</td>\n",
              "      <td>Karl</td>\n",
              "      <td>3</td>\n",
              "      <td>3</td>\n",
              "      <td>2.0</td>\n",
              "      <td>1307923200</td>\n",
              "      <td>Cough Medicine</td>\n",
              "      <td>If you are looking for the secret ingredient i...</td>\n",
              "      <td>3</td>\n",
              "      <td>3</td>\n",
              "    </tr>\n",
              "    <tr>\n",
              "      <th>4</th>\n",
              "      <td>5</td>\n",
              "      <td>B006K2ZZ7K</td>\n",
              "      <td>A1UQRSCLF8GW1T</td>\n",
              "      <td>Michael D. Bigham \"M. Wassir\"</td>\n",
              "      <td>0</td>\n",
              "      <td>0</td>\n",
              "      <td>5.0</td>\n",
              "      <td>1350777600</td>\n",
              "      <td>Great taffy</td>\n",
              "      <td>Great taffy at a great price.  There was a wid...</td>\n",
              "      <td>4</td>\n",
              "      <td>4</td>\n",
              "    </tr>\n",
              "  </tbody>\n",
              "</table>\n",
              "</div>\n",
              "    <div class=\"colab-df-buttons\">\n",
              "\n",
              "  <div class=\"colab-df-container\">\n",
              "    <button class=\"colab-df-convert\" onclick=\"convertToInteractive('df-5404f7f1-3e68-4dc3-b4a0-08cadcee84d4')\"\n",
              "            title=\"Convert this dataframe to an interactive table.\"\n",
              "            style=\"display:none;\">\n",
              "\n",
              "  <svg xmlns=\"http://www.w3.org/2000/svg\" height=\"24px\" viewBox=\"0 -960 960 960\">\n",
              "    <path d=\"M120-120v-720h720v720H120Zm60-500h600v-160H180v160Zm220 220h160v-160H400v160Zm0 220h160v-160H400v160ZM180-400h160v-160H180v160Zm440 0h160v-160H620v160ZM180-180h160v-160H180v160Zm440 0h160v-160H620v160Z\"/>\n",
              "  </svg>\n",
              "    </button>\n",
              "\n",
              "  <style>\n",
              "    .colab-df-container {\n",
              "      display:flex;\n",
              "      gap: 12px;\n",
              "    }\n",
              "\n",
              "    .colab-df-convert {\n",
              "      background-color: #E8F0FE;\n",
              "      border: none;\n",
              "      border-radius: 50%;\n",
              "      cursor: pointer;\n",
              "      display: none;\n",
              "      fill: #1967D2;\n",
              "      height: 32px;\n",
              "      padding: 0 0 0 0;\n",
              "      width: 32px;\n",
              "    }\n",
              "\n",
              "    .colab-df-convert:hover {\n",
              "      background-color: #E2EBFA;\n",
              "      box-shadow: 0px 1px 2px rgba(60, 64, 67, 0.3), 0px 1px 3px 1px rgba(60, 64, 67, 0.15);\n",
              "      fill: #174EA6;\n",
              "    }\n",
              "\n",
              "    .colab-df-buttons div {\n",
              "      margin-bottom: 4px;\n",
              "    }\n",
              "\n",
              "    [theme=dark] .colab-df-convert {\n",
              "      background-color: #3B4455;\n",
              "      fill: #D2E3FC;\n",
              "    }\n",
              "\n",
              "    [theme=dark] .colab-df-convert:hover {\n",
              "      background-color: #434B5C;\n",
              "      box-shadow: 0px 1px 3px 1px rgba(0, 0, 0, 0.15);\n",
              "      filter: drop-shadow(0px 1px 2px rgba(0, 0, 0, 0.3));\n",
              "      fill: #FFFFFF;\n",
              "    }\n",
              "  </style>\n",
              "\n",
              "    <script>\n",
              "      const buttonEl =\n",
              "        document.querySelector('#df-5404f7f1-3e68-4dc3-b4a0-08cadcee84d4 button.colab-df-convert');\n",
              "      buttonEl.style.display =\n",
              "        google.colab.kernel.accessAllowed ? 'block' : 'none';\n",
              "\n",
              "      async function convertToInteractive(key) {\n",
              "        const element = document.querySelector('#df-5404f7f1-3e68-4dc3-b4a0-08cadcee84d4');\n",
              "        const dataTable =\n",
              "          await google.colab.kernel.invokeFunction('convertToInteractive',\n",
              "                                                    [key], {});\n",
              "        if (!dataTable) return;\n",
              "\n",
              "        const docLinkHtml = 'Like what you see? Visit the ' +\n",
              "          '<a target=\"_blank\" href=https://colab.research.google.com/notebooks/data_table.ipynb>data table notebook</a>'\n",
              "          + ' to learn more about interactive tables.';\n",
              "        element.innerHTML = '';\n",
              "        dataTable['output_type'] = 'display_data';\n",
              "        await google.colab.output.renderOutput(dataTable, element);\n",
              "        const docLink = document.createElement('div');\n",
              "        docLink.innerHTML = docLinkHtml;\n",
              "        element.appendChild(docLink);\n",
              "      }\n",
              "    </script>\n",
              "  </div>\n",
              "\n",
              "\n",
              "    <div id=\"df-f10a305b-26f2-45bb-a90a-043d9fea493a\">\n",
              "      <button class=\"colab-df-quickchart\" onclick=\"quickchart('df-f10a305b-26f2-45bb-a90a-043d9fea493a')\"\n",
              "                title=\"Suggest charts\"\n",
              "                style=\"display:none;\">\n",
              "\n",
              "<svg xmlns=\"http://www.w3.org/2000/svg\" height=\"24px\"viewBox=\"0 0 24 24\"\n",
              "     width=\"24px\">\n",
              "    <g>\n",
              "        <path d=\"M19 3H5c-1.1 0-2 .9-2 2v14c0 1.1.9 2 2 2h14c1.1 0 2-.9 2-2V5c0-1.1-.9-2-2-2zM9 17H7v-7h2v7zm4 0h-2V7h2v10zm4 0h-2v-4h2v4z\"/>\n",
              "    </g>\n",
              "</svg>\n",
              "      </button>\n",
              "\n",
              "<style>\n",
              "  .colab-df-quickchart {\n",
              "      --bg-color: #E8F0FE;\n",
              "      --fill-color: #1967D2;\n",
              "      --hover-bg-color: #E2EBFA;\n",
              "      --hover-fill-color: #174EA6;\n",
              "      --disabled-fill-color: #AAA;\n",
              "      --disabled-bg-color: #DDD;\n",
              "  }\n",
              "\n",
              "  [theme=dark] .colab-df-quickchart {\n",
              "      --bg-color: #3B4455;\n",
              "      --fill-color: #D2E3FC;\n",
              "      --hover-bg-color: #434B5C;\n",
              "      --hover-fill-color: #FFFFFF;\n",
              "      --disabled-bg-color: #3B4455;\n",
              "      --disabled-fill-color: #666;\n",
              "  }\n",
              "\n",
              "  .colab-df-quickchart {\n",
              "    background-color: var(--bg-color);\n",
              "    border: none;\n",
              "    border-radius: 50%;\n",
              "    cursor: pointer;\n",
              "    display: none;\n",
              "    fill: var(--fill-color);\n",
              "    height: 32px;\n",
              "    padding: 0;\n",
              "    width: 32px;\n",
              "  }\n",
              "\n",
              "  .colab-df-quickchart:hover {\n",
              "    background-color: var(--hover-bg-color);\n",
              "    box-shadow: 0 1px 2px rgba(60, 64, 67, 0.3), 0 1px 3px 1px rgba(60, 64, 67, 0.15);\n",
              "    fill: var(--button-hover-fill-color);\n",
              "  }\n",
              "\n",
              "  .colab-df-quickchart-complete:disabled,\n",
              "  .colab-df-quickchart-complete:disabled:hover {\n",
              "    background-color: var(--disabled-bg-color);\n",
              "    fill: var(--disabled-fill-color);\n",
              "    box-shadow: none;\n",
              "  }\n",
              "\n",
              "  .colab-df-spinner {\n",
              "    border: 2px solid var(--fill-color);\n",
              "    border-color: transparent;\n",
              "    border-bottom-color: var(--fill-color);\n",
              "    animation:\n",
              "      spin 1s steps(1) infinite;\n",
              "  }\n",
              "\n",
              "  @keyframes spin {\n",
              "    0% {\n",
              "      border-color: transparent;\n",
              "      border-bottom-color: var(--fill-color);\n",
              "      border-left-color: var(--fill-color);\n",
              "    }\n",
              "    20% {\n",
              "      border-color: transparent;\n",
              "      border-left-color: var(--fill-color);\n",
              "      border-top-color: var(--fill-color);\n",
              "    }\n",
              "    30% {\n",
              "      border-color: transparent;\n",
              "      border-left-color: var(--fill-color);\n",
              "      border-top-color: var(--fill-color);\n",
              "      border-right-color: var(--fill-color);\n",
              "    }\n",
              "    40% {\n",
              "      border-color: transparent;\n",
              "      border-right-color: var(--fill-color);\n",
              "      border-top-color: var(--fill-color);\n",
              "    }\n",
              "    60% {\n",
              "      border-color: transparent;\n",
              "      border-right-color: var(--fill-color);\n",
              "    }\n",
              "    80% {\n",
              "      border-color: transparent;\n",
              "      border-right-color: var(--fill-color);\n",
              "      border-bottom-color: var(--fill-color);\n",
              "    }\n",
              "    90% {\n",
              "      border-color: transparent;\n",
              "      border-bottom-color: var(--fill-color);\n",
              "    }\n",
              "  }\n",
              "</style>\n",
              "\n",
              "      <script>\n",
              "        async function quickchart(key) {\n",
              "          const quickchartButtonEl =\n",
              "            document.querySelector('#' + key + ' button');\n",
              "          quickchartButtonEl.disabled = true;  // To prevent multiple clicks.\n",
              "          quickchartButtonEl.classList.add('colab-df-spinner');\n",
              "          try {\n",
              "            const charts = await google.colab.kernel.invokeFunction(\n",
              "                'suggestCharts', [key], {});\n",
              "          } catch (error) {\n",
              "            console.error('Error during call to suggestCharts:', error);\n",
              "          }\n",
              "          quickchartButtonEl.classList.remove('colab-df-spinner');\n",
              "          quickchartButtonEl.classList.add('colab-df-quickchart-complete');\n",
              "        }\n",
              "        (() => {\n",
              "          let quickchartButtonEl =\n",
              "            document.querySelector('#df-f10a305b-26f2-45bb-a90a-043d9fea493a button');\n",
              "          quickchartButtonEl.style.display =\n",
              "            google.colab.kernel.accessAllowed ? 'block' : 'none';\n",
              "        })();\n",
              "      </script>\n",
              "    </div>\n",
              "\n",
              "    </div>\n",
              "  </div>\n"
            ],
            "application/vnd.google.colaboratory.intrinsic+json": {
              "type": "dataframe",
              "variable_name": "df"
            }
          },
          "metadata": {},
          "execution_count": 10
        }
      ]
    },
    {
      "cell_type": "code",
      "source": [
        "num_users = len(user_to_user_encoded)\n",
        "num_products = len(product_encoded_to_product)\n",
        "min_rating = df['Score'].min()\n",
        "max_rating = df['Score'].max()\n",
        "print(f\"Number of users: {num_users}\")\n",
        "print(f\"Number of products: {num_products}\")\n",
        "print(f\"Min rating: {min_rating}\")\n",
        "print(f\"Max rating: {max_rating}\")"
      ],
      "metadata": {
        "id": "VjaCbiQJgvVL",
        "outputId": "6b281387-d206-4cdb-d55b-a3438188c8ca",
        "colab": {
          "base_uri": "https://localhost:8080/"
        }
      },
      "execution_count": 11,
      "outputs": [
        {
          "output_type": "stream",
          "name": "stdout",
          "text": [
            "Number of users: 256059\n",
            "Number of products: 74258\n",
            "Min rating: 1.0\n",
            "Max rating: 5.0\n"
          ]
        }
      ]
    },
    {
      "cell_type": "markdown",
      "source": [
        "## Split Data: Training dan Validation\n",
        "Data diacak terlebih dahulu, lalu dibagi menjadi 80% untuk training dan 20% untuk validation. Skor rating dinormalisasi ke skala 0-1 untuk memudahkan training."
      ],
      "metadata": {
        "id": "aYTeR8ycgnlb"
      }
    },
    {
      "cell_type": "code",
      "source": [
        "df = df.sample(frac=1, random_state=42)\n",
        "x = df[['user', 'product']].values\n",
        "y = df['Score'].apply(lambda x: (x - min_rating) / (max_rating - min_rating)).values\n",
        "\n",
        "train_indices = int(0.8 * df.shape[0])\n",
        "x_train, x_val = x[:train_indices], x[train_indices:]\n",
        "y_train, y_val = y[:train_indices], y[train_indices:]"
      ],
      "metadata": {
        "id": "FCeMal_1gL8b"
      },
      "execution_count": 12,
      "outputs": []
    },
    {
      "cell_type": "markdown",
      "source": [
        "# Modeling\n",
        "Setelah data siap, kita masuk ke tahap pembuatan dan pelatihan model sistem rekomendasi menggunakan **Collaborative Filtering** berbasis Neural Network (Matrix Factorization dengan embedding). Model yang akan kita bangun bertujuan mempelajari representasi (embedding) dari setiap user dan produk, lalu memprediksi skor kecocokan antara user dan produk tersebut."
      ],
      "metadata": {
        "id": "GO1RDM6kg2Uj"
      }
    },
    {
      "cell_type": "markdown",
      "source": [
        "## Model RecommenderNet\n",
        "Model menggunakan dua embedding layer (untuk user dan produk), masing-masing dipadukan dengan bias. Output model berupa skor prediksi rating dengan aktivasi sigmoid agar berada pada rentang [0, 1].\n"
      ],
      "metadata": {
        "id": "4t6gi_NGg6AE"
      }
    },
    {
      "cell_type": "code",
      "source": [
        "import tensorflow as tf\n",
        "from tensorflow.keras import layers, Model\n",
        "\n",
        "class RecommenderNet(Model):\n",
        "    def __init__(self, num_users, num_products, embedding_size=50):\n",
        "        super().__init__()\n",
        "        self.user_embedding = layers.Embedding(num_users, embedding_size)\n",
        "        self.user_bias = layers.Embedding(num_users, 1)\n",
        "        self.product_embedding = layers.Embedding(num_products, embedding_size)\n",
        "        self.product_bias = layers.Embedding(num_products, 1)\n",
        "\n",
        "    def call(self, inputs):\n",
        "        user_vector = self.user_embedding(inputs[:, 0])\n",
        "        user_bias = self.user_bias(inputs[:, 0])\n",
        "        product_vector = self.product_embedding(inputs[:, 1])\n",
        "        product_bias = self.product_bias(inputs[:, 1])\n",
        "        dot = tf.reduce_sum(user_vector * product_vector, axis=1, keepdims=True)\n",
        "        return dot + user_bias + product_bias  # TANPA sigmoid"
      ],
      "metadata": {
        "id": "T4jYy1Msg9QD"
      },
      "execution_count": 20,
      "outputs": []
    },
    {
      "cell_type": "markdown",
      "source": [
        "##  Kompilasi Model\n",
        "\n",
        "Digunakan:\n",
        "- **Loss function**: Binary Crossentropy (karena skor sudah dinormalisasi ke 0-1)\n",
        "- **Optimizer**: Adam\n",
        "- **Metrics**: Root Mean Squared Error (RMSE)"
      ],
      "metadata": {
        "id": "iGnGgqn5hC0T"
      }
    },
    {
      "cell_type": "code",
      "source": [
        "model = RecommenderNet(num_users, num_products, embedding_size=50)\n",
        "model.compile(\n",
        "    loss='mse',\n",
        "    optimizer=tf.keras.optimizers.Adam(learning_rate=0.0001),\n",
        "    metrics=[tf.keras.metrics.RootMeanSquaredError()]\n",
        ")"
      ],
      "metadata": {
        "id": "EAX8mtCMhFg0"
      },
      "execution_count": 21,
      "outputs": []
    },
    {
      "cell_type": "markdown",
      "source": [
        "## Training Model"
      ],
      "metadata": {
        "id": "Eta0qO91hG-k"
      }
    },
    {
      "cell_type": "code",
      "source": [
        "history = model.fit(\n",
        "    x=x_train,\n",
        "    y=y_train,\n",
        "    batch_size=256,\n",
        "    epochs=50,\n",
        "    validation_data=(x_val, y_val)\n",
        ")"
      ],
      "metadata": {
        "colab": {
          "base_uri": "https://localhost:8080/"
        },
        "id": "4Wls_ZmLhIYb",
        "outputId": "19b79f9e-5040-4c1b-b521-3ea11c5d9449"
      },
      "execution_count": 22,
      "outputs": [
        {
          "output_type": "stream",
          "name": "stdout",
          "text": [
            "Epoch 1/50\n",
            "\u001b[1m1777/1777\u001b[0m \u001b[32m━━━━━━━━━━━━━━━━━━━━\u001b[0m\u001b[37m\u001b[0m \u001b[1m14s\u001b[0m 7ms/step - loss: 0.7298 - root_mean_squared_error: 0.8542 - val_loss: 0.6923 - val_root_mean_squared_error: 0.8321\n",
            "Epoch 2/50\n",
            "\u001b[1m1777/1777\u001b[0m \u001b[32m━━━━━━━━━━━━━━━━━━━━\u001b[0m\u001b[37m\u001b[0m \u001b[1m11s\u001b[0m 6ms/step - loss: 0.6720 - root_mean_squared_error: 0.8198 - val_loss: 0.6450 - val_root_mean_squared_error: 0.8031\n",
            "Epoch 3/50\n",
            "\u001b[1m1777/1777\u001b[0m \u001b[32m━━━━━━━━━━━━━━━━━━━━\u001b[0m\u001b[37m\u001b[0m \u001b[1m11s\u001b[0m 6ms/step - loss: 0.6153 - root_mean_squared_error: 0.7844 - val_loss: 0.5984 - val_root_mean_squared_error: 0.7735\n",
            "Epoch 4/50\n",
            "\u001b[1m1777/1777\u001b[0m \u001b[32m━━━━━━━━━━━━━━━━━━━━\u001b[0m\u001b[37m\u001b[0m \u001b[1m11s\u001b[0m 6ms/step - loss: 0.5570 - root_mean_squared_error: 0.7463 - val_loss: 0.5513 - val_root_mean_squared_error: 0.7425\n",
            "Epoch 5/50\n",
            "\u001b[1m1777/1777\u001b[0m \u001b[32m━━━━━━━━━━━━━━━━━━━━\u001b[0m\u001b[37m\u001b[0m \u001b[1m12s\u001b[0m 7ms/step - loss: 0.4998 - root_mean_squared_error: 0.7070 - val_loss: 0.5050 - val_root_mean_squared_error: 0.7106\n",
            "Epoch 6/50\n",
            "\u001b[1m1777/1777\u001b[0m \u001b[32m━━━━━━━━━━━━━━━━━━━━\u001b[0m\u001b[37m\u001b[0m \u001b[1m20s\u001b[0m 6ms/step - loss: 0.4414 - root_mean_squared_error: 0.6643 - val_loss: 0.4625 - val_root_mean_squared_error: 0.6801\n",
            "Epoch 7/50\n",
            "\u001b[1m1777/1777\u001b[0m \u001b[32m━━━━━━━━━━━━━━━━━━━━\u001b[0m\u001b[37m\u001b[0m \u001b[1m11s\u001b[0m 6ms/step - loss: 0.3895 - root_mean_squared_error: 0.6241 - val_loss: 0.4262 - val_root_mean_squared_error: 0.6528\n",
            "Epoch 8/50\n",
            "\u001b[1m1777/1777\u001b[0m \u001b[32m━━━━━━━━━━━━━━━━━━━━\u001b[0m\u001b[37m\u001b[0m \u001b[1m12s\u001b[0m 7ms/step - loss: 0.3432 - root_mean_squared_error: 0.5858 - val_loss: 0.3962 - val_root_mean_squared_error: 0.6294\n",
            "Epoch 9/50\n",
            "\u001b[1m1777/1777\u001b[0m \u001b[32m━━━━━━━━━━━━━━━━━━━━\u001b[0m\u001b[37m\u001b[0m \u001b[1m11s\u001b[0m 6ms/step - loss: 0.3032 - root_mean_squared_error: 0.5506 - val_loss: 0.3717 - val_root_mean_squared_error: 0.6097\n",
            "Epoch 10/50\n",
            "\u001b[1m1777/1777\u001b[0m \u001b[32m━━━━━━━━━━━━━━━━━━━━\u001b[0m\u001b[37m\u001b[0m \u001b[1m20s\u001b[0m 6ms/step - loss: 0.2682 - root_mean_squared_error: 0.5179 - val_loss: 0.3514 - val_root_mean_squared_error: 0.5928\n",
            "Epoch 11/50\n",
            "\u001b[1m1777/1777\u001b[0m \u001b[32m━━━━━━━━━━━━━━━━━━━━\u001b[0m\u001b[37m\u001b[0m \u001b[1m11s\u001b[0m 6ms/step - loss: 0.2366 - root_mean_squared_error: 0.4864 - val_loss: 0.3344 - val_root_mean_squared_error: 0.5783\n",
            "Epoch 12/50\n",
            "\u001b[1m1777/1777\u001b[0m \u001b[32m━━━━━━━━━━━━━━━━━━━━\u001b[0m\u001b[37m\u001b[0m \u001b[1m11s\u001b[0m 6ms/step - loss: 0.2092 - root_mean_squared_error: 0.4574 - val_loss: 0.3199 - val_root_mean_squared_error: 0.5656\n",
            "Epoch 13/50\n",
            "\u001b[1m1777/1777\u001b[0m \u001b[32m━━━━━━━━━━━━━━━━━━━━\u001b[0m\u001b[37m\u001b[0m \u001b[1m20s\u001b[0m 6ms/step - loss: 0.1843 - root_mean_squared_error: 0.4293 - val_loss: 0.3073 - val_root_mean_squared_error: 0.5543\n",
            "Epoch 14/50\n",
            "\u001b[1m1777/1777\u001b[0m \u001b[32m━━━━━━━━━━━━━━━━━━━━\u001b[0m\u001b[37m\u001b[0m \u001b[1m11s\u001b[0m 6ms/step - loss: 0.1619 - root_mean_squared_error: 0.4024 - val_loss: 0.2963 - val_root_mean_squared_error: 0.5443\n",
            "Epoch 15/50\n",
            "\u001b[1m1777/1777\u001b[0m \u001b[32m━━━━━━━━━━━━━━━━━━━━\u001b[0m\u001b[37m\u001b[0m \u001b[1m21s\u001b[0m 6ms/step - loss: 0.1415 - root_mean_squared_error: 0.3762 - val_loss: 0.2867 - val_root_mean_squared_error: 0.5354\n",
            "Epoch 16/50\n",
            "\u001b[1m1777/1777\u001b[0m \u001b[32m━━━━━━━━━━━━━━━━━━━━\u001b[0m\u001b[37m\u001b[0m \u001b[1m20s\u001b[0m 6ms/step - loss: 0.1231 - root_mean_squared_error: 0.3508 - val_loss: 0.2782 - val_root_mean_squared_error: 0.5275\n",
            "Epoch 17/50\n",
            "\u001b[1m1777/1777\u001b[0m \u001b[32m━━━━━━━━━━━━━━━━━━━━\u001b[0m\u001b[37m\u001b[0m \u001b[1m20s\u001b[0m 6ms/step - loss: 0.1065 - root_mean_squared_error: 0.3263 - val_loss: 0.2708 - val_root_mean_squared_error: 0.5204\n",
            "Epoch 18/50\n",
            "\u001b[1m1777/1777\u001b[0m \u001b[32m━━━━━━━━━━━━━━━━━━━━\u001b[0m\u001b[37m\u001b[0m \u001b[1m12s\u001b[0m 7ms/step - loss: 0.0918 - root_mean_squared_error: 0.3030 - val_loss: 0.2643 - val_root_mean_squared_error: 0.5141\n",
            "Epoch 19/50\n",
            "\u001b[1m1777/1777\u001b[0m \u001b[32m━━━━━━━━━━━━━━━━━━━━\u001b[0m\u001b[37m\u001b[0m \u001b[1m20s\u001b[0m 6ms/step - loss: 0.0784 - root_mean_squared_error: 0.2800 - val_loss: 0.2587 - val_root_mean_squared_error: 0.5087\n",
            "Epoch 20/50\n",
            "\u001b[1m1777/1777\u001b[0m \u001b[32m━━━━━━━━━━━━━━━━━━━━\u001b[0m\u001b[37m\u001b[0m \u001b[1m11s\u001b[0m 6ms/step - loss: 0.0670 - root_mean_squared_error: 0.2589 - val_loss: 0.2539 - val_root_mean_squared_error: 0.5039\n",
            "Epoch 21/50\n",
            "\u001b[1m1777/1777\u001b[0m \u001b[32m━━━━━━━━━━━━━━━━━━━━\u001b[0m\u001b[37m\u001b[0m \u001b[1m11s\u001b[0m 6ms/step - loss: 0.0564 - root_mean_squared_error: 0.2375 - val_loss: 0.2497 - val_root_mean_squared_error: 0.4997\n",
            "Epoch 22/50\n",
            "\u001b[1m1777/1777\u001b[0m \u001b[32m━━━━━━━━━━━━━━━━━━━━\u001b[0m\u001b[37m\u001b[0m \u001b[1m20s\u001b[0m 6ms/step - loss: 0.0476 - root_mean_squared_error: 0.2182 - val_loss: 0.2462 - val_root_mean_squared_error: 0.4962\n",
            "Epoch 23/50\n",
            "\u001b[1m1777/1777\u001b[0m \u001b[32m━━━━━━━━━━━━━━━━━━━━\u001b[0m\u001b[37m\u001b[0m \u001b[1m20s\u001b[0m 6ms/step - loss: 0.0400 - root_mean_squared_error: 0.2001 - val_loss: 0.2432 - val_root_mean_squared_error: 0.4931\n",
            "Epoch 24/50\n",
            "\u001b[1m1777/1777\u001b[0m \u001b[32m━━━━━━━━━━━━━━━━━━━━\u001b[0m\u001b[37m\u001b[0m \u001b[1m20s\u001b[0m 6ms/step - loss: 0.0333 - root_mean_squared_error: 0.1825 - val_loss: 0.2407 - val_root_mean_squared_error: 0.4906\n",
            "Epoch 25/50\n",
            "\u001b[1m1777/1777\u001b[0m \u001b[32m━━━━━━━━━━━━━━━━━━━━\u001b[0m\u001b[37m\u001b[0m \u001b[1m11s\u001b[0m 6ms/step - loss: 0.0278 - root_mean_squared_error: 0.1668 - val_loss: 0.2386 - val_root_mean_squared_error: 0.4885\n",
            "Epoch 26/50\n",
            "\u001b[1m1777/1777\u001b[0m \u001b[32m━━━━━━━━━━━━━━━━━━━━\u001b[0m\u001b[37m\u001b[0m \u001b[1m20s\u001b[0m 6ms/step - loss: 0.0229 - root_mean_squared_error: 0.1514 - val_loss: 0.2369 - val_root_mean_squared_error: 0.4867\n",
            "Epoch 27/50\n",
            "\u001b[1m1777/1777\u001b[0m \u001b[32m━━━━━━━━━━━━━━━━━━━━\u001b[0m\u001b[37m\u001b[0m \u001b[1m21s\u001b[0m 6ms/step - loss: 0.0188 - root_mean_squared_error: 0.1370 - val_loss: 0.2355 - val_root_mean_squared_error: 0.4853\n",
            "Epoch 28/50\n",
            "\u001b[1m1777/1777\u001b[0m \u001b[32m━━━━━━━━━━━━━━━━━━━━\u001b[0m\u001b[37m\u001b[0m \u001b[1m11s\u001b[0m 6ms/step - loss: 0.0155 - root_mean_squared_error: 0.1243 - val_loss: 0.2344 - val_root_mean_squared_error: 0.4841\n",
            "Epoch 29/50\n",
            "\u001b[1m1777/1777\u001b[0m \u001b[32m━━━━━━━━━━━━━━━━━━━━\u001b[0m\u001b[37m\u001b[0m \u001b[1m11s\u001b[0m 6ms/step - loss: 0.0126 - root_mean_squared_error: 0.1123 - val_loss: 0.2335 - val_root_mean_squared_error: 0.4832\n",
            "Epoch 30/50\n",
            "\u001b[1m1777/1777\u001b[0m \u001b[32m━━━━━━━━━━━━━━━━━━━━\u001b[0m\u001b[37m\u001b[0m \u001b[1m11s\u001b[0m 6ms/step - loss: 0.0101 - root_mean_squared_error: 0.1004 - val_loss: 0.2327 - val_root_mean_squared_error: 0.4824\n",
            "Epoch 31/50\n",
            "\u001b[1m1777/1777\u001b[0m \u001b[32m━━━━━━━━━━━━━━━━━━━━\u001b[0m\u001b[37m\u001b[0m \u001b[1m11s\u001b[0m 6ms/step - loss: 0.0081 - root_mean_squared_error: 0.0902 - val_loss: 0.2321 - val_root_mean_squared_error: 0.4818\n",
            "Epoch 32/50\n",
            "\u001b[1m1777/1777\u001b[0m \u001b[32m━━━━━━━━━━━━━━━━━━━━\u001b[0m\u001b[37m\u001b[0m \u001b[1m11s\u001b[0m 6ms/step - loss: 0.0065 - root_mean_squared_error: 0.0809 - val_loss: 0.2316 - val_root_mean_squared_error: 0.4813\n",
            "Epoch 33/50\n",
            "\u001b[1m1777/1777\u001b[0m \u001b[32m━━━━━━━━━━━━━━━━━━━━\u001b[0m\u001b[37m\u001b[0m \u001b[1m11s\u001b[0m 6ms/step - loss: 0.0052 - root_mean_squared_error: 0.0720 - val_loss: 0.2312 - val_root_mean_squared_error: 0.4808\n",
            "Epoch 34/50\n",
            "\u001b[1m1777/1777\u001b[0m \u001b[32m━━━━━━━━━━━━━━━━━━━━\u001b[0m\u001b[37m\u001b[0m \u001b[1m20s\u001b[0m 6ms/step - loss: 0.0041 - root_mean_squared_error: 0.0643 - val_loss: 0.2309 - val_root_mean_squared_error: 0.4805\n",
            "Epoch 35/50\n",
            "\u001b[1m1777/1777\u001b[0m \u001b[32m━━━━━━━━━━━━━━━━━━━━\u001b[0m\u001b[37m\u001b[0m \u001b[1m11s\u001b[0m 6ms/step - loss: 0.0032 - root_mean_squared_error: 0.0566 - val_loss: 0.2306 - val_root_mean_squared_error: 0.4802\n",
            "Epoch 36/50\n",
            "\u001b[1m1777/1777\u001b[0m \u001b[32m━━━━━━━━━━━━━━━━━━━━\u001b[0m\u001b[37m\u001b[0m \u001b[1m11s\u001b[0m 6ms/step - loss: 0.0025 - root_mean_squared_error: 0.0498 - val_loss: 0.2303 - val_root_mean_squared_error: 0.4799\n",
            "Epoch 37/50\n",
            "\u001b[1m1777/1777\u001b[0m \u001b[32m━━━━━━━━━━━━━━━━━━━━\u001b[0m\u001b[37m\u001b[0m \u001b[1m11s\u001b[0m 6ms/step - loss: 0.0019 - root_mean_squared_error: 0.0435 - val_loss: 0.2301 - val_root_mean_squared_error: 0.4797\n",
            "Epoch 38/50\n",
            "\u001b[1m1777/1777\u001b[0m \u001b[32m━━━━━━━━━━━━━━━━━━━━\u001b[0m\u001b[37m\u001b[0m \u001b[1m11s\u001b[0m 6ms/step - loss: 0.0015 - root_mean_squared_error: 0.0383 - val_loss: 0.2299 - val_root_mean_squared_error: 0.4795\n",
            "Epoch 39/50\n",
            "\u001b[1m1777/1777\u001b[0m \u001b[32m━━━━━━━━━━━━━━━━━━━━\u001b[0m\u001b[37m\u001b[0m \u001b[1m11s\u001b[0m 6ms/step - loss: 0.0011 - root_mean_squared_error: 0.0332 - val_loss: 0.2297 - val_root_mean_squared_error: 0.4793\n",
            "Epoch 40/50\n",
            "\u001b[1m1777/1777\u001b[0m \u001b[32m━━━━━━━━━━━━━━━━━━━━\u001b[0m\u001b[37m\u001b[0m \u001b[1m20s\u001b[0m 6ms/step - loss: 8.2871e-04 - root_mean_squared_error: 0.0288 - val_loss: 0.2296 - val_root_mean_squared_error: 0.4792\n",
            "Epoch 41/50\n",
            "\u001b[1m1777/1777\u001b[0m \u001b[32m━━━━━━━━━━━━━━━━━━━━\u001b[0m\u001b[37m\u001b[0m \u001b[1m21s\u001b[0m 6ms/step - loss: 6.4568e-04 - root_mean_squared_error: 0.0254 - val_loss: 0.2295 - val_root_mean_squared_error: 0.4790\n",
            "Epoch 42/50\n",
            "\u001b[1m1777/1777\u001b[0m \u001b[32m━━━━━━━━━━━━━━━━━━━━\u001b[0m\u001b[37m\u001b[0m \u001b[1m20s\u001b[0m 6ms/step - loss: 5.4551e-04 - root_mean_squared_error: 0.0234 - val_loss: 0.2294 - val_root_mean_squared_error: 0.4790\n",
            "Epoch 43/50\n",
            "\u001b[1m1777/1777\u001b[0m \u001b[32m━━━━━━━━━━━━━━━━━━━━\u001b[0m\u001b[37m\u001b[0m \u001b[1m20s\u001b[0m 6ms/step - loss: 5.1367e-04 - root_mean_squared_error: 0.0227 - val_loss: 0.2293 - val_root_mean_squared_error: 0.4789\n",
            "Epoch 44/50\n",
            "\u001b[1m1777/1777\u001b[0m \u001b[32m━━━━━━━━━━━━━━━━━━━━\u001b[0m\u001b[37m\u001b[0m \u001b[1m11s\u001b[0m 6ms/step - loss: 4.6326e-04 - root_mean_squared_error: 0.0215 - val_loss: 0.2293 - val_root_mean_squared_error: 0.4789\n",
            "Epoch 45/50\n",
            "\u001b[1m1777/1777\u001b[0m \u001b[32m━━━━━━━━━━━━━━━━━━━━\u001b[0m\u001b[37m\u001b[0m \u001b[1m21s\u001b[0m 6ms/step - loss: 4.5199e-04 - root_mean_squared_error: 0.0213 - val_loss: 0.2292 - val_root_mean_squared_error: 0.4788\n",
            "Epoch 46/50\n",
            "\u001b[1m1777/1777\u001b[0m \u001b[32m━━━━━━━━━━━━━━━━━━━━\u001b[0m\u001b[37m\u001b[0m \u001b[1m11s\u001b[0m 6ms/step - loss: 4.5920e-04 - root_mean_squared_error: 0.0214 - val_loss: 0.2292 - val_root_mean_squared_error: 0.4788\n",
            "Epoch 47/50\n",
            "\u001b[1m1777/1777\u001b[0m \u001b[32m━━━━━━━━━━━━━━━━━━━━\u001b[0m\u001b[37m\u001b[0m \u001b[1m21s\u001b[0m 6ms/step - loss: 4.4143e-04 - root_mean_squared_error: 0.0210 - val_loss: 0.2292 - val_root_mean_squared_error: 0.4787\n",
            "Epoch 48/50\n",
            "\u001b[1m1777/1777\u001b[0m \u001b[32m━━━━━━━━━━━━━━━━━━━━\u001b[0m\u001b[37m\u001b[0m \u001b[1m11s\u001b[0m 6ms/step - loss: 4.4791e-04 - root_mean_squared_error: 0.0212 - val_loss: 0.2292 - val_root_mean_squared_error: 0.4787\n",
            "Epoch 49/50\n",
            "\u001b[1m1777/1777\u001b[0m \u001b[32m━━━━━━━━━━━━━━━━━━━━\u001b[0m\u001b[37m\u001b[0m \u001b[1m11s\u001b[0m 6ms/step - loss: 4.5055e-04 - root_mean_squared_error: 0.0212 - val_loss: 0.2291 - val_root_mean_squared_error: 0.4787\n",
            "Epoch 50/50\n",
            "\u001b[1m1777/1777\u001b[0m \u001b[32m━━━━━━━━━━━━━━━━━━━━\u001b[0m\u001b[37m\u001b[0m \u001b[1m11s\u001b[0m 6ms/step - loss: 4.2109e-04 - root_mean_squared_error: 0.0205 - val_loss: 0.2291 - val_root_mean_squared_error: 0.4786\n"
          ]
        }
      ]
    },
    {
      "cell_type": "markdown",
      "source": [
        "## Visualisasi Proses Training"
      ],
      "metadata": {
        "id": "94vcYr3GhL2i"
      }
    },
    {
      "cell_type": "code",
      "source": [
        "plt.plot(history.history['root_mean_squared_error'])\n",
        "plt.plot(history.history['val_root_mean_squared_error'])\n",
        "plt.title('Model RMSE')\n",
        "plt.ylabel('RMSE')\n",
        "plt.xlabel('Epoch')\n",
        "plt.legend(['Train', 'Validation'], loc='upper left')\n",
        "plt.show()"
      ],
      "metadata": {
        "id": "uXgt3o0uhN6U",
        "outputId": "3b3c1846-61ab-4f23-efa8-a7c947bbdf24",
        "colab": {
          "base_uri": "https://localhost:8080/",
          "height": 472
        }
      },
      "execution_count": 23,
      "outputs": [
        {
          "output_type": "display_data",
          "data": {
            "text/plain": [
              "<Figure size 640x480 with 1 Axes>"
            ],
            "image/png": "[encoded data removed]"
          },
          "metadata": {}
        }
      ]
    },
    {
      "cell_type": "markdown",
      "source": [
        "# Evaluation\n",
        "Setelah model collaborative filtering selesai dilatih, tahap selanjutnya adalah mengevaluasi performa model. Evaluasi dilakukan untuk mengetahui seberapa baik model memprediksi rating dan memberikan rekomendasi yang relevan."
      ],
      "metadata": {
        "id": "zo2VQxwGiChs"
      }
    },
    {
      "cell_type": "markdown",
      "source": [
        "## Root Mean Squared Error (RMSE)\n",
        "\n",
        "Selama proses training, kita sudah memantau metrik RMSE pada data training dan validasi. RMSE mengukur rata-rata error prediksi rating model terhadap rating sebenarnya (setelah dinormalisasi ke 0-1).\n"
      ],
      "metadata": {
        "id": "xr0G012HiGQE"
      }
    },
    {
      "cell_type": "code",
      "source": [
        "y_pred = model.predict(x_val)\n",
        "\n",
        "rmse = np.sqrt(mean_squared_error(y_val, y_pred))\n",
        "print(f\"Validation RMSE: {rmse:.4f}\")"
      ],
      "metadata": {
        "id": "zVX2p7QciI9k",
        "outputId": "59e13e9b-cb13-47bf-920f-a8c0cfffb8a4",
        "colab": {
          "base_uri": "https://localhost:8080/"
        }
      },
      "execution_count": 24,
      "outputs": [
        {
          "output_type": "stream",
          "name": "stdout",
          "text": [
            "\u001b[1m3553/3553\u001b[0m \u001b[32m━━━━━━━━━━━━━━━━━━━━\u001b[0m\u001b[37m\u001b[0m \u001b[1m4s\u001b[0m 1ms/step\n",
            "Validation RMSE: 0.4786\n"
          ]
        }
      ]
    },
    {
      "cell_type": "markdown",
      "source": [
        "Nilai RMSE yang kecil menunjukkan model semakin baik dalam memprediksi rating user terhadap produk.\n"
      ],
      "metadata": {
        "id": "qKTZFNMwiU-z"
      }
    },
    {
      "cell_type": "markdown",
      "source": [
        "# Percobaan Sistem Rekomendasi (Recommendation Experiment)\n",
        "Tahap ini bertujuan menguji kemampuan sistem dalam memberikan rekomendasi produk makanan untuk user tertentu. Prosesnya adalah:\n",
        "\n",
        "1. **Ambil sample user secara acak**.\n",
        "2. **Identifikasi produk yang sudah pernah di-rating oleh user**.\n",
        "3. **Tentukan produk yang belum pernah di-rating user** (produk kandidat rekomendasi).\n",
        "4. **Prediksi skor semua produk kandidat** dengan model.\n",
        "5. **Ambil Top-N produk dengan skor tertinggi** sebagai rekomendasi.\n",
        "6. **Bandingkan dengan produk yang pernah diberi rating tinggi oleh user**."
      ],
      "metadata": {
        "id": "UzYlzTksiVkf"
      }
    },
    {
      "cell_type": "code",
      "source": [
        "user_id = df['UserId'].sample(1).iloc[0]\n",
        "user_encoded = user_to_user_encoded[user_id]\n",
        "\n",
        "products_rated_by_user = df[df['UserId'] == user_id]['ProductId'].values\n",
        "\n",
        "products_not_rated = list(set(product_ids) - set(products_rated_by_user))\n",
        "\n",
        "products_not_rated_encoded = [product_to_product_encoded[x] for x in products_not_rated]\n",
        "\n",
        "user_array = np.array([user_encoded] * len(products_not_rated_encoded))\n",
        "product_array = np.array(products_not_rated_encoded)\n",
        "input_array = np.vstack([user_array, product_array]).T\n",
        "\n",
        "predicted_scores = model.predict(input_array).flatten()\n",
        "\n",
        "top_indices = predicted_scores.argsort()[-10:][::-1]\n",
        "recommended_product_indices = [products_not_rated_encoded[i] for i in top_indices]\n",
        "recommended_product_ids = [product_encoded_to_product[i] for i in recommended_product_indices]\n",
        "\n",
        "print(f\"Rekomendasi produk untuk user: {user_id}\")\n",
        "print(\"=\"*40)\n",
        "print(\"Produk dengan rating tinggi dari user:\")\n",
        "top_user_products = (\n",
        "    df[df['UserId'] == user_id]\n",
        "    .sort_values(by='Score', ascending=False)\n",
        "    .head(5)['ProductId']\n",
        "    .values\n",
        ")\n",
        "for pid in top_user_products:\n",
        "    print(pid)\n",
        "print(\"=\"*40)\n",
        "print(\"Top 10 rekomendasi produk:\")\n",
        "for pid in recommended_product_ids:\n",
        "    print(pid)"
      ],
      "metadata": {
        "id": "QTxT3myViotU",
        "outputId": "10032d32-941a-485b-c6d9-60dcba38a10f",
        "colab": {
          "base_uri": "https://localhost:8080/"
        }
      },
      "execution_count": 25,
      "outputs": [
        {
          "output_type": "stream",
          "name": "stdout",
          "text": [
            "\u001b[1m2321/2321\u001b[0m \u001b[32m━━━━━━━━━━━━━━━━━━━━\u001b[0m\u001b[37m\u001b[0m \u001b[1m3s\u001b[0m 1ms/step\n",
            "Rekomendasi produk untuk user: A1XJR6X9MA37XB\n",
            "========================================\n",
            "Produk dengan rating tinggi dari user:\n",
            "B0045TEFV2\n",
            "B001E5E3YO\n",
            "B0047Z2Q3I\n",
            "B002O0NGR8\n",
            "B000H2405M\n",
            "========================================\n",
            "Top 10 rekomendasi produk:\n",
            "B004391DK0\n",
            "B000H241DS\n",
            "B0009F3SC8\n",
            "B005ZBZLPI\n",
            "B005TBURAI\n",
            "B008J1HO4C\n",
            "B001EPPC7G\n",
            "B000FFIL92\n",
            "B001ELL60W\n",
            "B000EVG8H4\n"
          ]
        }
      ]
    }
  ]
}