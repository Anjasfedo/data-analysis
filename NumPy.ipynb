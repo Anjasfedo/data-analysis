{
  "nbformat": 4,
  "nbformat_minor": 0,
  "metadata": {
    "colab": {
      "provenance": [],
      "authorship_tag": "ABX9TyOSjBB82n0PzOilW+Mb1Iav",
      "include_colab_link": true
    },
    "kernelspec": {
      "name": "python3",
      "display_name": "Python 3"
    },
    "language_info": {
      "name": "python"
    }
  },
  "cells": [
    {
      "cell_type": "markdown",
      "metadata": {
        "id": "view-in-github",
        "colab_type": "text"
      },
      "source": [
        "<a href=\"https://colab.research.google.com/github/Anjasfedo/data-analysis/blob/main/NumPy.ipynb\" target=\"_parent\"><img src=\"https://colab.research.google.com/assets/colab-badge.svg\" alt=\"Open In Colab\"/></a>"
      ]
    },
    {
      "cell_type": "markdown",
      "source": [
        "# Introduction\n",
        "What is NumPy?\n",
        "\n",
        "NumPy is multi-dimensional array library (1D, 2D, 3D, etc)\n",
        "\n",
        "How are list different from NumPy?\n",
        "1. list:\n",
        "  - slow (list contain 4 space such Size, Reference Count, Object Type, Object Value)\n",
        "2. NumPy:\n",
        "  - Fast (because of fixed type, by default got Int32)\n",
        "  - faster to read less bytes of memory\n",
        "  - no type checking when iterating through objects\n",
        "  - Contiguous Memory\n",
        "  - use SIMD (single instruction multiple data) Vector Processing\n",
        "  - Effective Cache utilization\n",
        "\n",
        "How are lists different from NumPy?\n",
        "1. list, we can do some method:\n",
        "  - insertion\n",
        "  - deletion\n",
        "  - appending\n",
        "  - concatenation\n",
        "  - etc\n",
        "2. NumPy:\n",
        "  - insertion\n",
        "  - deletion\n",
        "  - appending\n",
        "  - concatenation\n",
        "  - etc\n",
        "  - Moree....\n",
        "\n",
        "Application of NumPy?\n",
        "- Mathematics (MATLAB Replacement)\n",
        "- Plotting (Matplotlib)\n",
        "- Backend (Pandas, Connect 4, Digital Photography)\n",
        "- Machine Learning\n"
      ],
      "metadata": {
        "id": "Te9mQ1vNKP_q"
      }
    },
    {
      "cell_type": "markdown",
      "source": [
        "# Import NumPy"
      ],
      "metadata": {
        "id": "AeyazTCPKM5v"
      }
    },
    {
      "cell_type": "code",
      "execution_count": 1,
      "metadata": {
        "id": "8k0nmReHJj9e"
      },
      "outputs": [],
      "source": [
        "import numpy as np\n",
        "import sys"
      ]
    }
  ]
}