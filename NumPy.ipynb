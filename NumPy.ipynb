{
  "nbformat": 4,
  "nbformat_minor": 0,
  "metadata": {
    "colab": {
      "provenance": [],
      "authorship_tag": "ABX9TyND73I0FHV865Bz110Uc2FF",
      "include_colab_link": true
    },
    "kernelspec": {
      "name": "python3",
      "display_name": "Python 3"
    },
    "language_info": {
      "name": "python"
    }
  },
  "cells": [
    {
      "cell_type": "markdown",
      "metadata": {
        "id": "view-in-github",
        "colab_type": "text"
      },
      "source": [
        "<a href=\"https://colab.research.google.com/github/Anjasfedo/data-analysis/blob/main/NumPy.ipynb\" target=\"_parent\"><img src=\"https://colab.research.google.com/assets/colab-badge.svg\" alt=\"Open In Colab\"/></a>"
      ]
    },
    {
      "cell_type": "markdown",
      "source": [
        "# Introduction\n",
        "What is NumPy?\n",
        "\n",
        "NumPy is multi-dimensional array library (1D, 2D, 3D, etc)\n",
        "\n",
        "How are list different from NumPy?\n",
        "1. list:\n",
        "  - slow (list contain 4 space such Size, Reference Count, Object Type, Object Value)\n",
        "2. NumPy:\n",
        "  - Fast (because of fixed type, by default got Int32)\n",
        "  - faster to read less bytes of memory\n",
        "  - no type checking when iterating through objects\n",
        "  - Contiguous Memory\n",
        "  - use SIMD (single instruction multiple data) Vector Processing\n",
        "  - Effective Cache utilization\n",
        "\n",
        "How are lists different from NumPy?\n",
        "1. list, we can do some method:\n",
        "  - insertion\n",
        "  - deletion\n",
        "  - appending\n",
        "  - concatenation\n",
        "  - etc\n",
        "2. NumPy:\n",
        "  - insertion\n",
        "  - deletion\n",
        "  - appending\n",
        "  - concatenation\n",
        "  - etc\n",
        "  - Moree....\n",
        "\n",
        "Application of NumPy?\n",
        "- Mathematics (MATLAB Replacement)\n",
        "- Plotting (Matplotlib)\n",
        "- Backend (Pandas, Connect 4, Digital Photography)\n",
        "- Machine Learning\n"
      ],
      "metadata": {
        "id": "Te9mQ1vNKP_q"
      }
    },
    {
      "cell_type": "markdown",
      "source": [
        "# Import NumPy"
      ],
      "metadata": {
        "id": "AeyazTCPKM5v"
      }
    },
    {
      "cell_type": "code",
      "execution_count": 1,
      "metadata": {
        "id": "8k0nmReHJj9e"
      },
      "outputs": [],
      "source": [
        "import numpy as np\n",
        "import sys"
      ]
    },
    {
      "cell_type": "markdown",
      "source": [
        "# The Basics"
      ],
      "metadata": {
        "id": "W1rJO45QOEy-"
      }
    },
    {
      "cell_type": "code",
      "source": [
        "a = np.array([1, 2, 3], dtype=\"int16\")\n",
        "print(a)"
      ],
      "metadata": {
        "colab": {
          "base_uri": "https://localhost:8080/"
        },
        "id": "-miMEyloOGf1",
        "outputId": "8ed40436-c6fe-41a3-d41b-1c3e7b3f56a8"
      },
      "execution_count": 18,
      "outputs": [
        {
          "output_type": "stream",
          "name": "stdout",
          "text": [
            "[1 2 3]\n"
          ]
        }
      ]
    },
    {
      "cell_type": "code",
      "source": [
        "b = np.array([[9.0, 8.0, 7.0], [6.0, 5.0, 4.0]])\n",
        "print(b)"
      ],
      "metadata": {
        "colab": {
          "base_uri": "https://localhost:8080/"
        },
        "id": "RitDTGGeOJ6L",
        "outputId": "a5abc230-8cde-4fd8-9de4-45dc84c8ee2b"
      },
      "execution_count": 11,
      "outputs": [
        {
          "output_type": "stream",
          "name": "stdout",
          "text": [
            "[[9. 8. 7.]\n",
            " [6. 5. 4.]]\n"
          ]
        }
      ]
    },
    {
      "cell_type": "code",
      "source": [
        "# Get dimension\n",
        "print(a.ndim)\n",
        "print(b.ndim)"
      ],
      "metadata": {
        "colab": {
          "base_uri": "https://localhost:8080/"
        },
        "id": "KHF4yVYMOTxy",
        "outputId": "76cee89e-8a95-4420-d70c-5fef651addb9"
      },
      "execution_count": 12,
      "outputs": [
        {
          "output_type": "stream",
          "name": "stdout",
          "text": [
            "1\n",
            "2\n"
          ]
        }
      ]
    },
    {
      "cell_type": "code",
      "source": [
        "# Get shape\n",
        "print(a.shape)\n",
        "print(b.shape) # (row, column)"
      ],
      "metadata": {
        "colab": {
          "base_uri": "https://localhost:8080/"
        },
        "id": "FjUfHti4OXu4",
        "outputId": "50c9ab35-cb95-42e5-cee0-af06ee72cbaf"
      },
      "execution_count": 13,
      "outputs": [
        {
          "output_type": "stream",
          "name": "stdout",
          "text": [
            "(3,)\n",
            "(2, 3)\n"
          ]
        }
      ]
    },
    {
      "cell_type": "code",
      "source": [
        "# Get type\n",
        "print(a.dtype)\n",
        "print(b.dtype)"
      ],
      "metadata": {
        "colab": {
          "base_uri": "https://localhost:8080/"
        },
        "id": "Dk2-vsoKOfiu",
        "outputId": "9a345404-1786-4935-9f18-7769ad32dfef"
      },
      "execution_count": 14,
      "outputs": [
        {
          "output_type": "stream",
          "name": "stdout",
          "text": [
            "int16\n",
            "float64\n"
          ]
        }
      ]
    },
    {
      "cell_type": "code",
      "source": [
        "# Get size (on memory)\n",
        "print(a.itemsize) # int16 = 2 bytes\n",
        "print(b.itemsize) # float64 = 8 bytes"
      ],
      "metadata": {
        "colab": {
          "base_uri": "https://localhost:8080/"
        },
        "id": "p3thWRoaOuoc",
        "outputId": "bbd04ae8-6056-4e20-e4e9-4f55da05d799"
      },
      "execution_count": 19,
      "outputs": [
        {
          "output_type": "stream",
          "name": "stdout",
          "text": [
            "2\n",
            "8\n"
          ]
        }
      ]
    },
    {
      "cell_type": "code",
      "source": [
        "# Get total size\n",
        "print(a.size * a.itemsize)\n",
        "print(b.size * b.itemsize)\n",
        "\n",
        "# or with .nbytes\n",
        "print(a.nbytes)\n",
        "print(b.nbytes)"
      ],
      "metadata": {
        "colab": {
          "base_uri": "https://localhost:8080/"
        },
        "id": "g0FLHHnEO-y9",
        "outputId": "6169cd8d-615d-4d47-bfa9-6bfefc872bb6"
      },
      "execution_count": 21,
      "outputs": [
        {
          "output_type": "stream",
          "name": "stdout",
          "text": [
            "6\n",
            "48\n",
            "6\n",
            "48\n"
          ]
        }
      ]
    },
    {
      "cell_type": "markdown",
      "source": [
        "# Accessing/Changing spesific elements, rows, columns, etc"
      ],
      "metadata": {
        "id": "mPkN1Q28Pe6n"
      }
    },
    {
      "cell_type": "markdown",
      "source": [
        "## 2D example"
      ],
      "metadata": {
        "id": "_VlPtPN5RHCH"
      }
    },
    {
      "cell_type": "code",
      "source": [
        "a = np.array([[1, 2, 3, 4, 5, 6, 7], [8, 9, 10, 11, 12, 13, 14]])\n",
        "print(a)"
      ],
      "metadata": {
        "colab": {
          "base_uri": "https://localhost:8080/"
        },
        "id": "VtiA--j-PkOI",
        "outputId": "888dcdc8-97a1-431f-aa52-01b6b4e9f992"
      },
      "execution_count": 32,
      "outputs": [
        {
          "output_type": "stream",
          "name": "stdout",
          "text": [
            "[[ 1  2  3  4  5  6  7]\n",
            " [ 8  9 10 11 12 13 14]]\n"
          ]
        }
      ]
    },
    {
      "cell_type": "code",
      "source": [
        "# Get specific element [row, column] by indexing (on lists use [row][column])\n",
        "a[1, 5]"
      ],
      "metadata": {
        "colab": {
          "base_uri": "https://localhost:8080/"
        },
        "id": "yTtMvw63Pt0z",
        "outputId": "3f27b426-0b7c-4617-dd92-d786fb8b3b2d"
      },
      "execution_count": 24,
      "outputs": [
        {
          "output_type": "execute_result",
          "data": {
            "text/plain": [
              "13"
            ]
          },
          "metadata": {},
          "execution_count": 24
        }
      ]
    },
    {
      "cell_type": "code",
      "source": [
        "# Get specific row\n",
        "a[0, :]"
      ],
      "metadata": {
        "colab": {
          "base_uri": "https://localhost:8080/"
        },
        "id": "b6Bxtg8JPt4P",
        "outputId": "a86c1588-5827-498b-8b5b-2578fb87f190"
      },
      "execution_count": 27,
      "outputs": [
        {
          "output_type": "execute_result",
          "data": {
            "text/plain": [
              "array([1, 2, 3, 4, 5, 6, 7])"
            ]
          },
          "metadata": {},
          "execution_count": 27
        }
      ]
    },
    {
      "cell_type": "code",
      "source": [
        "# Get specific column\n",
        "a[:, 2]"
      ],
      "metadata": {
        "colab": {
          "base_uri": "https://localhost:8080/"
        },
        "id": "Aj4uKVwdQJ92",
        "outputId": "275ba09b-14f1-4819-9f3d-15ad7f2a90bc"
      },
      "execution_count": 28,
      "outputs": [
        {
          "output_type": "execute_result",
          "data": {
            "text/plain": [
              "array([ 3, 10])"
            ]
          },
          "metadata": {},
          "execution_count": 28
        }
      ]
    },
    {
      "cell_type": "code",
      "source": [
        "# Getting little more fancy [start index:end index:step size]\n",
        "a[0, 1:6:2]"
      ],
      "metadata": {
        "colab": {
          "base_uri": "https://localhost:8080/"
        },
        "id": "LOYSkpf_QP6w",
        "outputId": "4d11376a-2a2c-4a19-a7cf-a00f3d5c5992"
      },
      "execution_count": 29,
      "outputs": [
        {
          "output_type": "execute_result",
          "data": {
            "text/plain": [
              "array([2, 4, 6])"
            ]
          },
          "metadata": {},
          "execution_count": 29
        }
      ]
    },
    {
      "cell_type": "code",
      "source": [
        "# Change specific element\n",
        "print(a[1, 5])\n",
        "\n",
        "a[1,5] = 20\n",
        "\n",
        "print(a[1, 5])"
      ],
      "metadata": {
        "colab": {
          "base_uri": "https://localhost:8080/"
        },
        "id": "slPjlXSoPt7L",
        "outputId": "74355c21-b888-4dee-f553-1f0d271d0d28"
      },
      "execution_count": 33,
      "outputs": [
        {
          "output_type": "stream",
          "name": "stdout",
          "text": [
            "13\n",
            "20\n"
          ]
        }
      ]
    },
    {
      "cell_type": "code",
      "source": [
        "# Change entire column\n",
        "print(a)\n",
        "\n",
        "# a[:, 2] = 5\n",
        "a[:, 2] = [1, 2]\n",
        "\n",
        "print(a)"
      ],
      "metadata": {
        "colab": {
          "base_uri": "https://localhost:8080/"
        },
        "id": "sKBC1LsvQxN8",
        "outputId": "21b92633-dfff-40b8-f1dc-45a4bb97de36"
      },
      "execution_count": 35,
      "outputs": [
        {
          "output_type": "stream",
          "name": "stdout",
          "text": [
            "[[ 1  2  5  4  5  6  7]\n",
            " [ 8  9  5 11 12 20 14]]\n",
            "[[ 1  2  1  4  5  6  7]\n",
            " [ 8  9  2 11 12 20 14]]\n"
          ]
        }
      ]
    },
    {
      "cell_type": "markdown",
      "source": [
        "## 3D example"
      ],
      "metadata": {
        "id": "5Op2gIQDRLHZ"
      }
    },
    {
      "cell_type": "code",
      "source": [
        "b = np.array([[[1, 2], [3, 4]], [[5, 6], [7, 8]]])\n",
        "print(b)"
      ],
      "metadata": {
        "colab": {
          "base_uri": "https://localhost:8080/"
        },
        "id": "L_S33bKfPuCA",
        "outputId": "571b5693-1dc0-45a3-ea81-5c281edcd4d3"
      },
      "execution_count": 39,
      "outputs": [
        {
          "output_type": "stream",
          "name": "stdout",
          "text": [
            "[[[1 2]\n",
            "  [3 4]]\n",
            "\n",
            " [[5 6]\n",
            "  [7 8]]]\n"
          ]
        }
      ]
    },
    {
      "cell_type": "code",
      "source": [
        "# Get specific element (work outside in)\n",
        "b[0, 1, 1]"
      ],
      "metadata": {
        "colab": {
          "base_uri": "https://localhost:8080/"
        },
        "id": "egvdBxmrRPiv",
        "outputId": "9cc7d335-dbf9-4dfc-8b39-65655b230c8f"
      },
      "execution_count": 40,
      "outputs": [
        {
          "output_type": "execute_result",
          "data": {
            "text/plain": [
              "4"
            ]
          },
          "metadata": {},
          "execution_count": 40
        }
      ]
    },
    {
      "cell_type": "code",
      "source": [
        "# Change\n",
        "print(b)\n",
        "print(b[:, 1, :])\n",
        "\n",
        "b[:, 1, :] = [[999, 999], [999, 999]]\n",
        "\n",
        "print(b)"
      ],
      "metadata": {
        "colab": {
          "base_uri": "https://localhost:8080/"
        },
        "id": "WVPqpJu4RPmv",
        "outputId": "d8bcfb1d-610e-444f-ce04-74f4982a4f7a"
      },
      "execution_count": 41,
      "outputs": [
        {
          "output_type": "stream",
          "name": "stdout",
          "text": [
            "[[[1 2]\n",
            "  [3 4]]\n",
            "\n",
            " [[5 6]\n",
            "  [7 8]]]\n",
            "[[3 4]\n",
            " [7 8]]\n",
            "[[[  1   2]\n",
            "  [999 999]]\n",
            "\n",
            " [[  5   6]\n",
            "  [999 999]]]\n"
          ]
        }
      ]
    },
    {
      "cell_type": "code",
      "source": [],
      "metadata": {
        "id": "8jcfr9AuPuGd"
      },
      "execution_count": null,
      "outputs": []
    },
    {
      "cell_type": "code",
      "source": [],
      "metadata": {
        "id": "ViSWov7uPuJy"
      },
      "execution_count": null,
      "outputs": []
    },
    {
      "cell_type": "code",
      "source": [],
      "metadata": {
        "id": "8Jt7EbnnPuNt"
      },
      "execution_count": null,
      "outputs": []
    }
  ]
}