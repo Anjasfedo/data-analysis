{
  "nbformat": 4,
  "nbformat_minor": 0,
  "metadata": {
    "colab": {
      "provenance": [],
      "authorship_tag": "ABX9TyNFlSlhcDjBQAdcX4ZesIFY",
      "include_colab_link": true
    },
    "kernelspec": {
      "name": "python3",
      "display_name": "Python 3"
    },
    "language_info": {
      "name": "python"
    }
  },
  "cells": [
    {
      "cell_type": "markdown",
      "metadata": {
        "id": "view-in-github",
        "colab_type": "text"
      },
      "source": [
        "<a href=\"https://colab.research.google.com/github/Anjasfedo/data-analysis/blob/main/NumPy.ipynb\" target=\"_parent\"><img src=\"https://colab.research.google.com/assets/colab-badge.svg\" alt=\"Open In Colab\"/></a>"
      ]
    },
    {
      "cell_type": "markdown",
      "source": [
        "# Introduction\n",
        "What is NumPy?\n",
        "\n",
        "NumPy is multi-dimensional array library (1D, 2D, 3D, etc)\n",
        "\n",
        "How are list different from NumPy?\n",
        "1. list:\n",
        "  - slow (list contain 4 space such Size, Reference Count, Object Type, Object Value)\n",
        "2. NumPy:\n",
        "  - Fast (because of fixed type, by default got Int32)\n",
        "  - faster to read less bytes of memory\n",
        "  - no type checking when iterating through objects\n",
        "  - Contiguous Memory\n",
        "  - use SIMD (single instruction multiple data) Vector Processing\n",
        "  - Effective Cache utilization\n",
        "\n",
        "How are lists different from NumPy?\n",
        "1. list, we can do some method:\n",
        "  - insertion\n",
        "  - deletion\n",
        "  - appending\n",
        "  - concatenation\n",
        "  - etc\n",
        "2. NumPy:\n",
        "  - insertion\n",
        "  - deletion\n",
        "  - appending\n",
        "  - concatenation\n",
        "  - etc\n",
        "  - Moree....\n",
        "\n",
        "Application of NumPy?\n",
        "- Mathematics (MATLAB Replacement)\n",
        "- Plotting (Matplotlib)\n",
        "- Backend (Pandas, Connect 4, Digital Photography)\n",
        "- Machine Learning\n"
      ],
      "metadata": {
        "id": "Te9mQ1vNKP_q"
      }
    },
    {
      "cell_type": "markdown",
      "source": [
        "# Import NumPy"
      ],
      "metadata": {
        "id": "AeyazTCPKM5v"
      }
    },
    {
      "cell_type": "code",
      "execution_count": 2,
      "metadata": {
        "id": "8k0nmReHJj9e"
      },
      "outputs": [],
      "source": [
        "import numpy as np\n",
        "import sys"
      ]
    },
    {
      "cell_type": "markdown",
      "source": [
        "# The Basics"
      ],
      "metadata": {
        "id": "W1rJO45QOEy-"
      }
    },
    {
      "cell_type": "code",
      "source": [
        "a = np.array([1, 2, 3], dtype=\"int16\")\n",
        "print(a)"
      ],
      "metadata": {
        "colab": {
          "base_uri": "https://localhost:8080/"
        },
        "id": "-miMEyloOGf1",
        "outputId": "aba1102a-0922-40f2-b92f-9f6651a8029b"
      },
      "execution_count": 3,
      "outputs": [
        {
          "output_type": "stream",
          "name": "stdout",
          "text": [
            "[1 2 3]\n"
          ]
        }
      ]
    },
    {
      "cell_type": "code",
      "source": [
        "b = np.array([[9.0, 8.0, 7.0], [6.0, 5.0, 4.0]])\n",
        "print(b)"
      ],
      "metadata": {
        "colab": {
          "base_uri": "https://localhost:8080/"
        },
        "id": "RitDTGGeOJ6L",
        "outputId": "93cd0bfc-2cb4-4647-8769-f856ec4b5200"
      },
      "execution_count": 4,
      "outputs": [
        {
          "output_type": "stream",
          "name": "stdout",
          "text": [
            "[[9. 8. 7.]\n",
            " [6. 5. 4.]]\n"
          ]
        }
      ]
    },
    {
      "cell_type": "code",
      "source": [
        "# Get dimension\n",
        "print(a.ndim)\n",
        "print(b.ndim)"
      ],
      "metadata": {
        "colab": {
          "base_uri": "https://localhost:8080/"
        },
        "id": "KHF4yVYMOTxy",
        "outputId": "a6bbc98a-d925-489f-a49d-8a3d7677028d"
      },
      "execution_count": 5,
      "outputs": [
        {
          "output_type": "stream",
          "name": "stdout",
          "text": [
            "1\n",
            "2\n"
          ]
        }
      ]
    },
    {
      "cell_type": "code",
      "source": [
        "# Get shape\n",
        "print(a.shape)\n",
        "print(b.shape) # (row, column)"
      ],
      "metadata": {
        "colab": {
          "base_uri": "https://localhost:8080/"
        },
        "id": "FjUfHti4OXu4",
        "outputId": "8fb15247-6979-4c33-cfaf-aa3c95f342d1"
      },
      "execution_count": 6,
      "outputs": [
        {
          "output_type": "stream",
          "name": "stdout",
          "text": [
            "(3,)\n",
            "(2, 3)\n"
          ]
        }
      ]
    },
    {
      "cell_type": "code",
      "source": [
        "# Get type\n",
        "print(a.dtype)\n",
        "print(b.dtype)"
      ],
      "metadata": {
        "colab": {
          "base_uri": "https://localhost:8080/"
        },
        "id": "Dk2-vsoKOfiu",
        "outputId": "4b92e285-d0b6-44e0-d82d-ddeb109e5cb9"
      },
      "execution_count": 7,
      "outputs": [
        {
          "output_type": "stream",
          "name": "stdout",
          "text": [
            "int16\n",
            "float64\n"
          ]
        }
      ]
    },
    {
      "cell_type": "code",
      "source": [
        "# Get size (on memory)\n",
        "print(a.itemsize) # int16 = 2 bytes\n",
        "print(b.itemsize) # float64 = 8 bytes"
      ],
      "metadata": {
        "colab": {
          "base_uri": "https://localhost:8080/"
        },
        "id": "p3thWRoaOuoc",
        "outputId": "98d145de-1ca6-4c70-e102-9525c1698b8d"
      },
      "execution_count": 8,
      "outputs": [
        {
          "output_type": "stream",
          "name": "stdout",
          "text": [
            "2\n",
            "8\n"
          ]
        }
      ]
    },
    {
      "cell_type": "code",
      "source": [
        "# Get total size\n",
        "print(a.size * a.itemsize)\n",
        "print(b.size * b.itemsize)\n",
        "\n",
        "# or with .nbytes\n",
        "print(a.nbytes)\n",
        "print(b.nbytes)"
      ],
      "metadata": {
        "colab": {
          "base_uri": "https://localhost:8080/"
        },
        "id": "g0FLHHnEO-y9",
        "outputId": "0d9fd7fa-3fbb-4e13-e32d-b880c71aede9"
      },
      "execution_count": 9,
      "outputs": [
        {
          "output_type": "stream",
          "name": "stdout",
          "text": [
            "6\n",
            "48\n",
            "6\n",
            "48\n"
          ]
        }
      ]
    },
    {
      "cell_type": "markdown",
      "source": [
        "# Accessing/Changing spesific elements, rows, columns, etc"
      ],
      "metadata": {
        "id": "mPkN1Q28Pe6n"
      }
    },
    {
      "cell_type": "markdown",
      "source": [
        "## 2D example"
      ],
      "metadata": {
        "id": "_VlPtPN5RHCH"
      }
    },
    {
      "cell_type": "code",
      "source": [
        "a = np.array([[1, 2, 3, 4, 5, 6, 7], [8, 9, 10, 11, 12, 13, 14]])\n",
        "print(a)"
      ],
      "metadata": {
        "colab": {
          "base_uri": "https://localhost:8080/"
        },
        "id": "VtiA--j-PkOI",
        "outputId": "a86b3eb6-02ba-4de3-bdfd-621416d982d8"
      },
      "execution_count": 10,
      "outputs": [
        {
          "output_type": "stream",
          "name": "stdout",
          "text": [
            "[[ 1  2  3  4  5  6  7]\n",
            " [ 8  9 10 11 12 13 14]]\n"
          ]
        }
      ]
    },
    {
      "cell_type": "code",
      "source": [
        "# Get specific element [row, column] by indexing (on lists use [row][column])\n",
        "a[1, 5]"
      ],
      "metadata": {
        "colab": {
          "base_uri": "https://localhost:8080/"
        },
        "id": "yTtMvw63Pt0z",
        "outputId": "e2c0577a-bcd7-4c74-cd7d-213a1163a01e"
      },
      "execution_count": 11,
      "outputs": [
        {
          "output_type": "execute_result",
          "data": {
            "text/plain": [
              "13"
            ]
          },
          "metadata": {},
          "execution_count": 11
        }
      ]
    },
    {
      "cell_type": "code",
      "source": [
        "# Get specific row\n",
        "a[0, :]"
      ],
      "metadata": {
        "colab": {
          "base_uri": "https://localhost:8080/"
        },
        "id": "b6Bxtg8JPt4P",
        "outputId": "ff11d7ea-9190-43b2-ceec-b1b4824caff8"
      },
      "execution_count": 12,
      "outputs": [
        {
          "output_type": "execute_result",
          "data": {
            "text/plain": [
              "array([1, 2, 3, 4, 5, 6, 7])"
            ]
          },
          "metadata": {},
          "execution_count": 12
        }
      ]
    },
    {
      "cell_type": "code",
      "source": [
        "# Get specific column\n",
        "a[:, 2]"
      ],
      "metadata": {
        "colab": {
          "base_uri": "https://localhost:8080/"
        },
        "id": "Aj4uKVwdQJ92",
        "outputId": "c9b20d57-bc1a-47e2-c806-207c3513bb7c"
      },
      "execution_count": 13,
      "outputs": [
        {
          "output_type": "execute_result",
          "data": {
            "text/plain": [
              "array([ 3, 10])"
            ]
          },
          "metadata": {},
          "execution_count": 13
        }
      ]
    },
    {
      "cell_type": "code",
      "source": [
        "# Getting little more fancy [start index:end index:step size]\n",
        "a[0, 1:6:2]"
      ],
      "metadata": {
        "colab": {
          "base_uri": "https://localhost:8080/"
        },
        "id": "LOYSkpf_QP6w",
        "outputId": "f3eed153-3d68-49e7-c24a-5ebecc6aa227"
      },
      "execution_count": 14,
      "outputs": [
        {
          "output_type": "execute_result",
          "data": {
            "text/plain": [
              "array([2, 4, 6])"
            ]
          },
          "metadata": {},
          "execution_count": 14
        }
      ]
    },
    {
      "cell_type": "code",
      "source": [
        "# Change specific element\n",
        "print(a[1, 5])\n",
        "\n",
        "a[1,5] = 20\n",
        "\n",
        "print(a[1, 5])"
      ],
      "metadata": {
        "colab": {
          "base_uri": "https://localhost:8080/"
        },
        "id": "slPjlXSoPt7L",
        "outputId": "ba51b809-8229-4399-fc55-3510096649ad"
      },
      "execution_count": 15,
      "outputs": [
        {
          "output_type": "stream",
          "name": "stdout",
          "text": [
            "13\n",
            "20\n"
          ]
        }
      ]
    },
    {
      "cell_type": "code",
      "source": [
        "# Change entire column\n",
        "print(a)\n",
        "\n",
        "# a[:, 2] = 5\n",
        "a[:, 2] = [1, 2]\n",
        "\n",
        "print(a)"
      ],
      "metadata": {
        "colab": {
          "base_uri": "https://localhost:8080/"
        },
        "id": "sKBC1LsvQxN8",
        "outputId": "78a99abe-3532-42b5-a094-262f006c1125"
      },
      "execution_count": 16,
      "outputs": [
        {
          "output_type": "stream",
          "name": "stdout",
          "text": [
            "[[ 1  2  3  4  5  6  7]\n",
            " [ 8  9 10 11 12 20 14]]\n",
            "[[ 1  2  1  4  5  6  7]\n",
            " [ 8  9  2 11 12 20 14]]\n"
          ]
        }
      ]
    },
    {
      "cell_type": "markdown",
      "source": [
        "## 3D example"
      ],
      "metadata": {
        "id": "5Op2gIQDRLHZ"
      }
    },
    {
      "cell_type": "code",
      "source": [
        "b = np.array([[[1, 2], [3, 4]], [[5, 6], [7, 8]]])\n",
        "print(b)"
      ],
      "metadata": {
        "colab": {
          "base_uri": "https://localhost:8080/"
        },
        "id": "L_S33bKfPuCA",
        "outputId": "66c82c58-9473-4b47-a0ea-f3513060ed14"
      },
      "execution_count": 17,
      "outputs": [
        {
          "output_type": "stream",
          "name": "stdout",
          "text": [
            "[[[1 2]\n",
            "  [3 4]]\n",
            "\n",
            " [[5 6]\n",
            "  [7 8]]]\n"
          ]
        }
      ]
    },
    {
      "cell_type": "code",
      "source": [
        "# Get specific element (work outside in)\n",
        "b[0, 1, 1]"
      ],
      "metadata": {
        "colab": {
          "base_uri": "https://localhost:8080/"
        },
        "id": "egvdBxmrRPiv",
        "outputId": "382717eb-afec-4c30-ece6-bf9ddc0e0cfb"
      },
      "execution_count": 18,
      "outputs": [
        {
          "output_type": "execute_result",
          "data": {
            "text/plain": [
              "4"
            ]
          },
          "metadata": {},
          "execution_count": 18
        }
      ]
    },
    {
      "cell_type": "code",
      "source": [
        "# Change\n",
        "print(b)\n",
        "print(b[:, 1, :])\n",
        "\n",
        "b[:, 1, :] = [[999, 999], [999, 999]]\n",
        "\n",
        "print(b)"
      ],
      "metadata": {
        "colab": {
          "base_uri": "https://localhost:8080/"
        },
        "id": "WVPqpJu4RPmv",
        "outputId": "03b69ce0-72d8-4baa-9516-4682b34b0dd7"
      },
      "execution_count": 19,
      "outputs": [
        {
          "output_type": "stream",
          "name": "stdout",
          "text": [
            "[[[1 2]\n",
            "  [3 4]]\n",
            "\n",
            " [[5 6]\n",
            "  [7 8]]]\n",
            "[[3 4]\n",
            " [7 8]]\n",
            "[[[  1   2]\n",
            "  [999 999]]\n",
            "\n",
            " [[  5   6]\n",
            "  [999 999]]]\n"
          ]
        }
      ]
    },
    {
      "cell_type": "markdown",
      "source": [
        "# Initialixing Different Types of Arrays"
      ],
      "metadata": {
        "id": "4Q-u4oEiSYYV"
      }
    },
    {
      "cell_type": "code",
      "source": [
        "# All 0s matrix\n",
        "np.zeros((2, 3))"
      ],
      "metadata": {
        "colab": {
          "base_uri": "https://localhost:8080/"
        },
        "id": "8jcfr9AuPuGd",
        "outputId": "a47c6163-a60f-40df-b4cf-71cee289bccb"
      },
      "execution_count": 20,
      "outputs": [
        {
          "output_type": "execute_result",
          "data": {
            "text/plain": [
              "array([[0., 0., 0.],\n",
              "       [0., 0., 0.]])"
            ]
          },
          "metadata": {},
          "execution_count": 20
        }
      ]
    },
    {
      "cell_type": "code",
      "source": [
        "# All 1s matrix\n",
        "np.ones((4, 2, 2), dtype=\"int32\")"
      ],
      "metadata": {
        "colab": {
          "base_uri": "https://localhost:8080/"
        },
        "id": "ViSWov7uPuJy",
        "outputId": "8e82311b-d2a2-4add-e0bb-85329fd77ce2"
      },
      "execution_count": 21,
      "outputs": [
        {
          "output_type": "execute_result",
          "data": {
            "text/plain": [
              "array([[[1, 1],\n",
              "        [1, 1]],\n",
              "\n",
              "       [[1, 1],\n",
              "        [1, 1]],\n",
              "\n",
              "       [[1, 1],\n",
              "        [1, 1]],\n",
              "\n",
              "       [[1, 1],\n",
              "        [1, 1]]], dtype=int32)"
            ]
          },
          "metadata": {},
          "execution_count": 21
        }
      ]
    },
    {
      "cell_type": "code",
      "source": [
        "# Any other number\n",
        "print(np.full((2, 2), 99))\n",
        "\n",
        "print(np.full(b.shape, 99))"
      ],
      "metadata": {
        "colab": {
          "base_uri": "https://localhost:8080/"
        },
        "id": "V36nvDQvTEVx",
        "outputId": "27ab490a-30aa-4f9c-9794-4099d8854c39"
      },
      "execution_count": 22,
      "outputs": [
        {
          "output_type": "stream",
          "name": "stdout",
          "text": [
            "[[99 99]\n",
            " [99 99]]\n",
            "[[[99 99]\n",
            "  [99 99]]\n",
            "\n",
            " [[99 99]\n",
            "  [99 99]]]\n"
          ]
        }
      ]
    },
    {
      "cell_type": "code",
      "source": [
        "# Any ohter number (full_like)\n",
        "c = np.full_like(a, 4)\n",
        "\n",
        "print(a.shape)\n",
        "print(c.shape)"
      ],
      "metadata": {
        "colab": {
          "base_uri": "https://localhost:8080/"
        },
        "id": "E--6Q9XATNX8",
        "outputId": "c1d6de98-505e-4231-ec2e-2e77832361a5"
      },
      "execution_count": 23,
      "outputs": [
        {
          "output_type": "stream",
          "name": "stdout",
          "text": [
            "(2, 7)\n",
            "(2, 7)\n"
          ]
        }
      ]
    },
    {
      "cell_type": "code",
      "source": [
        "# Random decinal numbers\n",
        "print(np.random.rand(4, 2))\n",
        "\n",
        "# With shape of other array\n",
        "print(np.random.random_sample(a.shape))"
      ],
      "metadata": {
        "colab": {
          "base_uri": "https://localhost:8080/"
        },
        "id": "rwILUaPOTNbI",
        "outputId": "0d3dcaeb-66ee-4122-a3ee-90d5a8d6ce34"
      },
      "execution_count": 24,
      "outputs": [
        {
          "output_type": "stream",
          "name": "stdout",
          "text": [
            "[[0.48943719 0.10580857]\n",
            " [0.79896478 0.94296295]\n",
            " [0.02712139 0.96950707]\n",
            " [0.81918454 0.60202361]]\n",
            "[[0.77112071 0.48825383 0.37123421 0.56230731 0.06776829 0.66264551\n",
            "  0.10879256]\n",
            " [0.30278379 0.94389881 0.83862506 0.76557099 0.25420123 0.25366365\n",
            "  0.97615956]]\n"
          ]
        }
      ]
    },
    {
      "cell_type": "code",
      "source": [
        "# Random integer values\n",
        "print(np.random.randint(7, size=(3, 3))) # 7 is exclusive\n",
        "\n",
        "print(np.random.randint(-2, 7, size=(3, 3)))"
      ],
      "metadata": {
        "colab": {
          "base_uri": "https://localhost:8080/"
        },
        "id": "2cGY8yabUE8a",
        "outputId": "50a5a32e-bcd7-4782-f5d6-7aa66960ac95"
      },
      "execution_count": 25,
      "outputs": [
        {
          "output_type": "stream",
          "name": "stdout",
          "text": [
            "[[2 2 1]\n",
            " [6 0 1]\n",
            " [1 6 5]]\n",
            "[[ 3  4 -2]\n",
            " [ 2  6  1]\n",
            " [ 2  0  2]]\n"
          ]
        }
      ]
    },
    {
      "cell_type": "code",
      "source": [
        "# The identity matrix\n",
        "np.identity(5)"
      ],
      "metadata": {
        "colab": {
          "base_uri": "https://localhost:8080/"
        },
        "id": "7PA7IvdhUE_3",
        "outputId": "27dfd6ee-c8f7-4314-a9ec-9623588a165e"
      },
      "execution_count": 26,
      "outputs": [
        {
          "output_type": "execute_result",
          "data": {
            "text/plain": [
              "array([[1., 0., 0., 0., 0.],\n",
              "       [0., 1., 0., 0., 0.],\n",
              "       [0., 0., 1., 0., 0.],\n",
              "       [0., 0., 0., 1., 0.],\n",
              "       [0., 0., 0., 0., 1.]])"
            ]
          },
          "metadata": {},
          "execution_count": 26
        }
      ]
    },
    {
      "cell_type": "code",
      "source": [
        "# Repeat an array\n",
        "arr = np.array([[1, 2, 3]])\n",
        "\n",
        "r1 = np.repeat(arr, 3, axis=0)\n",
        "print(r1)"
      ],
      "metadata": {
        "colab": {
          "base_uri": "https://localhost:8080/"
        },
        "id": "s-bUNlHBUnpG",
        "outputId": "3261d290-d357-4691-bfe2-0bf64b03a9ac"
      },
      "execution_count": 27,
      "outputs": [
        {
          "output_type": "stream",
          "name": "stdout",
          "text": [
            "[[1 2 3]\n",
            " [1 2 3]\n",
            " [1 2 3]]\n"
          ]
        }
      ]
    },
    {
      "cell_type": "markdown",
      "source": [
        "# Problem #1"
      ],
      "metadata": {
        "id": "j5aVgdE5VMMb"
      }
    },
    {
      "cell_type": "code",
      "source": [
        "problem1 = np.ones((5, 5))\n",
        "\n",
        "print(problem1)\n",
        "\n",
        "problem1[1:-1, 1:-1] = 0\n",
        "\n",
        "print(problem1)\n",
        "\n",
        "problem1[2, 2] = 9\n",
        "\n",
        "print(problem1)"
      ],
      "metadata": {
        "colab": {
          "base_uri": "https://localhost:8080/"
        },
        "id": "9XPqyM_pVPk7",
        "outputId": "323a7ceb-b853-4a07-86a2-5ecdbfe950fa"
      },
      "execution_count": 28,
      "outputs": [
        {
          "output_type": "stream",
          "name": "stdout",
          "text": [
            "[[1. 1. 1. 1. 1.]\n",
            " [1. 1. 1. 1. 1.]\n",
            " [1. 1. 1. 1. 1.]\n",
            " [1. 1. 1. 1. 1.]\n",
            " [1. 1. 1. 1. 1.]]\n",
            "[[1. 1. 1. 1. 1.]\n",
            " [1. 0. 0. 0. 1.]\n",
            " [1. 0. 0. 0. 1.]\n",
            " [1. 0. 0. 0. 1.]\n",
            " [1. 1. 1. 1. 1.]]\n",
            "[[1. 1. 1. 1. 1.]\n",
            " [1. 0. 0. 0. 1.]\n",
            " [1. 0. 9. 0. 1.]\n",
            " [1. 0. 0. 0. 1.]\n",
            " [1. 1. 1. 1. 1.]]\n"
          ]
        }
      ]
    },
    {
      "cell_type": "markdown",
      "source": [
        "# Be careful when copying variables!"
      ],
      "metadata": {
        "id": "krDxL5f2V82e"
      }
    },
    {
      "cell_type": "code",
      "source": [
        "a = np.array([1, 2, 3])\n",
        "b = a\n",
        "\n",
        "b[0] = 100\n",
        "\n",
        "print(f\"a:{a}\")\n",
        "print(f\"b:{b}\")\n",
        "\n",
        "# Change b will also change a"
      ],
      "metadata": {
        "colab": {
          "base_uri": "https://localhost:8080/"
        },
        "id": "-za6UmcwU6Q0",
        "outputId": "333ad462-ec7d-481c-9dfe-0d234a8bfd7a"
      },
      "execution_count": 29,
      "outputs": [
        {
          "output_type": "stream",
          "name": "stdout",
          "text": [
            "a:[100   2   3]\n",
            "b:[100   2   3]\n"
          ]
        }
      ]
    },
    {
      "cell_type": "code",
      "source": [
        "# Use .copy method\n",
        "c = a.copy()\n",
        "\n",
        "c[0] = 500\n",
        "\n",
        "print(f\"a:{a}\")\n",
        "print(f\"c:{c}\")"
      ],
      "metadata": {
        "colab": {
          "base_uri": "https://localhost:8080/"
        },
        "id": "b9_SLXN9WSxX",
        "outputId": "6c1b2261-c76a-4a5b-d9a3-5b81012e5af6"
      },
      "execution_count": 30,
      "outputs": [
        {
          "output_type": "stream",
          "name": "stdout",
          "text": [
            "a:[100   2   3]\n",
            "c:[500   2   3]\n"
          ]
        }
      ]
    },
    {
      "cell_type": "markdown",
      "source": [
        "# Mathematics"
      ],
      "metadata": {
        "id": "QhFuCuv3WhY_"
      }
    },
    {
      "cell_type": "code",
      "source": [
        "a = np.array([1, -2, 3, 4])\n",
        "\n",
        "print(a)"
      ],
      "metadata": {
        "colab": {
          "base_uri": "https://localhost:8080/"
        },
        "id": "fYbARyVPTNed",
        "outputId": "b0168962-31d4-4c93-88eb-f23703ffb4d4"
      },
      "execution_count": 31,
      "outputs": [
        {
          "output_type": "stream",
          "name": "stdout",
          "text": [
            "[ 1 -2  3  4]\n"
          ]
        }
      ]
    },
    {
      "cell_type": "code",
      "source": [
        "# Addition\n",
        "print(a + 2)"
      ],
      "metadata": {
        "colab": {
          "base_uri": "https://localhost:8080/"
        },
        "id": "3f3uP4WvTEYu",
        "outputId": "e2cb59be-4e89-478f-d71e-825de1b3dd2d"
      },
      "execution_count": 32,
      "outputs": [
        {
          "output_type": "stream",
          "name": "stdout",
          "text": [
            "[3 0 5 6]\n"
          ]
        }
      ]
    },
    {
      "cell_type": "code",
      "source": [
        "# Subtraction\n",
        "print(a - 2)"
      ],
      "metadata": {
        "colab": {
          "base_uri": "https://localhost:8080/"
        },
        "id": "ofOeRADfWyTb",
        "outputId": "6150d29c-9897-4ad7-af64-ff1454e8266d"
      },
      "execution_count": 33,
      "outputs": [
        {
          "output_type": "stream",
          "name": "stdout",
          "text": [
            "[-1 -4  1  2]\n"
          ]
        }
      ]
    },
    {
      "cell_type": "code",
      "source": [
        "# Multiplication\n",
        "print(a * 2)"
      ],
      "metadata": {
        "colab": {
          "base_uri": "https://localhost:8080/"
        },
        "id": "uKPNCHWQW1Ot",
        "outputId": "c6276ad9-2711-44e3-ef08-d7d1c174592f"
      },
      "execution_count": 34,
      "outputs": [
        {
          "output_type": "stream",
          "name": "stdout",
          "text": [
            "[ 2 -4  6  8]\n"
          ]
        }
      ]
    },
    {
      "cell_type": "code",
      "source": [
        "# Dividing\n",
        "print(a / 2)"
      ],
      "metadata": {
        "colab": {
          "base_uri": "https://localhost:8080/"
        },
        "id": "3zFGhGWrW4v9",
        "outputId": "362e7a97-ac54-44ac-d938-7c8bd2237e8c"
      },
      "execution_count": 35,
      "outputs": [
        {
          "output_type": "stream",
          "name": "stdout",
          "text": [
            "[ 0.5 -1.   1.5  2. ]\n"
          ]
        }
      ]
    },
    {
      "cell_type": "code",
      "source": [
        "b = np.array([1, 2, 1, 2])\n",
        "\n",
        "print(a)\n",
        "print(b)"
      ],
      "metadata": {
        "colab": {
          "base_uri": "https://localhost:8080/"
        },
        "id": "IIByaGQ3W4zS",
        "outputId": "1b45a8c0-4531-4751-c6c3-efa6a0a47cef"
      },
      "execution_count": 36,
      "outputs": [
        {
          "output_type": "stream",
          "name": "stdout",
          "text": [
            "[ 1 -2  3  4]\n",
            "[1 2 1 2]\n"
          ]
        }
      ]
    },
    {
      "cell_type": "code",
      "source": [
        "# Arithmetics two array\n",
        "print(a + b)\n",
        "print(a - b)\n",
        "print(a * b)\n",
        "print(a / b)"
      ],
      "metadata": {
        "colab": {
          "base_uri": "https://localhost:8080/"
        },
        "id": "2ufWmi0KW42K",
        "outputId": "0f053f3b-7cef-4bed-df96-f7d80250ec1d"
      },
      "execution_count": 37,
      "outputs": [
        {
          "output_type": "stream",
          "name": "stdout",
          "text": [
            "[2 0 4 6]\n",
            "[ 0 -4  2  2]\n",
            "[ 1 -4  3  8]\n",
            "[ 1. -1.  3.  2.]\n"
          ]
        }
      ]
    },
    {
      "cell_type": "code",
      "source": [
        "# Power\n",
        "print(a ** 2)"
      ],
      "metadata": {
        "colab": {
          "base_uri": "https://localhost:8080/"
        },
        "id": "gZEh0VMYW45G",
        "outputId": "e2b51084-576b-42c9-bfe1-975d9db3db8e"
      },
      "execution_count": 38,
      "outputs": [
        {
          "output_type": "stream",
          "name": "stdout",
          "text": [
            "[ 1  4  9 16]\n"
          ]
        }
      ]
    },
    {
      "cell_type": "code",
      "source": [
        "# Take the sin\n",
        "print(np.sin(a))\n",
        "\n",
        "# Take the cos\n",
        "print(np.cos(a))"
      ],
      "metadata": {
        "colab": {
          "base_uri": "https://localhost:8080/"
        },
        "id": "LFN-ALytWyWs",
        "outputId": "90c08560-21ca-4e8a-9c06-c2539e3e33d6"
      },
      "execution_count": 39,
      "outputs": [
        {
          "output_type": "stream",
          "name": "stdout",
          "text": [
            "[ 0.84147098 -0.90929743  0.14112001 -0.7568025 ]\n",
            "[ 0.54030231 -0.41614684 -0.9899925  -0.65364362]\n"
          ]
        }
      ]
    },
    {
      "cell_type": "markdown",
      "source": [
        "# Linear Algebra"
      ],
      "metadata": {
        "id": "ofY4EjifX___"
      }
    },
    {
      "cell_type": "code",
      "source": [
        "a = np.ones((2, 3))\n",
        "print(a)\n",
        "\n",
        "b = np.full((3, 2), 2)\n",
        "print(b)"
      ],
      "metadata": {
        "colab": {
          "base_uri": "https://localhost:8080/"
        },
        "id": "zRp6p1kjXrTi",
        "outputId": "535b5fe2-c1b0-4beb-e568-3150e855c637"
      },
      "execution_count": 40,
      "outputs": [
        {
          "output_type": "stream",
          "name": "stdout",
          "text": [
            "[[1. 1. 1.]\n",
            " [1. 1. 1.]]\n",
            "[[2 2]\n",
            " [2 2]\n",
            " [2 2]]\n"
          ]
        }
      ]
    },
    {
      "cell_type": "code",
      "source": [
        "# Matrix multiplication\n",
        "np.matmul(a, b)"
      ],
      "metadata": {
        "colab": {
          "base_uri": "https://localhost:8080/"
        },
        "id": "GElRTF_hXrWr",
        "outputId": "7aca91cb-76f4-42c2-9c16-b395aca03090"
      },
      "execution_count": 41,
      "outputs": [
        {
          "output_type": "execute_result",
          "data": {
            "text/plain": [
              "array([[6., 6.],\n",
              "       [6., 6.]])"
            ]
          },
          "metadata": {},
          "execution_count": 41
        }
      ]
    },
    {
      "cell_type": "code",
      "source": [
        "c = np.identity(3)\n",
        "print(c)"
      ],
      "metadata": {
        "colab": {
          "base_uri": "https://localhost:8080/"
        },
        "id": "NhXL2mMWYmka",
        "outputId": "b0d1f4f2-b010-4c9d-e5e0-84c9e1a4cdfe"
      },
      "execution_count": 42,
      "outputs": [
        {
          "output_type": "stream",
          "name": "stdout",
          "text": [
            "[[1. 0. 0.]\n",
            " [0. 1. 0.]\n",
            " [0. 0. 1.]]\n"
          ]
        }
      ]
    },
    {
      "cell_type": "code",
      "source": [
        "# Find the determinant\n",
        "np.linalg.det(c)"
      ],
      "metadata": {
        "colab": {
          "base_uri": "https://localhost:8080/"
        },
        "id": "7zR05pdaYotV",
        "outputId": "a6dcab42-f522-48ed-9a8b-0d72ca3f8cc6"
      },
      "execution_count": 43,
      "outputs": [
        {
          "output_type": "execute_result",
          "data": {
            "text/plain": [
              "1.0"
            ]
          },
          "metadata": {},
          "execution_count": 43
        }
      ]
    },
    {
      "cell_type": "markdown",
      "source": [
        "# Statistics"
      ],
      "metadata": {
        "id": "g1uWtQkuY-Jo"
      }
    },
    {
      "cell_type": "code",
      "source": [
        "stats = np.array([[1, 2, 3], [4, 5, 6]])\n",
        "print(stats)"
      ],
      "metadata": {
        "colab": {
          "base_uri": "https://localhost:8080/"
        },
        "id": "E17OfTA1EdT5",
        "outputId": "7169af7b-b77f-4220-c958-48c039a6a9d0"
      },
      "execution_count": 44,
      "outputs": [
        {
          "output_type": "stream",
          "name": "stdout",
          "text": [
            "[[1 2 3]\n",
            " [4 5 6]]\n"
          ]
        }
      ]
    },
    {
      "cell_type": "code",
      "source": [
        "# Min & Max\n",
        "print(np.min(stats))\n",
        "\n",
        "print(np.max(stats))"
      ],
      "metadata": {
        "colab": {
          "base_uri": "https://localhost:8080/"
        },
        "id": "kr3vNGn5Edb7",
        "outputId": "4ef3a4ac-d3e8-4627-d054-ccbc6ac7bd5c"
      },
      "execution_count": 46,
      "outputs": [
        {
          "output_type": "stream",
          "name": "stdout",
          "text": [
            "1\n",
            "6\n"
          ]
        }
      ]
    },
    {
      "cell_type": "code",
      "source": [
        "print(np.min(stats, axis=0)) # Horizontal\n",
        "\n",
        "print(np.min(stats, axis=1)) # Vertical"
      ],
      "metadata": {
        "colab": {
          "base_uri": "https://localhost:8080/"
        },
        "id": "dH0S4iUhEdfL",
        "outputId": "4fb4e0ad-c45b-4bf4-daaa-6f065f7f2ee6"
      },
      "execution_count": 49,
      "outputs": [
        {
          "output_type": "stream",
          "name": "stdout",
          "text": [
            "[1 2 3]\n",
            "[1 4]\n"
          ]
        }
      ]
    },
    {
      "cell_type": "code",
      "source": [
        "# Sum\n",
        "print(np.sum(stats))\n",
        "\n",
        "print(np.sum(stats, axis=0))\n",
        "\n",
        "print(np.sum(stats, axis=1))"
      ],
      "metadata": {
        "colab": {
          "base_uri": "https://localhost:8080/"
        },
        "id": "rsxgWZOxEdiQ",
        "outputId": "d365ed61-8600-41a8-eee1-fb911b0cfcaf"
      },
      "execution_count": 50,
      "outputs": [
        {
          "output_type": "stream",
          "name": "stdout",
          "text": [
            "21\n",
            "[5 7 9]\n",
            "[ 6 15]\n"
          ]
        }
      ]
    },
    {
      "cell_type": "markdown",
      "source": [
        "# Reorganizing Arrays"
      ],
      "metadata": {
        "id": "wt3Z3YFjFUa3"
      }
    },
    {
      "cell_type": "code",
      "source": [
        "before = np.array([[1, 2, 3, 4], [5, 6, 7, 8]])\n",
        "print(before)\n",
        "\n",
        "after = before.reshape((4, 2)) # Sum of data must match\n",
        "print(after)"
      ],
      "metadata": {
        "colab": {
          "base_uri": "https://localhost:8080/"
        },
        "id": "1hzTQVr1EdlE",
        "outputId": "dbd825aa-a32f-4c6f-cc53-f854a98bf912"
      },
      "execution_count": 53,
      "outputs": [
        {
          "output_type": "stream",
          "name": "stdout",
          "text": [
            "[[1 2 3 4]\n",
            " [5 6 7 8]]\n",
            "[[1 2]\n",
            " [3 4]\n",
            " [5 6]\n",
            " [7 8]]\n"
          ]
        }
      ]
    },
    {
      "cell_type": "code",
      "source": [
        "# Vertically stacking vectors\n",
        "v1 = np.array([1, 2, 3, 4])\n",
        "v2 = np.array([5, 6, 7, 8])\n",
        "\n",
        "np.vstack([v1, v2, v1, v2])"
      ],
      "metadata": {
        "colab": {
          "base_uri": "https://localhost:8080/"
        },
        "id": "KsNJGynAEdn8",
        "outputId": "b82cf4d7-37aa-4ef4-9cf5-cef93e19e9c7"
      },
      "execution_count": 54,
      "outputs": [
        {
          "output_type": "execute_result",
          "data": {
            "text/plain": [
              "array([[1, 2, 3, 4],\n",
              "       [5, 6, 7, 8],\n",
              "       [1, 2, 3, 4],\n",
              "       [5, 6, 7, 8]])"
            ]
          },
          "metadata": {},
          "execution_count": 54
        }
      ]
    },
    {
      "cell_type": "code",
      "source": [
        "# Horizontally stacking vectors\n",
        "h1 = np.ones((2, 4))\n",
        "h2 = np.zeros((2, 2))\n",
        "\n",
        "np.hstack((h1, h2))"
      ],
      "metadata": {
        "colab": {
          "base_uri": "https://localhost:8080/"
        },
        "id": "YrnDYm80Edqx",
        "outputId": "a5047391-5b88-480e-83bb-010dca6d5796"
      },
      "execution_count": 55,
      "outputs": [
        {
          "output_type": "execute_result",
          "data": {
            "text/plain": [
              "array([[1., 1., 1., 1., 0., 0.],\n",
              "       [1., 1., 1., 1., 0., 0.]])"
            ]
          },
          "metadata": {},
          "execution_count": 55
        }
      ]
    },
    {
      "cell_type": "code",
      "source": [],
      "metadata": {
        "id": "PilNr25pF-0L"
      },
      "execution_count": null,
      "outputs": []
    },
    {
      "cell_type": "code",
      "source": [],
      "metadata": {
        "id": "4JBOqgAuF-3R"
      },
      "execution_count": null,
      "outputs": []
    },
    {
      "cell_type": "code",
      "source": [],
      "metadata": {
        "id": "ixshwGwYF-7W"
      },
      "execution_count": null,
      "outputs": []
    },
    {
      "cell_type": "code",
      "source": [],
      "metadata": {
        "id": "GUEDbwR4F--y"
      },
      "execution_count": null,
      "outputs": []
    },
    {
      "cell_type": "code",
      "source": [],
      "metadata": {
        "id": "kiUkYJxTXraE"
      },
      "execution_count": 44,
      "outputs": []
    },
    {
      "cell_type": "code",
      "source": [],
      "metadata": {
        "id": "3MF4OK7fTEb5"
      },
      "execution_count": 44,
      "outputs": []
    },
    {
      "cell_type": "code",
      "source": [],
      "metadata": {
        "id": "8Jt7EbnnPuNt"
      },
      "execution_count": 44,
      "outputs": []
    }
  ]
}