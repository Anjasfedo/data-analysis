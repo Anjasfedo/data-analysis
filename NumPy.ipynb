{
  "nbformat": 4,
  "nbformat_minor": 0,
  "metadata": {
    "colab": {
      "provenance": [],
      "authorship_tag": "ABX9TyPKx8+D82I4svuEH7K2UEmK",
      "include_colab_link": true
    },
    "kernelspec": {
      "name": "python3",
      "display_name": "Python 3"
    },
    "language_info": {
      "name": "python"
    }
  },
  "cells": [
    {
      "cell_type": "markdown",
      "metadata": {
        "id": "view-in-github",
        "colab_type": "text"
      },
      "source": [
        "<a href=\"https://colab.research.google.com/github/Anjasfedo/data-analysis/blob/main/NumPy.ipynb\" target=\"_parent\"><img src=\"https://colab.research.google.com/assets/colab-badge.svg\" alt=\"Open In Colab\"/></a>"
      ]
    },
    {
      "cell_type": "markdown",
      "source": [
        "# Introduction\n",
        "What is NumPy?\n",
        "\n",
        "NumPy is multi-dimensional array library (1D, 2D, 3D, etc)\n",
        "\n",
        "How are list different from NumPy?\n",
        "1. list:\n",
        "  - slow (list contain 4 space such Size, Reference Count, Object Type, Object Value)\n",
        "2. NumPy:\n",
        "  - Fast (because of fixed type, by default got Int32)\n",
        "  - faster to read less bytes of memory\n",
        "  - no type checking when iterating through objects\n",
        "  - Contiguous Memory\n",
        "  - use SIMD (single instruction multiple data) Vector Processing\n",
        "  - Effective Cache utilization\n",
        "\n",
        "How are lists different from NumPy?\n",
        "1. list, we can do some method:\n",
        "  - insertion\n",
        "  - deletion\n",
        "  - appending\n",
        "  - concatenation\n",
        "  - etc\n",
        "2. NumPy:\n",
        "  - insertion\n",
        "  - deletion\n",
        "  - appending\n",
        "  - concatenation\n",
        "  - etc\n",
        "  - Moree....\n",
        "\n",
        "Application of NumPy?\n",
        "- Mathematics (MATLAB Replacement)\n",
        "- Plotting (Matplotlib)\n",
        "- Backend (Pandas, Connect 4, Digital Photography)\n",
        "- Machine Learning\n"
      ],
      "metadata": {
        "id": "Te9mQ1vNKP_q"
      }
    },
    {
      "cell_type": "markdown",
      "source": [
        "# Import NumPy"
      ],
      "metadata": {
        "id": "AeyazTCPKM5v"
      }
    },
    {
      "cell_type": "code",
      "execution_count": 1,
      "metadata": {
        "id": "8k0nmReHJj9e"
      },
      "outputs": [],
      "source": [
        "import numpy as np\n",
        "import sys"
      ]
    },
    {
      "cell_type": "markdown",
      "source": [
        "# The Basics"
      ],
      "metadata": {
        "id": "W1rJO45QOEy-"
      }
    },
    {
      "cell_type": "code",
      "source": [
        "a = np.array([1, 2, 3], dtype=\"int16\")\n",
        "print(a)"
      ],
      "metadata": {
        "colab": {
          "base_uri": "https://localhost:8080/"
        },
        "id": "-miMEyloOGf1",
        "outputId": "8ed40436-c6fe-41a3-d41b-1c3e7b3f56a8"
      },
      "execution_count": 18,
      "outputs": [
        {
          "output_type": "stream",
          "name": "stdout",
          "text": [
            "[1 2 3]\n"
          ]
        }
      ]
    },
    {
      "cell_type": "code",
      "source": [
        "b = np.array([[9.0, 8.0, 7.0], [6.0, 5.0, 4.0]])\n",
        "print(b)"
      ],
      "metadata": {
        "colab": {
          "base_uri": "https://localhost:8080/"
        },
        "id": "RitDTGGeOJ6L",
        "outputId": "a5abc230-8cde-4fd8-9de4-45dc84c8ee2b"
      },
      "execution_count": 11,
      "outputs": [
        {
          "output_type": "stream",
          "name": "stdout",
          "text": [
            "[[9. 8. 7.]\n",
            " [6. 5. 4.]]\n"
          ]
        }
      ]
    },
    {
      "cell_type": "code",
      "source": [
        "# Get dimension\n",
        "print(a.ndim)\n",
        "print(b.ndim)"
      ],
      "metadata": {
        "colab": {
          "base_uri": "https://localhost:8080/"
        },
        "id": "KHF4yVYMOTxy",
        "outputId": "76cee89e-8a95-4420-d70c-5fef651addb9"
      },
      "execution_count": 12,
      "outputs": [
        {
          "output_type": "stream",
          "name": "stdout",
          "text": [
            "1\n",
            "2\n"
          ]
        }
      ]
    },
    {
      "cell_type": "code",
      "source": [
        "# Get shape\n",
        "print(a.shape)\n",
        "print(b.shape) # (row, column)"
      ],
      "metadata": {
        "colab": {
          "base_uri": "https://localhost:8080/"
        },
        "id": "FjUfHti4OXu4",
        "outputId": "50c9ab35-cb95-42e5-cee0-af06ee72cbaf"
      },
      "execution_count": 13,
      "outputs": [
        {
          "output_type": "stream",
          "name": "stdout",
          "text": [
            "(3,)\n",
            "(2, 3)\n"
          ]
        }
      ]
    },
    {
      "cell_type": "code",
      "source": [
        "# Get type\n",
        "print(a.dtype)\n",
        "print(b.dtype)"
      ],
      "metadata": {
        "colab": {
          "base_uri": "https://localhost:8080/"
        },
        "id": "Dk2-vsoKOfiu",
        "outputId": "9a345404-1786-4935-9f18-7769ad32dfef"
      },
      "execution_count": 14,
      "outputs": [
        {
          "output_type": "stream",
          "name": "stdout",
          "text": [
            "int16\n",
            "float64\n"
          ]
        }
      ]
    },
    {
      "cell_type": "code",
      "source": [
        "# Get size (on memory)\n",
        "print(a.itemsize) # int16 = 2 bytes\n",
        "print(b.itemsize) # float64 = 8 bytes"
      ],
      "metadata": {
        "colab": {
          "base_uri": "https://localhost:8080/"
        },
        "id": "p3thWRoaOuoc",
        "outputId": "bbd04ae8-6056-4e20-e4e9-4f55da05d799"
      },
      "execution_count": 19,
      "outputs": [
        {
          "output_type": "stream",
          "name": "stdout",
          "text": [
            "2\n",
            "8\n"
          ]
        }
      ]
    },
    {
      "cell_type": "code",
      "source": [
        "# Get total size\n",
        "print(a.size * a.itemsize)\n",
        "print(b.size * b.itemsize)\n",
        "\n",
        "# or with .nbytes\n",
        "print(a.nbytes)\n",
        "print(b.nbytes)"
      ],
      "metadata": {
        "colab": {
          "base_uri": "https://localhost:8080/"
        },
        "id": "g0FLHHnEO-y9",
        "outputId": "6169cd8d-615d-4d47-bfa9-6bfefc872bb6"
      },
      "execution_count": 21,
      "outputs": [
        {
          "output_type": "stream",
          "name": "stdout",
          "text": [
            "6\n",
            "48\n",
            "6\n",
            "48\n"
          ]
        }
      ]
    },
    {
      "cell_type": "markdown",
      "source": [
        "# Accessing/Changing spesific elements, rows, columns, etc"
      ],
      "metadata": {
        "id": "mPkN1Q28Pe6n"
      }
    },
    {
      "cell_type": "markdown",
      "source": [
        "## 2D example"
      ],
      "metadata": {
        "id": "_VlPtPN5RHCH"
      }
    },
    {
      "cell_type": "code",
      "source": [
        "a = np.array([[1, 2, 3, 4, 5, 6, 7], [8, 9, 10, 11, 12, 13, 14]])\n",
        "print(a)"
      ],
      "metadata": {
        "colab": {
          "base_uri": "https://localhost:8080/"
        },
        "id": "VtiA--j-PkOI",
        "outputId": "888dcdc8-97a1-431f-aa52-01b6b4e9f992"
      },
      "execution_count": 32,
      "outputs": [
        {
          "output_type": "stream",
          "name": "stdout",
          "text": [
            "[[ 1  2  3  4  5  6  7]\n",
            " [ 8  9 10 11 12 13 14]]\n"
          ]
        }
      ]
    },
    {
      "cell_type": "code",
      "source": [
        "# Get specific element [row, column] by indexing (on lists use [row][column])\n",
        "a[1, 5]"
      ],
      "metadata": {
        "colab": {
          "base_uri": "https://localhost:8080/"
        },
        "id": "yTtMvw63Pt0z",
        "outputId": "3f27b426-0b7c-4617-dd92-d786fb8b3b2d"
      },
      "execution_count": 24,
      "outputs": [
        {
          "output_type": "execute_result",
          "data": {
            "text/plain": [
              "13"
            ]
          },
          "metadata": {},
          "execution_count": 24
        }
      ]
    },
    {
      "cell_type": "code",
      "source": [
        "# Get specific row\n",
        "a[0, :]"
      ],
      "metadata": {
        "colab": {
          "base_uri": "https://localhost:8080/"
        },
        "id": "b6Bxtg8JPt4P",
        "outputId": "a86c1588-5827-498b-8b5b-2578fb87f190"
      },
      "execution_count": 27,
      "outputs": [
        {
          "output_type": "execute_result",
          "data": {
            "text/plain": [
              "array([1, 2, 3, 4, 5, 6, 7])"
            ]
          },
          "metadata": {},
          "execution_count": 27
        }
      ]
    },
    {
      "cell_type": "code",
      "source": [
        "# Get specific column\n",
        "a[:, 2]"
      ],
      "metadata": {
        "colab": {
          "base_uri": "https://localhost:8080/"
        },
        "id": "Aj4uKVwdQJ92",
        "outputId": "275ba09b-14f1-4819-9f3d-15ad7f2a90bc"
      },
      "execution_count": 28,
      "outputs": [
        {
          "output_type": "execute_result",
          "data": {
            "text/plain": [
              "array([ 3, 10])"
            ]
          },
          "metadata": {},
          "execution_count": 28
        }
      ]
    },
    {
      "cell_type": "code",
      "source": [
        "# Getting little more fancy [start index:end index:step size]\n",
        "a[0, 1:6:2]"
      ],
      "metadata": {
        "colab": {
          "base_uri": "https://localhost:8080/"
        },
        "id": "LOYSkpf_QP6w",
        "outputId": "4d11376a-2a2c-4a19-a7cf-a00f3d5c5992"
      },
      "execution_count": 29,
      "outputs": [
        {
          "output_type": "execute_result",
          "data": {
            "text/plain": [
              "array([2, 4, 6])"
            ]
          },
          "metadata": {},
          "execution_count": 29
        }
      ]
    },
    {
      "cell_type": "code",
      "source": [
        "# Change specific element\n",
        "print(a[1, 5])\n",
        "\n",
        "a[1,5] = 20\n",
        "\n",
        "print(a[1, 5])"
      ],
      "metadata": {
        "colab": {
          "base_uri": "https://localhost:8080/"
        },
        "id": "slPjlXSoPt7L",
        "outputId": "74355c21-b888-4dee-f553-1f0d271d0d28"
      },
      "execution_count": 33,
      "outputs": [
        {
          "output_type": "stream",
          "name": "stdout",
          "text": [
            "13\n",
            "20\n"
          ]
        }
      ]
    },
    {
      "cell_type": "code",
      "source": [
        "# Change entire column\n",
        "print(a)\n",
        "\n",
        "# a[:, 2] = 5\n",
        "a[:, 2] = [1, 2]\n",
        "\n",
        "print(a)"
      ],
      "metadata": {
        "colab": {
          "base_uri": "https://localhost:8080/"
        },
        "id": "sKBC1LsvQxN8",
        "outputId": "21b92633-dfff-40b8-f1dc-45a4bb97de36"
      },
      "execution_count": 35,
      "outputs": [
        {
          "output_type": "stream",
          "name": "stdout",
          "text": [
            "[[ 1  2  5  4  5  6  7]\n",
            " [ 8  9  5 11 12 20 14]]\n",
            "[[ 1  2  1  4  5  6  7]\n",
            " [ 8  9  2 11 12 20 14]]\n"
          ]
        }
      ]
    },
    {
      "cell_type": "markdown",
      "source": [
        "## 3D example"
      ],
      "metadata": {
        "id": "5Op2gIQDRLHZ"
      }
    },
    {
      "cell_type": "code",
      "source": [
        "b = np.array([[[1, 2], [3, 4]], [[5, 6], [7, 8]]])\n",
        "print(b)"
      ],
      "metadata": {
        "colab": {
          "base_uri": "https://localhost:8080/"
        },
        "id": "L_S33bKfPuCA",
        "outputId": "571b5693-1dc0-45a3-ea81-5c281edcd4d3"
      },
      "execution_count": 39,
      "outputs": [
        {
          "output_type": "stream",
          "name": "stdout",
          "text": [
            "[[[1 2]\n",
            "  [3 4]]\n",
            "\n",
            " [[5 6]\n",
            "  [7 8]]]\n"
          ]
        }
      ]
    },
    {
      "cell_type": "code",
      "source": [
        "# Get specific element (work outside in)\n",
        "b[0, 1, 1]"
      ],
      "metadata": {
        "colab": {
          "base_uri": "https://localhost:8080/"
        },
        "id": "egvdBxmrRPiv",
        "outputId": "9cc7d335-dbf9-4dfc-8b39-65655b230c8f"
      },
      "execution_count": 40,
      "outputs": [
        {
          "output_type": "execute_result",
          "data": {
            "text/plain": [
              "4"
            ]
          },
          "metadata": {},
          "execution_count": 40
        }
      ]
    },
    {
      "cell_type": "code",
      "source": [
        "# Change\n",
        "print(b)\n",
        "print(b[:, 1, :])\n",
        "\n",
        "b[:, 1, :] = [[999, 999], [999, 999]]\n",
        "\n",
        "print(b)"
      ],
      "metadata": {
        "colab": {
          "base_uri": "https://localhost:8080/"
        },
        "id": "WVPqpJu4RPmv",
        "outputId": "d8bcfb1d-610e-444f-ce04-74f4982a4f7a"
      },
      "execution_count": 41,
      "outputs": [
        {
          "output_type": "stream",
          "name": "stdout",
          "text": [
            "[[[1 2]\n",
            "  [3 4]]\n",
            "\n",
            " [[5 6]\n",
            "  [7 8]]]\n",
            "[[3 4]\n",
            " [7 8]]\n",
            "[[[  1   2]\n",
            "  [999 999]]\n",
            "\n",
            " [[  5   6]\n",
            "  [999 999]]]\n"
          ]
        }
      ]
    },
    {
      "cell_type": "markdown",
      "source": [
        "# Initialixing Different Types of Arrays"
      ],
      "metadata": {
        "id": "4Q-u4oEiSYYV"
      }
    },
    {
      "cell_type": "code",
      "source": [
        "# All 0s matrix\n",
        "np.zeros((2, 3))"
      ],
      "metadata": {
        "colab": {
          "base_uri": "https://localhost:8080/"
        },
        "id": "8jcfr9AuPuGd",
        "outputId": "35bc8718-5994-4beb-ffd9-4dde5e51c317"
      },
      "execution_count": 42,
      "outputs": [
        {
          "output_type": "execute_result",
          "data": {
            "text/plain": [
              "array([[0., 0., 0.],\n",
              "       [0., 0., 0.]])"
            ]
          },
          "metadata": {},
          "execution_count": 42
        }
      ]
    },
    {
      "cell_type": "code",
      "source": [
        "# All 1s matrix\n",
        "np.ones((4, 2, 2), dtype=\"int32\")"
      ],
      "metadata": {
        "colab": {
          "base_uri": "https://localhost:8080/"
        },
        "id": "ViSWov7uPuJy",
        "outputId": "4cad3a29-b0e4-480a-cb7e-fb3e6faf0602"
      },
      "execution_count": 43,
      "outputs": [
        {
          "output_type": "execute_result",
          "data": {
            "text/plain": [
              "array([[[1, 1],\n",
              "        [1, 1]],\n",
              "\n",
              "       [[1, 1],\n",
              "        [1, 1]],\n",
              "\n",
              "       [[1, 1],\n",
              "        [1, 1]],\n",
              "\n",
              "       [[1, 1],\n",
              "        [1, 1]]], dtype=int32)"
            ]
          },
          "metadata": {},
          "execution_count": 43
        }
      ]
    },
    {
      "cell_type": "code",
      "source": [
        "# Any other number\n",
        "print(np.full((2, 2), 99))\n",
        "\n",
        "print(np.full(b.shape, 99))"
      ],
      "metadata": {
        "colab": {
          "base_uri": "https://localhost:8080/"
        },
        "id": "V36nvDQvTEVx",
        "outputId": "47591033-d046-4a5d-bb00-5f24f8c1a3dd"
      },
      "execution_count": 47,
      "outputs": [
        {
          "output_type": "stream",
          "name": "stdout",
          "text": [
            "[[99 99]\n",
            " [99 99]]\n",
            "[[[99 99]\n",
            "  [99 99]]\n",
            "\n",
            " [[99 99]\n",
            "  [99 99]]]\n"
          ]
        }
      ]
    },
    {
      "cell_type": "code",
      "source": [
        "# Any ohter number (full_like)\n",
        "c = np.full_like(a, 4)\n",
        "\n",
        "print(a.shape)\n",
        "print(c.shape)"
      ],
      "metadata": {
        "colab": {
          "base_uri": "https://localhost:8080/"
        },
        "id": "E--6Q9XATNX8",
        "outputId": "a1d718d7-0706-4590-9903-0b114d89aca0"
      },
      "execution_count": 46,
      "outputs": [
        {
          "output_type": "stream",
          "name": "stdout",
          "text": [
            "(2, 7)\n",
            "(2, 7)\n"
          ]
        }
      ]
    },
    {
      "cell_type": "code",
      "source": [
        "# Random decinal numbers\n",
        "print(np.random.rand(4, 2))\n",
        "\n",
        "# With shape of other array\n",
        "print(np.random.random_sample(a.shape))"
      ],
      "metadata": {
        "colab": {
          "base_uri": "https://localhost:8080/"
        },
        "id": "rwILUaPOTNbI",
        "outputId": "b53867c7-5515-49ee-eab6-a5de581c2d79"
      },
      "execution_count": 49,
      "outputs": [
        {
          "output_type": "stream",
          "name": "stdout",
          "text": [
            "[[0.33535754 0.27246718]\n",
            " [0.19285817 0.75159163]\n",
            " [0.35598828 0.43954943]\n",
            " [0.02911239 0.81981667]]\n",
            "[[0.92378486 0.43181207 0.79723274 0.04922961 0.34102799 0.62462622\n",
            "  0.99582939]\n",
            " [0.10024347 0.34630488 0.34434077 0.08310565 0.08829457 0.16696367\n",
            "  0.12356994]]\n"
          ]
        }
      ]
    },
    {
      "cell_type": "code",
      "source": [
        "# Random integer values\n",
        "print(np.random.randint(7, size=(3, 3))) # 7 is exclusive\n",
        "\n",
        "print(np.random.randint(-2, 7, size=(3, 3)))"
      ],
      "metadata": {
        "colab": {
          "base_uri": "https://localhost:8080/"
        },
        "id": "2cGY8yabUE8a",
        "outputId": "d428c28c-59c1-41ff-fc32-b31c2cb85de6"
      },
      "execution_count": 51,
      "outputs": [
        {
          "output_type": "stream",
          "name": "stdout",
          "text": [
            "[[4 0 6]\n",
            " [1 1 6]\n",
            " [6 3 6]]\n",
            "[[ 4 -2  5]\n",
            " [ 2 -1  5]\n",
            " [ 3  3  1]]\n"
          ]
        }
      ]
    },
    {
      "cell_type": "code",
      "source": [
        "# The identity matrix\n",
        "np.identity(5)"
      ],
      "metadata": {
        "colab": {
          "base_uri": "https://localhost:8080/"
        },
        "id": "7PA7IvdhUE_3",
        "outputId": "f0e1b901-30b7-4d29-c511-d16d501d185c"
      },
      "execution_count": 53,
      "outputs": [
        {
          "output_type": "execute_result",
          "data": {
            "text/plain": [
              "array([[1., 0., 0., 0., 0.],\n",
              "       [0., 1., 0., 0., 0.],\n",
              "       [0., 0., 1., 0., 0.],\n",
              "       [0., 0., 0., 1., 0.],\n",
              "       [0., 0., 0., 0., 1.]])"
            ]
          },
          "metadata": {},
          "execution_count": 53
        }
      ]
    },
    {
      "cell_type": "code",
      "source": [
        "# Repeat an array\n",
        "arr = np.array([[1, 2, 3]])\n",
        "\n",
        "r1 = np.repeat(arr, 3, axis=0)\n",
        "print(r1)"
      ],
      "metadata": {
        "colab": {
          "base_uri": "https://localhost:8080/"
        },
        "id": "s-bUNlHBUnpG",
        "outputId": "2b9c326e-dd5c-4646-a993-aa0b77b6121d"
      },
      "execution_count": 58,
      "outputs": [
        {
          "output_type": "stream",
          "name": "stdout",
          "text": [
            "[[1 2 3]\n",
            " [1 2 3]\n",
            " [1 2 3]]\n"
          ]
        }
      ]
    },
    {
      "cell_type": "markdown",
      "source": [
        "# Problem #1"
      ],
      "metadata": {
        "id": "j5aVgdE5VMMb"
      }
    },
    {
      "cell_type": "code",
      "source": [
        "problem1 = np.ones((5, 5))\n",
        "\n",
        "print(problem1)\n",
        "\n",
        "problem1[1:-1, 1:-1] = 0\n",
        "\n",
        "print(problem1)\n",
        "\n",
        "problem1[2, 2] = 9\n",
        "\n",
        "print(problem1)"
      ],
      "metadata": {
        "colab": {
          "base_uri": "https://localhost:8080/"
        },
        "id": "9XPqyM_pVPk7",
        "outputId": "d1a60b1d-8b06-4eb1-cbbe-6c63be6a1151"
      },
      "execution_count": 60,
      "outputs": [
        {
          "output_type": "stream",
          "name": "stdout",
          "text": [
            "[[1. 1. 1. 1. 1.]\n",
            " [1. 1. 1. 1. 1.]\n",
            " [1. 1. 1. 1. 1.]\n",
            " [1. 1. 1. 1. 1.]\n",
            " [1. 1. 1. 1. 1.]]\n",
            "[[1. 1. 1. 1. 1.]\n",
            " [1. 0. 0. 0. 1.]\n",
            " [1. 0. 0. 0. 1.]\n",
            " [1. 0. 0. 0. 1.]\n",
            " [1. 1. 1. 1. 1.]]\n",
            "[[1. 1. 1. 1. 1.]\n",
            " [1. 0. 0. 0. 1.]\n",
            " [1. 0. 9. 0. 1.]\n",
            " [1. 0. 0. 0. 1.]\n",
            " [1. 1. 1. 1. 1.]]\n"
          ]
        }
      ]
    },
    {
      "cell_type": "markdown",
      "source": [
        "# Be careful when copying variables!"
      ],
      "metadata": {
        "id": "krDxL5f2V82e"
      }
    },
    {
      "cell_type": "code",
      "source": [
        "a = np.array([1, 2, 3])\n",
        "b = a\n",
        "\n",
        "b[0] = 100\n",
        "\n",
        "print(f\"a:{a}\")\n",
        "print(f\"b:{b}\")\n",
        "\n",
        "# Change b will also change a"
      ],
      "metadata": {
        "colab": {
          "base_uri": "https://localhost:8080/"
        },
        "id": "-za6UmcwU6Q0",
        "outputId": "5f44fb9b-5e35-4ea5-fbbf-815ffa40771c"
      },
      "execution_count": 63,
      "outputs": [
        {
          "output_type": "stream",
          "name": "stdout",
          "text": [
            "a:[100   2   3]\n",
            "b:[100   2   3]\n"
          ]
        }
      ]
    },
    {
      "cell_type": "code",
      "source": [
        "# Use .copy method\n",
        "c = a.copy()\n",
        "\n",
        "c[0] = 500\n",
        "\n",
        "print(f\"a:{a}\")\n",
        "print(f\"c:{c}\")"
      ],
      "metadata": {
        "colab": {
          "base_uri": "https://localhost:8080/"
        },
        "id": "b9_SLXN9WSxX",
        "outputId": "d9067dd1-3462-47de-86cb-618f30e174b3"
      },
      "execution_count": 65,
      "outputs": [
        {
          "output_type": "stream",
          "name": "stdout",
          "text": [
            "a:[100   2   3]\n",
            "c:[500   2   3]\n"
          ]
        }
      ]
    },
    {
      "cell_type": "markdown",
      "source": [
        "# Mathematics"
      ],
      "metadata": {
        "id": "QhFuCuv3WhY_"
      }
    },
    {
      "cell_type": "code",
      "source": [
        "a = np.array([1, -2, 3, 4])\n",
        "\n",
        "print(a)"
      ],
      "metadata": {
        "colab": {
          "base_uri": "https://localhost:8080/"
        },
        "id": "fYbARyVPTNed",
        "outputId": "e56a60e7-af85-454d-f490-2f57a052919c"
      },
      "execution_count": 66,
      "outputs": [
        {
          "output_type": "stream",
          "name": "stdout",
          "text": [
            "[ 1 -2  3  4]\n"
          ]
        }
      ]
    },
    {
      "cell_type": "code",
      "source": [
        "# Addition\n",
        "print(a + 2)"
      ],
      "metadata": {
        "colab": {
          "base_uri": "https://localhost:8080/"
        },
        "id": "3f3uP4WvTEYu",
        "outputId": "2d1fa245-5d2b-43b9-a93e-23388f2c768a"
      },
      "execution_count": 67,
      "outputs": [
        {
          "output_type": "stream",
          "name": "stdout",
          "text": [
            "[3 0 5 6]\n"
          ]
        }
      ]
    },
    {
      "cell_type": "code",
      "source": [
        "# Subtraction\n",
        "print(a - 2)"
      ],
      "metadata": {
        "colab": {
          "base_uri": "https://localhost:8080/"
        },
        "id": "ofOeRADfWyTb",
        "outputId": "15f00175-4dee-4116-808c-36b63ad58c80"
      },
      "execution_count": 68,
      "outputs": [
        {
          "output_type": "stream",
          "name": "stdout",
          "text": [
            "[-1 -4  1  2]\n"
          ]
        }
      ]
    },
    {
      "cell_type": "code",
      "source": [
        "# Multiplication\n",
        "print(a * 2)"
      ],
      "metadata": {
        "colab": {
          "base_uri": "https://localhost:8080/"
        },
        "id": "uKPNCHWQW1Ot",
        "outputId": "53a46d03-7c8b-481d-fdbd-eaeb3441bed3"
      },
      "execution_count": 69,
      "outputs": [
        {
          "output_type": "stream",
          "name": "stdout",
          "text": [
            "[ 2 -4  6  8]\n"
          ]
        }
      ]
    },
    {
      "cell_type": "code",
      "source": [
        "# Dividing\n",
        "print(a / 2)"
      ],
      "metadata": {
        "colab": {
          "base_uri": "https://localhost:8080/"
        },
        "id": "3zFGhGWrW4v9",
        "outputId": "6a90f8a5-58b7-43cc-8f66-dfe782dd0430"
      },
      "execution_count": 70,
      "outputs": [
        {
          "output_type": "stream",
          "name": "stdout",
          "text": [
            "[ 0.5 -1.   1.5  2. ]\n"
          ]
        }
      ]
    },
    {
      "cell_type": "code",
      "source": [
        "b = np.array([1, 2, 1, 2])\n",
        "\n",
        "print(a)\n",
        "print(b)"
      ],
      "metadata": {
        "colab": {
          "base_uri": "https://localhost:8080/"
        },
        "id": "IIByaGQ3W4zS",
        "outputId": "2e7b953b-dc37-4a2a-dfbb-ebf33f38330f"
      },
      "execution_count": 74,
      "outputs": [
        {
          "output_type": "stream",
          "name": "stdout",
          "text": [
            "[ 1 -2  3  4]\n",
            "[1 2 1 2]\n"
          ]
        }
      ]
    },
    {
      "cell_type": "code",
      "source": [
        "# Arithmetics two array\n",
        "print(a + b)\n",
        "print(a - b)\n",
        "print(a * b)\n",
        "print(a / b)"
      ],
      "metadata": {
        "colab": {
          "base_uri": "https://localhost:8080/"
        },
        "id": "2ufWmi0KW42K",
        "outputId": "9fea91af-b6a2-4334-d4b8-b67328ea386e"
      },
      "execution_count": 75,
      "outputs": [
        {
          "output_type": "stream",
          "name": "stdout",
          "text": [
            "[2 0 4 6]\n",
            "[ 0 -4  2  2]\n",
            "[ 1 -4  3  8]\n",
            "[ 1. -1.  3.  2.]\n"
          ]
        }
      ]
    },
    {
      "cell_type": "code",
      "source": [
        "# Power\n",
        "print(a ** 2)"
      ],
      "metadata": {
        "colab": {
          "base_uri": "https://localhost:8080/"
        },
        "id": "gZEh0VMYW45G",
        "outputId": "5ba197dd-4c03-4ae1-9821-3416e3f85a27"
      },
      "execution_count": 76,
      "outputs": [
        {
          "output_type": "stream",
          "name": "stdout",
          "text": [
            "[ 1  4  9 16]\n"
          ]
        }
      ]
    },
    {
      "cell_type": "code",
      "source": [
        "# Take the sin\n",
        "print(np.sin(a))\n",
        "\n",
        "# Take the cos\n",
        "print(np.cos(a))"
      ],
      "metadata": {
        "colab": {
          "base_uri": "https://localhost:8080/"
        },
        "id": "LFN-ALytWyWs",
        "outputId": "327b82be-38b1-424f-c407-c878656f7806"
      },
      "execution_count": 77,
      "outputs": [
        {
          "output_type": "stream",
          "name": "stdout",
          "text": [
            "[ 0.84147098 -0.90929743  0.14112001 -0.7568025 ]\n",
            "[ 0.54030231 -0.41614684 -0.9899925  -0.65364362]\n"
          ]
        }
      ]
    },
    {
      "cell_type": "code",
      "source": [],
      "metadata": {
        "id": "zRp6p1kjXrTi"
      },
      "execution_count": null,
      "outputs": []
    },
    {
      "cell_type": "code",
      "source": [],
      "metadata": {
        "id": "GElRTF_hXrWr"
      },
      "execution_count": null,
      "outputs": []
    },
    {
      "cell_type": "code",
      "source": [],
      "metadata": {
        "id": "kiUkYJxTXraE"
      },
      "execution_count": null,
      "outputs": []
    },
    {
      "cell_type": "code",
      "source": [],
      "metadata": {
        "id": "3MF4OK7fTEb5"
      },
      "execution_count": null,
      "outputs": []
    },
    {
      "cell_type": "code",
      "source": [],
      "metadata": {
        "id": "8Jt7EbnnPuNt"
      },
      "execution_count": null,
      "outputs": []
    }
  ]
}