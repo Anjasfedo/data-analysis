{
  "nbformat": 4,
  "nbformat_minor": 0,
  "metadata": {
    "colab": {
      "provenance": [],
      "authorship_tag": "ABX9TyPXPoyL2EbaonC/YfSGt2Zu",
      "include_colab_link": true
    },
    "kernelspec": {
      "name": "python3",
      "display_name": "Python 3"
    },
    "language_info": {
      "name": "python"
    }
  },
  "cells": [
    {
      "cell_type": "markdown",
      "metadata": {
        "id": "view-in-github",
        "colab_type": "text"
      },
      "source": [
        "<a href=\"https://colab.research.google.com/github/Anjasfedo/data-analysis/blob/main/Polars.ipynb\" target=\"_parent\"><img src=\"https://colab.research.google.com/assets/colab-badge.svg\" alt=\"Open In Colab\"/></a>"
      ]
    },
    {
      "cell_type": "code",
      "execution_count": 3,
      "metadata": {
        "colab": {
          "base_uri": "https://localhost:8080/",
          "height": 36
        },
        "id": "Du5mkfFAK4FV",
        "outputId": "d6a8dcae-a4d8-4f4f-fe0f-02386fdecfca"
      },
      "outputs": [
        {
          "output_type": "execute_result",
          "data": {
            "text/plain": [
              "'0.20.2'"
            ],
            "application/vnd.google.colaboratory.intrinsic+json": {
              "type": "string"
            }
          },
          "metadata": {},
          "execution_count": 3
        }
      ],
      "source": [
        "import polars as pl\n",
        "\n",
        "pl.__version__"
      ]
    },
    {
      "cell_type": "code",
      "source": [
        "series = pl.Series('age', [24, 20, 55, 44, 77, 16])\n",
        "\n",
        "series"
      ],
      "metadata": {
        "colab": {
          "base_uri": "https://localhost:8080/",
          "height": 286
        },
        "id": "3fpfN-CQLSlh",
        "outputId": "1a26ab8c-24b4-4af2-cdc1-d1255ecae192"
      },
      "execution_count": 6,
      "outputs": [
        {
          "output_type": "execute_result",
          "data": {
            "text/plain": [
              "shape: (6,)\n",
              "Series: 'age' [i64]\n",
              "[\n",
              "\t24\n",
              "\t20\n",
              "\t55\n",
              "\t44\n",
              "\t77\n",
              "\t16\n",
              "]"
            ],
            "text/html": [
              "<div><style>\n",
              ".dataframe > thead > tr,\n",
              ".dataframe > tbody > tr {\n",
              "  text-align: right;\n",
              "  white-space: pre-wrap;\n",
              "}\n",
              "</style>\n",
              "<small>shape: (6,)</small><table border=\"1\" class=\"dataframe\"><thead><tr><th>age</th></tr><tr><td>i64</td></tr></thead><tbody><tr><td>24</td></tr><tr><td>20</td></tr><tr><td>55</td></tr><tr><td>44</td></tr><tr><td>77</td></tr><tr><td>16</td></tr></tbody></table></div>"
            ]
          },
          "metadata": {},
          "execution_count": 6
        }
      ]
    },
    {
      "cell_type": "code",
      "source": [
        "print(f\"max: {series.max()}\")\n",
        "print(f\"min: {series.min()}\")\n",
        "print(f\"sum: {series.sum()}\")\n",
        "print(f\"mean: {series.mean()}\")\n",
        "print(f\"std: {series.std()}\")\n",
        "print(f\"count: {series.count()}\")"
      ],
      "metadata": {
        "colab": {
          "base_uri": "https://localhost:8080/"
        },
        "id": "-Zx0KW4-L_dB",
        "outputId": "304dbf74-37db-4ca1-bcee-558124222cd2"
      },
      "execution_count": 11,
      "outputs": [
        {
          "output_type": "stream",
          "name": "stdout",
          "text": [
            "max: 77\n",
            "min: 16\n",
            "sum: 236\n",
            "mean: 39.333333333333336\n",
            "std: 23.829953140253266\n",
            "count: 6\n"
          ]
        }
      ]
    },
    {
      "cell_type": "code",
      "source": [
        "print(series.describe())"
      ],
      "metadata": {
        "colab": {
          "base_uri": "https://localhost:8080/"
        },
        "id": "5QNtYTBLL_f5",
        "outputId": "4dade395-046f-41a5-e15b-48eeda51564d"
      },
      "execution_count": 12,
      "outputs": [
        {
          "output_type": "stream",
          "name": "stdout",
          "text": [
            "shape: (9, 2)\n",
            "┌────────────┬───────────┐\n",
            "│ statistic  ┆ value     │\n",
            "│ ---        ┆ ---       │\n",
            "│ str        ┆ f64       │\n",
            "╞════════════╪═══════════╡\n",
            "│ count      ┆ 6.0       │\n",
            "│ null_count ┆ 0.0       │\n",
            "│ mean       ┆ 39.333333 │\n",
            "│ std        ┆ 23.829953 │\n",
            "│ min        ┆ 16.0      │\n",
            "│ 25%        ┆ 20.0      │\n",
            "│ 50%        ┆ 44.0      │\n",
            "│ 75%        ┆ 55.0      │\n",
            "│ max        ┆ 77.0      │\n",
            "└────────────┴───────────┘\n"
          ]
        }
      ]
    },
    {
      "cell_type": "code",
      "source": [
        "print(f\"sort asc: {series.sort(descending=False)}\")\n",
        "print(f\"sort desc: {series.sort(descending=True)}\")"
      ],
      "metadata": {
        "colab": {
          "base_uri": "https://localhost:8080/"
        },
        "id": "Vi73aNaxMWiq",
        "outputId": "6e6a60b8-9da4-4610-bd5b-ef0aad69a37c"
      },
      "execution_count": 14,
      "outputs": [
        {
          "output_type": "stream",
          "name": "stdout",
          "text": [
            "sort asc: shape: (6,)\n",
            "Series: 'age' [i64]\n",
            "[\n",
            "\t16\n",
            "\t20\n",
            "\t24\n",
            "\t44\n",
            "\t55\n",
            "\t77\n",
            "]\n",
            "sort desc: shape: (6,)\n",
            "Series: 'age' [i64]\n",
            "[\n",
            "\t77\n",
            "\t55\n",
            "\t44\n",
            "\t24\n",
            "\t20\n",
            "\t16\n",
            "]\n"
          ]
        }
      ]
    },
    {
      "cell_type": "code",
      "source": [
        "series.to_pandas()"
      ],
      "metadata": {
        "colab": {
          "base_uri": "https://localhost:8080/"
        },
        "id": "hhKhJx5FMnBb",
        "outputId": "60a57ef0-08fa-4dbd-fb4a-23d937e04599"
      },
      "execution_count": 17,
      "outputs": [
        {
          "output_type": "execute_result",
          "data": {
            "text/plain": [
              "0    24\n",
              "1    20\n",
              "2    55\n",
              "3    44\n",
              "4    77\n",
              "5    16\n",
              "Name: age, dtype: int64"
            ]
          },
          "metadata": {},
          "execution_count": 17
        }
      ]
    },
    {
      "cell_type": "code",
      "source": [],
      "metadata": {
        "id": "MsGeu0neL_iw"
      },
      "execution_count": null,
      "outputs": []
    },
    {
      "cell_type": "code",
      "source": [],
      "metadata": {
        "id": "XB5lRrinL_lp"
      },
      "execution_count": null,
      "outputs": []
    },
    {
      "cell_type": "code",
      "source": [],
      "metadata": {
        "id": "fCzbJduvL_os"
      },
      "execution_count": null,
      "outputs": []
    },
    {
      "cell_type": "code",
      "source": [],
      "metadata": {
        "id": "xnARlpbgL_rf"
      },
      "execution_count": null,
      "outputs": []
    },
    {
      "cell_type": "code",
      "source": [],
      "metadata": {
        "id": "RX4SYLymL_uP"
      },
      "execution_count": null,
      "outputs": []
    },
    {
      "cell_type": "code",
      "source": [],
      "metadata": {
        "id": "r9MR1tuZL_xF"
      },
      "execution_count": null,
      "outputs": []
    },
    {
      "cell_type": "code",
      "source": [],
      "metadata": {
        "id": "uQlBqJEDMAH7"
      },
      "execution_count": null,
      "outputs": []
    },
    {
      "cell_type": "code",
      "source": [],
      "metadata": {
        "id": "C_R51ROQMAKi"
      },
      "execution_count": null,
      "outputs": []
    },
    {
      "cell_type": "code",
      "source": [],
      "metadata": {
        "id": "dIlyc67cMANH"
      },
      "execution_count": null,
      "outputs": []
    }
  ]
}