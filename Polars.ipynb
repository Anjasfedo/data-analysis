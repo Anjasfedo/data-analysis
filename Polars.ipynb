{
  "nbformat": 4,
  "nbformat_minor": 0,
  "metadata": {
    "colab": {
      "provenance": [],
      "authorship_tag": "ABX9TyN7s56tP8852jbyUZRx6HvO",
      "include_colab_link": true
    },
    "kernelspec": {
      "name": "python3",
      "display_name": "Python 3"
    },
    "language_info": {
      "name": "python"
    }
  },
  "cells": [
    {
      "cell_type": "markdown",
      "metadata": {
        "id": "view-in-github",
        "colab_type": "text"
      },
      "source": [
        "<a href=\"https://colab.research.google.com/github/Anjasfedo/data-analysis/blob/main/Polars.ipynb\" target=\"_parent\"><img src=\"https://colab.research.google.com/assets/colab-badge.svg\" alt=\"Open In Colab\"/></a>"
      ]
    },
    {
      "cell_type": "code",
      "execution_count": 3,
      "metadata": {
        "colab": {
          "base_uri": "https://localhost:8080/",
          "height": 36
        },
        "id": "Du5mkfFAK4FV",
        "outputId": "d6a8dcae-a4d8-4f4f-fe0f-02386fdecfca"
      },
      "outputs": [
        {
          "output_type": "execute_result",
          "data": {
            "text/plain": [
              "'0.20.2'"
            ],
            "application/vnd.google.colaboratory.intrinsic+json": {
              "type": "string"
            }
          },
          "metadata": {},
          "execution_count": 3
        }
      ],
      "source": [
        "import polars as pl\n",
        "\n",
        "pl.__version__"
      ]
    },
    {
      "cell_type": "code",
      "source": [
        "series = pl.Series('age', [24, 20, 55, 44, 77, 16])\n",
        "\n",
        "series"
      ],
      "metadata": {
        "colab": {
          "base_uri": "https://localhost:8080/",
          "height": 286
        },
        "id": "3fpfN-CQLSlh",
        "outputId": "1a26ab8c-24b4-4af2-cdc1-d1255ecae192"
      },
      "execution_count": 6,
      "outputs": [
        {
          "output_type": "execute_result",
          "data": {
            "text/plain": [
              "shape: (6,)\n",
              "Series: 'age' [i64]\n",
              "[\n",
              "\t24\n",
              "\t20\n",
              "\t55\n",
              "\t44\n",
              "\t77\n",
              "\t16\n",
              "]"
            ],
            "text/html": [
              "<div><style>\n",
              ".dataframe > thead > tr,\n",
              ".dataframe > tbody > tr {\n",
              "  text-align: right;\n",
              "  white-space: pre-wrap;\n",
              "}\n",
              "</style>\n",
              "<small>shape: (6,)</small><table border=\"1\" class=\"dataframe\"><thead><tr><th>age</th></tr><tr><td>i64</td></tr></thead><tbody><tr><td>24</td></tr><tr><td>20</td></tr><tr><td>55</td></tr><tr><td>44</td></tr><tr><td>77</td></tr><tr><td>16</td></tr></tbody></table></div>"
            ]
          },
          "metadata": {},
          "execution_count": 6
        }
      ]
    }
  ]
}