{
  "nbformat": 4,
  "nbformat_minor": 0,
  "metadata": {
    "colab": {
      "provenance": [],
      "authorship_tag": "ABX9TyMcvOy6sl0lxCOXzYzb88tD",
      "include_colab_link": true
    },
    "kernelspec": {
      "name": "python3",
      "display_name": "Python 3"
    },
    "language_info": {
      "name": "python"
    }
  },
  "cells": [
    {
      "cell_type": "markdown",
      "metadata": {
        "id": "view-in-github",
        "colab_type": "text"
      },
      "source": [
        "<a href=\"https://colab.research.google.com/github/Anjasfedo/data-analysis/blob/main/Polars.ipynb\" target=\"_parent\"><img src=\"https://colab.research.google.com/assets/colab-badge.svg\" alt=\"Open In Colab\"/></a>"
      ]
    },
    {
      "cell_type": "code",
      "execution_count": 38,
      "metadata": {
        "colab": {
          "base_uri": "https://localhost:8080/",
          "height": 36
        },
        "id": "Du5mkfFAK4FV",
        "outputId": "60e57c21-b9eb-4a5c-b4bf-21d54250da58"
      },
      "outputs": [
        {
          "output_type": "execute_result",
          "data": {
            "text/plain": [
              "'0.20.2'"
            ],
            "application/vnd.google.colaboratory.intrinsic+json": {
              "type": "string"
            }
          },
          "metadata": {},
          "execution_count": 38
        }
      ],
      "source": [
        "import polars as pl\n",
        "\n",
        "pl.__version__"
      ]
    },
    {
      "cell_type": "code",
      "source": [
        "!pip install -U polars\n",
        "\n",
        "import polars as pl\n",
        "\n",
        "pl.__version__"
      ],
      "metadata": {
        "colab": {
          "base_uri": "https://localhost:8080/",
          "height": 55
        },
        "id": "3WJ220mPOzE5",
        "outputId": "5dea074e-4025-48b2-cd8f-8f0141620b19"
      },
      "execution_count": 45,
      "outputs": [
        {
          "output_type": "stream",
          "name": "stdout",
          "text": [
            "Requirement already satisfied: polars in /usr/local/lib/python3.10/dist-packages (1.0.0)\n"
          ]
        },
        {
          "output_type": "execute_result",
          "data": {
            "text/plain": [
              "'0.20.2'"
            ],
            "application/vnd.google.colaboratory.intrinsic+json": {
              "type": "string"
            }
          },
          "metadata": {},
          "execution_count": 45
        }
      ]
    },
    {
      "cell_type": "markdown",
      "source": [
        "# Series"
      ],
      "metadata": {
        "id": "JahTpt2uM29u"
      }
    },
    {
      "cell_type": "code",
      "source": [
        "series = pl.Series('age', [24, 20, 55, 44, 77, 16])\n",
        "\n",
        "series"
      ],
      "metadata": {
        "colab": {
          "base_uri": "https://localhost:8080/",
          "height": 286
        },
        "id": "3fpfN-CQLSlh",
        "outputId": "1a26ab8c-24b4-4af2-cdc1-d1255ecae192"
      },
      "execution_count": 6,
      "outputs": [
        {
          "output_type": "execute_result",
          "data": {
            "text/plain": [
              "shape: (6,)\n",
              "Series: 'age' [i64]\n",
              "[\n",
              "\t24\n",
              "\t20\n",
              "\t55\n",
              "\t44\n",
              "\t77\n",
              "\t16\n",
              "]"
            ],
            "text/html": [
              "<div><style>\n",
              ".dataframe > thead > tr,\n",
              ".dataframe > tbody > tr {\n",
              "  text-align: right;\n",
              "  white-space: pre-wrap;\n",
              "}\n",
              "</style>\n",
              "<small>shape: (6,)</small><table border=\"1\" class=\"dataframe\"><thead><tr><th>age</th></tr><tr><td>i64</td></tr></thead><tbody><tr><td>24</td></tr><tr><td>20</td></tr><tr><td>55</td></tr><tr><td>44</td></tr><tr><td>77</td></tr><tr><td>16</td></tr></tbody></table></div>"
            ]
          },
          "metadata": {},
          "execution_count": 6
        }
      ]
    },
    {
      "cell_type": "code",
      "source": [
        "print(f\"max: {series.max()}\")\n",
        "print(f\"min: {series.min()}\")\n",
        "print(f\"sum: {series.sum()}\")\n",
        "print(f\"mean: {series.mean()}\")\n",
        "print(f\"std: {series.std()}\")\n",
        "print(f\"count: {series.count()}\")"
      ],
      "metadata": {
        "colab": {
          "base_uri": "https://localhost:8080/"
        },
        "id": "-Zx0KW4-L_dB",
        "outputId": "304dbf74-37db-4ca1-bcee-558124222cd2"
      },
      "execution_count": 11,
      "outputs": [
        {
          "output_type": "stream",
          "name": "stdout",
          "text": [
            "max: 77\n",
            "min: 16\n",
            "sum: 236\n",
            "mean: 39.333333333333336\n",
            "std: 23.829953140253266\n",
            "count: 6\n"
          ]
        }
      ]
    },
    {
      "cell_type": "code",
      "source": [
        "print(series.describe())"
      ],
      "metadata": {
        "colab": {
          "base_uri": "https://localhost:8080/"
        },
        "id": "5QNtYTBLL_f5",
        "outputId": "4dade395-046f-41a5-e15b-48eeda51564d"
      },
      "execution_count": 12,
      "outputs": [
        {
          "output_type": "stream",
          "name": "stdout",
          "text": [
            "shape: (9, 2)\n",
            "┌────────────┬───────────┐\n",
            "│ statistic  ┆ value     │\n",
            "│ ---        ┆ ---       │\n",
            "│ str        ┆ f64       │\n",
            "╞════════════╪═══════════╡\n",
            "│ count      ┆ 6.0       │\n",
            "│ null_count ┆ 0.0       │\n",
            "│ mean       ┆ 39.333333 │\n",
            "│ std        ┆ 23.829953 │\n",
            "│ min        ┆ 16.0      │\n",
            "│ 25%        ┆ 20.0      │\n",
            "│ 50%        ┆ 44.0      │\n",
            "│ 75%        ┆ 55.0      │\n",
            "│ max        ┆ 77.0      │\n",
            "└────────────┴───────────┘\n"
          ]
        }
      ]
    },
    {
      "cell_type": "code",
      "source": [
        "print(f\"sort asc: {series.sort(descending=False)}\")\n",
        "print(f\"sort desc: {series.sort(descending=True)}\")"
      ],
      "metadata": {
        "colab": {
          "base_uri": "https://localhost:8080/"
        },
        "id": "Vi73aNaxMWiq",
        "outputId": "6e6a60b8-9da4-4610-bd5b-ef0aad69a37c"
      },
      "execution_count": 14,
      "outputs": [
        {
          "output_type": "stream",
          "name": "stdout",
          "text": [
            "sort asc: shape: (6,)\n",
            "Series: 'age' [i64]\n",
            "[\n",
            "\t16\n",
            "\t20\n",
            "\t24\n",
            "\t44\n",
            "\t55\n",
            "\t77\n",
            "]\n",
            "sort desc: shape: (6,)\n",
            "Series: 'age' [i64]\n",
            "[\n",
            "\t77\n",
            "\t55\n",
            "\t44\n",
            "\t24\n",
            "\t20\n",
            "\t16\n",
            "]\n"
          ]
        }
      ]
    },
    {
      "cell_type": "code",
      "source": [
        "series.to_pandas()"
      ],
      "metadata": {
        "colab": {
          "base_uri": "https://localhost:8080/"
        },
        "id": "hhKhJx5FMnBb",
        "outputId": "60a57ef0-08fa-4dbd-fb4a-23d937e04599"
      },
      "execution_count": 17,
      "outputs": [
        {
          "output_type": "execute_result",
          "data": {
            "text/plain": [
              "0    24\n",
              "1    20\n",
              "2    55\n",
              "3    44\n",
              "4    77\n",
              "5    16\n",
              "Name: age, dtype: int64"
            ]
          },
          "metadata": {},
          "execution_count": 17
        }
      ]
    },
    {
      "cell_type": "markdown",
      "source": [
        "# Dataframes"
      ],
      "metadata": {
        "id": "sMNKSChdM46q"
      }
    },
    {
      "cell_type": "code",
      "source": [
        "from datetime import date\n",
        "\n",
        "df = pl.DataFrame({\n",
        "    \"Employee ID\": [1, 2, 3, 4, 5],\n",
        "    \"Name\": [\"Alice\", \"Bob\", \"Charlie\", \"Dave\", \"Eve\"],\n",
        "    \"Age\": [25, 30, 35, 40, 45],\n",
        "    \"Dapartement\": [\"HR\", \"Engineering\", \"Finance\", \"HR\", \"Finance\"],\n",
        "    \"Salary\": [50000, 60000, 70000, 80000, 90000],\n",
        "    \"Start Date\": [date(2023, 5, 21), date(2023, 5, 22), date(2023, 5, 23), date(2023, 5, 24), date(2023, 5, 25)]\n",
        "})\n",
        "\n",
        "df"
      ],
      "metadata": {
        "colab": {
          "base_uri": "https://localhost:8080/",
          "height": 255
        },
        "id": "MsGeu0neL_iw",
        "outputId": "bac91d37-eaf7-4a37-c36d-0ebdebdbe94e"
      },
      "execution_count": 20,
      "outputs": [
        {
          "output_type": "execute_result",
          "data": {
            "text/plain": [
              "shape: (5, 6)\n",
              "┌─────────────┬─────────┬─────┬─────────────┬────────┬────────────┐\n",
              "│ Employee ID ┆ Name    ┆ Age ┆ Dapartement ┆ Salary ┆ Start Date │\n",
              "│ ---         ┆ ---     ┆ --- ┆ ---         ┆ ---    ┆ ---        │\n",
              "│ i64         ┆ str     ┆ i64 ┆ str         ┆ i64    ┆ date       │\n",
              "╞═════════════╪═════════╪═════╪═════════════╪════════╪════════════╡\n",
              "│ 1           ┆ Alice   ┆ 25  ┆ HR          ┆ 50000  ┆ 2023-05-21 │\n",
              "│ 2           ┆ Bob     ┆ 30  ┆ Engineering ┆ 60000  ┆ 2023-05-22 │\n",
              "│ 3           ┆ Charlie ┆ 35  ┆ Finance     ┆ 70000  ┆ 2023-05-23 │\n",
              "│ 4           ┆ Dave    ┆ 40  ┆ HR          ┆ 80000  ┆ 2023-05-24 │\n",
              "│ 5           ┆ Eve     ┆ 45  ┆ Finance     ┆ 90000  ┆ 2023-05-25 │\n",
              "└─────────────┴─────────┴─────┴─────────────┴────────┴────────────┘"
            ],
            "text/html": [
              "<div><style>\n",
              ".dataframe > thead > tr,\n",
              ".dataframe > tbody > tr {\n",
              "  text-align: right;\n",
              "  white-space: pre-wrap;\n",
              "}\n",
              "</style>\n",
              "<small>shape: (5, 6)</small><table border=\"1\" class=\"dataframe\"><thead><tr><th>Employee ID</th><th>Name</th><th>Age</th><th>Dapartement</th><th>Salary</th><th>Start Date</th></tr><tr><td>i64</td><td>str</td><td>i64</td><td>str</td><td>i64</td><td>date</td></tr></thead><tbody><tr><td>1</td><td>&quot;Alice&quot;</td><td>25</td><td>&quot;HR&quot;</td><td>50000</td><td>2023-05-21</td></tr><tr><td>2</td><td>&quot;Bob&quot;</td><td>30</td><td>&quot;Engineering&quot;</td><td>60000</td><td>2023-05-22</td></tr><tr><td>3</td><td>&quot;Charlie&quot;</td><td>35</td><td>&quot;Finance&quot;</td><td>70000</td><td>2023-05-23</td></tr><tr><td>4</td><td>&quot;Dave&quot;</td><td>40</td><td>&quot;HR&quot;</td><td>80000</td><td>2023-05-24</td></tr><tr><td>5</td><td>&quot;Eve&quot;</td><td>45</td><td>&quot;Finance&quot;</td><td>90000</td><td>2023-05-25</td></tr></tbody></table></div>"
            ]
          },
          "metadata": {},
          "execution_count": 20
        }
      ]
    },
    {
      "cell_type": "code",
      "source": [
        "df.head(2)"
      ],
      "metadata": {
        "colab": {
          "base_uri": "https://localhost:8080/",
          "height": 161
        },
        "id": "_4cP4W1HNiGx",
        "outputId": "29c8af11-9c94-416c-fc83-173612fd2138"
      },
      "execution_count": 22,
      "outputs": [
        {
          "output_type": "execute_result",
          "data": {
            "text/plain": [
              "shape: (2, 6)\n",
              "┌─────────────┬───────┬─────┬─────────────┬────────┬────────────┐\n",
              "│ Employee ID ┆ Name  ┆ Age ┆ Dapartement ┆ Salary ┆ Start Date │\n",
              "│ ---         ┆ ---   ┆ --- ┆ ---         ┆ ---    ┆ ---        │\n",
              "│ i64         ┆ str   ┆ i64 ┆ str         ┆ i64    ┆ date       │\n",
              "╞═════════════╪═══════╪═════╪═════════════╪════════╪════════════╡\n",
              "│ 1           ┆ Alice ┆ 25  ┆ HR          ┆ 50000  ┆ 2023-05-21 │\n",
              "│ 2           ┆ Bob   ┆ 30  ┆ Engineering ┆ 60000  ┆ 2023-05-22 │\n",
              "└─────────────┴───────┴─────┴─────────────┴────────┴────────────┘"
            ],
            "text/html": [
              "<div><style>\n",
              ".dataframe > thead > tr,\n",
              ".dataframe > tbody > tr {\n",
              "  text-align: right;\n",
              "  white-space: pre-wrap;\n",
              "}\n",
              "</style>\n",
              "<small>shape: (2, 6)</small><table border=\"1\" class=\"dataframe\"><thead><tr><th>Employee ID</th><th>Name</th><th>Age</th><th>Dapartement</th><th>Salary</th><th>Start Date</th></tr><tr><td>i64</td><td>str</td><td>i64</td><td>str</td><td>i64</td><td>date</td></tr></thead><tbody><tr><td>1</td><td>&quot;Alice&quot;</td><td>25</td><td>&quot;HR&quot;</td><td>50000</td><td>2023-05-21</td></tr><tr><td>2</td><td>&quot;Bob&quot;</td><td>30</td><td>&quot;Engineering&quot;</td><td>60000</td><td>2023-05-22</td></tr></tbody></table></div>"
            ]
          },
          "metadata": {},
          "execution_count": 22
        }
      ]
    },
    {
      "cell_type": "code",
      "source": [
        "df.tail(3)"
      ],
      "metadata": {
        "colab": {
          "base_uri": "https://localhost:8080/",
          "height": 192
        },
        "id": "X4MJvuhoNkh-",
        "outputId": "63eff767-2fd4-42c2-c3cc-bb4df91ce122"
      },
      "execution_count": 23,
      "outputs": [
        {
          "output_type": "execute_result",
          "data": {
            "text/plain": [
              "shape: (3, 6)\n",
              "┌─────────────┬─────────┬─────┬─────────────┬────────┬────────────┐\n",
              "│ Employee ID ┆ Name    ┆ Age ┆ Dapartement ┆ Salary ┆ Start Date │\n",
              "│ ---         ┆ ---     ┆ --- ┆ ---         ┆ ---    ┆ ---        │\n",
              "│ i64         ┆ str     ┆ i64 ┆ str         ┆ i64    ┆ date       │\n",
              "╞═════════════╪═════════╪═════╪═════════════╪════════╪════════════╡\n",
              "│ 3           ┆ Charlie ┆ 35  ┆ Finance     ┆ 70000  ┆ 2023-05-23 │\n",
              "│ 4           ┆ Dave    ┆ 40  ┆ HR          ┆ 80000  ┆ 2023-05-24 │\n",
              "│ 5           ┆ Eve     ┆ 45  ┆ Finance     ┆ 90000  ┆ 2023-05-25 │\n",
              "└─────────────┴─────────┴─────┴─────────────┴────────┴────────────┘"
            ],
            "text/html": [
              "<div><style>\n",
              ".dataframe > thead > tr,\n",
              ".dataframe > tbody > tr {\n",
              "  text-align: right;\n",
              "  white-space: pre-wrap;\n",
              "}\n",
              "</style>\n",
              "<small>shape: (3, 6)</small><table border=\"1\" class=\"dataframe\"><thead><tr><th>Employee ID</th><th>Name</th><th>Age</th><th>Dapartement</th><th>Salary</th><th>Start Date</th></tr><tr><td>i64</td><td>str</td><td>i64</td><td>str</td><td>i64</td><td>date</td></tr></thead><tbody><tr><td>3</td><td>&quot;Charlie&quot;</td><td>35</td><td>&quot;Finance&quot;</td><td>70000</td><td>2023-05-23</td></tr><tr><td>4</td><td>&quot;Dave&quot;</td><td>40</td><td>&quot;HR&quot;</td><td>80000</td><td>2023-05-24</td></tr><tr><td>5</td><td>&quot;Eve&quot;</td><td>45</td><td>&quot;Finance&quot;</td><td>90000</td><td>2023-05-25</td></tr></tbody></table></div>"
            ]
          },
          "metadata": {},
          "execution_count": 23
        }
      ]
    },
    {
      "cell_type": "code",
      "source": [
        "df.describe()"
      ],
      "metadata": {
        "colab": {
          "base_uri": "https://localhost:8080/",
          "height": 380
        },
        "id": "grBZscIpNmqu",
        "outputId": "16aeccbd-48a1-46b7-ad81-eb76a0e7a8d8"
      },
      "execution_count": 24,
      "outputs": [
        {
          "output_type": "execute_result",
          "data": {
            "text/plain": [
              "shape: (9, 7)\n",
              "┌────────────┬─────────────┬───────┬──────────┬─────────────┬──────────────┬────────────┐\n",
              "│ describe   ┆ Employee ID ┆ Name  ┆ Age      ┆ Dapartement ┆ Salary       ┆ Start Date │\n",
              "│ ---        ┆ ---         ┆ ---   ┆ ---      ┆ ---         ┆ ---          ┆ ---        │\n",
              "│ str        ┆ f64         ┆ str   ┆ f64      ┆ str         ┆ f64          ┆ str        │\n",
              "╞════════════╪═════════════╪═══════╪══════════╪═════════════╪══════════════╪════════════╡\n",
              "│ count      ┆ 5.0         ┆ 5     ┆ 5.0      ┆ 5           ┆ 5.0          ┆ 5          │\n",
              "│ null_count ┆ 0.0         ┆ 0     ┆ 0.0      ┆ 0           ┆ 0.0          ┆ 0          │\n",
              "│ mean       ┆ 3.0         ┆ null  ┆ 35.0     ┆ null        ┆ 70000.0      ┆ null       │\n",
              "│ std        ┆ 1.581139    ┆ null  ┆ 7.905694 ┆ null        ┆ 15811.388301 ┆ null       │\n",
              "│ min        ┆ 1.0         ┆ Alice ┆ 25.0     ┆ Engineering ┆ 50000.0      ┆ 2023-05-21 │\n",
              "│ 25%        ┆ 2.0         ┆ null  ┆ 30.0     ┆ null        ┆ 60000.0      ┆ null       │\n",
              "│ 50%        ┆ 3.0         ┆ null  ┆ 35.0     ┆ null        ┆ 70000.0      ┆ null       │\n",
              "│ 75%        ┆ 4.0         ┆ null  ┆ 40.0     ┆ null        ┆ 80000.0      ┆ null       │\n",
              "│ max        ┆ 5.0         ┆ Eve   ┆ 45.0     ┆ HR          ┆ 90000.0      ┆ 2023-05-25 │\n",
              "└────────────┴─────────────┴───────┴──────────┴─────────────┴──────────────┴────────────┘"
            ],
            "text/html": [
              "<div><style>\n",
              ".dataframe > thead > tr,\n",
              ".dataframe > tbody > tr {\n",
              "  text-align: right;\n",
              "  white-space: pre-wrap;\n",
              "}\n",
              "</style>\n",
              "<small>shape: (9, 7)</small><table border=\"1\" class=\"dataframe\"><thead><tr><th>describe</th><th>Employee ID</th><th>Name</th><th>Age</th><th>Dapartement</th><th>Salary</th><th>Start Date</th></tr><tr><td>str</td><td>f64</td><td>str</td><td>f64</td><td>str</td><td>f64</td><td>str</td></tr></thead><tbody><tr><td>&quot;count&quot;</td><td>5.0</td><td>&quot;5&quot;</td><td>5.0</td><td>&quot;5&quot;</td><td>5.0</td><td>&quot;5&quot;</td></tr><tr><td>&quot;null_count&quot;</td><td>0.0</td><td>&quot;0&quot;</td><td>0.0</td><td>&quot;0&quot;</td><td>0.0</td><td>&quot;0&quot;</td></tr><tr><td>&quot;mean&quot;</td><td>3.0</td><td>null</td><td>35.0</td><td>null</td><td>70000.0</td><td>null</td></tr><tr><td>&quot;std&quot;</td><td>1.581139</td><td>null</td><td>7.905694</td><td>null</td><td>15811.388301</td><td>null</td></tr><tr><td>&quot;min&quot;</td><td>1.0</td><td>&quot;Alice&quot;</td><td>25.0</td><td>&quot;Engineering&quot;</td><td>50000.0</td><td>&quot;2023-05-21&quot;</td></tr><tr><td>&quot;25%&quot;</td><td>2.0</td><td>null</td><td>30.0</td><td>null</td><td>60000.0</td><td>null</td></tr><tr><td>&quot;50%&quot;</td><td>3.0</td><td>null</td><td>35.0</td><td>null</td><td>70000.0</td><td>null</td></tr><tr><td>&quot;75%&quot;</td><td>4.0</td><td>null</td><td>40.0</td><td>null</td><td>80000.0</td><td>null</td></tr><tr><td>&quot;max&quot;</td><td>5.0</td><td>&quot;Eve&quot;</td><td>45.0</td><td>&quot;HR&quot;</td><td>90000.0</td><td>&quot;2023-05-25&quot;</td></tr></tbody></table></div>"
            ]
          },
          "metadata": {},
          "execution_count": 24
        }
      ]
    },
    {
      "cell_type": "code",
      "source": [
        "df.schema"
      ],
      "metadata": {
        "colab": {
          "base_uri": "https://localhost:8080/"
        },
        "id": "3jauW5doNw9l",
        "outputId": "e0eb1591-f12e-4fd4-bd7e-bba809954f5e"
      },
      "execution_count": 26,
      "outputs": [
        {
          "output_type": "execute_result",
          "data": {
            "text/plain": [
              "OrderedDict([('Employee ID', Int64),\n",
              "             ('Name', Utf8),\n",
              "             ('Age', Int64),\n",
              "             ('Dapartement', Utf8),\n",
              "             ('Salary', Int64),\n",
              "             ('Start Date', Date)])"
            ]
          },
          "metadata": {},
          "execution_count": 26
        }
      ]
    },
    {
      "cell_type": "markdown",
      "source": [
        "## Selecting Column"
      ],
      "metadata": {
        "id": "4Dv5_IYgN2YE"
      }
    },
    {
      "cell_type": "code",
      "source": [
        "df_selected = df.select(\"Name\", \"Age\")\n",
        "\n",
        "df_selected"
      ],
      "metadata": {
        "colab": {
          "base_uri": "https://localhost:8080/",
          "height": 255
        },
        "id": "LEZ8PMfyNz44",
        "outputId": "9a29c4a3-dba6-4a46-ca85-4cd3966d775f"
      },
      "execution_count": 27,
      "outputs": [
        {
          "output_type": "execute_result",
          "data": {
            "text/plain": [
              "shape: (5, 2)\n",
              "┌─────────┬─────┐\n",
              "│ Name    ┆ Age │\n",
              "│ ---     ┆ --- │\n",
              "│ str     ┆ i64 │\n",
              "╞═════════╪═════╡\n",
              "│ Alice   ┆ 25  │\n",
              "│ Bob     ┆ 30  │\n",
              "│ Charlie ┆ 35  │\n",
              "│ Dave    ┆ 40  │\n",
              "│ Eve     ┆ 45  │\n",
              "└─────────┴─────┘"
            ],
            "text/html": [
              "<div><style>\n",
              ".dataframe > thead > tr,\n",
              ".dataframe > tbody > tr {\n",
              "  text-align: right;\n",
              "  white-space: pre-wrap;\n",
              "}\n",
              "</style>\n",
              "<small>shape: (5, 2)</small><table border=\"1\" class=\"dataframe\"><thead><tr><th>Name</th><th>Age</th></tr><tr><td>str</td><td>i64</td></tr></thead><tbody><tr><td>&quot;Alice&quot;</td><td>25</td></tr><tr><td>&quot;Bob&quot;</td><td>30</td></tr><tr><td>&quot;Charlie&quot;</td><td>35</td></tr><tr><td>&quot;Dave&quot;</td><td>40</td></tr><tr><td>&quot;Eve&quot;</td><td>45</td></tr></tbody></table></div>"
            ]
          },
          "metadata": {},
          "execution_count": 27
        }
      ]
    },
    {
      "cell_type": "code",
      "source": [
        "df[[\"Name\", \"Age\"]]"
      ],
      "metadata": {
        "colab": {
          "base_uri": "https://localhost:8080/",
          "height": 255
        },
        "id": "q7FMuiX2OFze",
        "outputId": "2bd6bd67-702f-4f5b-ee3b-9bddd9f93247"
      },
      "execution_count": 35,
      "outputs": [
        {
          "output_type": "execute_result",
          "data": {
            "text/plain": [
              "shape: (5, 2)\n",
              "┌─────────┬─────┐\n",
              "│ Name    ┆ Age │\n",
              "│ ---     ┆ --- │\n",
              "│ str     ┆ i64 │\n",
              "╞═════════╪═════╡\n",
              "│ Alice   ┆ 25  │\n",
              "│ Bob     ┆ 30  │\n",
              "│ Charlie ┆ 35  │\n",
              "│ Dave    ┆ 40  │\n",
              "│ Eve     ┆ 45  │\n",
              "└─────────┴─────┘"
            ],
            "text/html": [
              "<div><style>\n",
              ".dataframe > thead > tr,\n",
              ".dataframe > tbody > tr {\n",
              "  text-align: right;\n",
              "  white-space: pre-wrap;\n",
              "}\n",
              "</style>\n",
              "<small>shape: (5, 2)</small><table border=\"1\" class=\"dataframe\"><thead><tr><th>Name</th><th>Age</th></tr><tr><td>str</td><td>i64</td></tr></thead><tbody><tr><td>&quot;Alice&quot;</td><td>25</td></tr><tr><td>&quot;Bob&quot;</td><td>30</td></tr><tr><td>&quot;Charlie&quot;</td><td>35</td></tr><tr><td>&quot;Dave&quot;</td><td>40</td></tr><tr><td>&quot;Eve&quot;</td><td>45</td></tr></tbody></table></div>"
            ]
          },
          "metadata": {},
          "execution_count": 35
        }
      ]
    },
    {
      "cell_type": "markdown",
      "source": [
        "## Selecting Row"
      ],
      "metadata": {
        "id": "eAM42uMsOeVE"
      }
    },
    {
      "cell_type": "code",
      "source": [
        "df.filter(pl.col(\"Age\") > 30)"
      ],
      "metadata": {
        "colab": {
          "base_uri": "https://localhost:8080/",
          "height": 192
        },
        "id": "yZ0s58vEOdTU",
        "outputId": "62770c35-1e35-447b-de6f-aaeba194b137"
      },
      "execution_count": 36,
      "outputs": [
        {
          "output_type": "execute_result",
          "data": {
            "text/plain": [
              "shape: (3, 6)\n",
              "┌─────────────┬─────────┬─────┬─────────────┬────────┬────────────┐\n",
              "│ Employee ID ┆ Name    ┆ Age ┆ Dapartement ┆ Salary ┆ Start Date │\n",
              "│ ---         ┆ ---     ┆ --- ┆ ---         ┆ ---    ┆ ---        │\n",
              "│ i64         ┆ str     ┆ i64 ┆ str         ┆ i64    ┆ date       │\n",
              "╞═════════════╪═════════╪═════╪═════════════╪════════╪════════════╡\n",
              "│ 3           ┆ Charlie ┆ 35  ┆ Finance     ┆ 70000  ┆ 2023-05-23 │\n",
              "│ 4           ┆ Dave    ┆ 40  ┆ HR          ┆ 80000  ┆ 2023-05-24 │\n",
              "│ 5           ┆ Eve     ┆ 45  ┆ Finance     ┆ 90000  ┆ 2023-05-25 │\n",
              "└─────────────┴─────────┴─────┴─────────────┴────────┴────────────┘"
            ],
            "text/html": [
              "<div><style>\n",
              ".dataframe > thead > tr,\n",
              ".dataframe > tbody > tr {\n",
              "  text-align: right;\n",
              "  white-space: pre-wrap;\n",
              "}\n",
              "</style>\n",
              "<small>shape: (3, 6)</small><table border=\"1\" class=\"dataframe\"><thead><tr><th>Employee ID</th><th>Name</th><th>Age</th><th>Dapartement</th><th>Salary</th><th>Start Date</th></tr><tr><td>i64</td><td>str</td><td>i64</td><td>str</td><td>i64</td><td>date</td></tr></thead><tbody><tr><td>3</td><td>&quot;Charlie&quot;</td><td>35</td><td>&quot;Finance&quot;</td><td>70000</td><td>2023-05-23</td></tr><tr><td>4</td><td>&quot;Dave&quot;</td><td>40</td><td>&quot;HR&quot;</td><td>80000</td><td>2023-05-24</td></tr><tr><td>5</td><td>&quot;Eve&quot;</td><td>45</td><td>&quot;Finance&quot;</td><td>90000</td><td>2023-05-25</td></tr></tbody></table></div>"
            ]
          },
          "metadata": {},
          "execution_count": 36
        }
      ]
    },
    {
      "cell_type": "code",
      "source": [
        "df.filter(pl.col(\"Dapartement\") == \"HR\")"
      ],
      "metadata": {
        "colab": {
          "base_uri": "https://localhost:8080/",
          "height": 161
        },
        "id": "XB5lRrinL_lp",
        "outputId": "444d4537-78f5-4590-b722-6ecf2352ecb9"
      },
      "execution_count": 47,
      "outputs": [
        {
          "output_type": "execute_result",
          "data": {
            "text/plain": [
              "shape: (2, 6)\n",
              "┌─────────────┬───────┬─────┬─────────────┬────────┬────────────┐\n",
              "│ Employee ID ┆ Name  ┆ Age ┆ Dapartement ┆ Salary ┆ Start Date │\n",
              "│ ---         ┆ ---   ┆ --- ┆ ---         ┆ ---    ┆ ---        │\n",
              "│ i64         ┆ str   ┆ i64 ┆ str         ┆ i64    ┆ date       │\n",
              "╞═════════════╪═══════╪═════╪═════════════╪════════╪════════════╡\n",
              "│ 1           ┆ Alice ┆ 25  ┆ HR          ┆ 50000  ┆ 2023-05-21 │\n",
              "│ 4           ┆ Dave  ┆ 40  ┆ HR          ┆ 80000  ┆ 2023-05-24 │\n",
              "└─────────────┴───────┴─────┴─────────────┴────────┴────────────┘"
            ],
            "text/html": [
              "<div><style>\n",
              ".dataframe > thead > tr,\n",
              ".dataframe > tbody > tr {\n",
              "  text-align: right;\n",
              "  white-space: pre-wrap;\n",
              "}\n",
              "</style>\n",
              "<small>shape: (2, 6)</small><table border=\"1\" class=\"dataframe\"><thead><tr><th>Employee ID</th><th>Name</th><th>Age</th><th>Dapartement</th><th>Salary</th><th>Start Date</th></tr><tr><td>i64</td><td>str</td><td>i64</td><td>str</td><td>i64</td><td>date</td></tr></thead><tbody><tr><td>1</td><td>&quot;Alice&quot;</td><td>25</td><td>&quot;HR&quot;</td><td>50000</td><td>2023-05-21</td></tr><tr><td>4</td><td>&quot;Dave&quot;</td><td>40</td><td>&quot;HR&quot;</td><td>80000</td><td>2023-05-24</td></tr></tbody></table></div>"
            ]
          },
          "metadata": {},
          "execution_count": 47
        }
      ]
    },
    {
      "cell_type": "code",
      "source": [
        "df.filter(pl.col(\"Dapartement\") == 'Finance', pl.col(\"Age\") > 40)"
      ],
      "metadata": {
        "colab": {
          "base_uri": "https://localhost:8080/",
          "height": 129
        },
        "id": "zmcnP_jDQFsF",
        "outputId": "8f1aff01-300d-440a-f281-59489750b9db"
      },
      "execution_count": 52,
      "outputs": [
        {
          "output_type": "execute_result",
          "data": {
            "text/plain": [
              "shape: (1, 6)\n",
              "┌─────────────┬──────┬─────┬─────────────┬────────┬────────────┐\n",
              "│ Employee ID ┆ Name ┆ Age ┆ Dapartement ┆ Salary ┆ Start Date │\n",
              "│ ---         ┆ ---  ┆ --- ┆ ---         ┆ ---    ┆ ---        │\n",
              "│ i64         ┆ str  ┆ i64 ┆ str         ┆ i64    ┆ date       │\n",
              "╞═════════════╪══════╪═════╪═════════════╪════════╪════════════╡\n",
              "│ 5           ┆ Eve  ┆ 45  ┆ Finance     ┆ 90000  ┆ 2023-05-25 │\n",
              "└─────────────┴──────┴─────┴─────────────┴────────┴────────────┘"
            ],
            "text/html": [
              "<div><style>\n",
              ".dataframe > thead > tr,\n",
              ".dataframe > tbody > tr {\n",
              "  text-align: right;\n",
              "  white-space: pre-wrap;\n",
              "}\n",
              "</style>\n",
              "<small>shape: (1, 6)</small><table border=\"1\" class=\"dataframe\"><thead><tr><th>Employee ID</th><th>Name</th><th>Age</th><th>Dapartement</th><th>Salary</th><th>Start Date</th></tr><tr><td>i64</td><td>str</td><td>i64</td><td>str</td><td>i64</td><td>date</td></tr></thead><tbody><tr><td>5</td><td>&quot;Eve&quot;</td><td>45</td><td>&quot;Finance&quot;</td><td>90000</td><td>2023-05-25</td></tr></tbody></table></div>"
            ]
          },
          "metadata": {},
          "execution_count": 52
        }
      ]
    },
    {
      "cell_type": "markdown",
      "source": [
        "## Adding & Dropping Column"
      ],
      "metadata": {
        "id": "AKiREkURQZon"
      }
    },
    {
      "cell_type": "code",
      "source": [],
      "metadata": {
        "id": "xnARlpbgL_rf"
      },
      "execution_count": null,
      "outputs": []
    },
    {
      "cell_type": "code",
      "source": [],
      "metadata": {
        "id": "RX4SYLymL_uP"
      },
      "execution_count": null,
      "outputs": []
    },
    {
      "cell_type": "code",
      "source": [],
      "metadata": {
        "id": "r9MR1tuZL_xF"
      },
      "execution_count": null,
      "outputs": []
    },
    {
      "cell_type": "code",
      "source": [],
      "metadata": {
        "id": "uQlBqJEDMAH7"
      },
      "execution_count": null,
      "outputs": []
    },
    {
      "cell_type": "code",
      "source": [],
      "metadata": {
        "id": "C_R51ROQMAKi"
      },
      "execution_count": null,
      "outputs": []
    },
    {
      "cell_type": "code",
      "source": [],
      "metadata": {
        "id": "dIlyc67cMANH"
      },
      "execution_count": null,
      "outputs": []
    }
  ]
}